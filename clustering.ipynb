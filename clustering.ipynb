{
 "cells": [
  {
   "cell_type": "code",
   "execution_count": 118,
   "metadata": {},
   "outputs": [],
   "source": [
    "import pandas as pd\n",
    "import umap\n",
    "import numpy as np\n",
    "import matplotlib.pyplot as plt\n",
    "import seaborn as sns\n",
    "# import umap.plot\n",
    "\n",
    "import SEACells\n",
    "import h5py\n",
    "import collections\n",
    "import scipy.sparse as sp_sparse\n",
    "from scipy.sparse import csr_matrix\n",
    "import scanpy as sc\n",
    "import anndata"
   ]
  },
  {
   "cell_type": "code",
   "execution_count": 161,
   "metadata": {},
   "outputs": [],
   "source": [
    "dataset_dir = '../data/'\n",
    "save_dir = '../data/NGJ/'\n",
    "dataset = \"NGJ_experiment_2_filtered_feature_bc_matrix.h5\"\n",
    "switch_dataset = \"switch_genelist.csv\"\n",
    "gene_length_dataset = \"gene_len.csv\""
   ]
  },
  {
   "cell_type": "markdown",
   "metadata": {},
   "source": [
    "# Read switches"
   ]
  },
  {
   "cell_type": "code",
   "execution_count": 120,
   "metadata": {},
   "outputs": [],
   "source": [
    "switch_df = pd.read_csv(dataset_dir + switch_dataset, index_col=0)\n",
    "# drop first column\n",
    "switch_df = switch_df.drop(switch_df.columns[0], axis=1)\n",
    "\n",
    "# switch df to dict\n",
    "switch_dict = {}\n",
    "for row in switch_df.index:\n",
    "\tswitch_dict[row] = switch_df.loc[row].dropna().tolist()"
   ]
  },
  {
   "cell_type": "markdown",
   "metadata": {},
   "source": [
    "# Read Reference Matrix"
   ]
  },
  {
   "cell_type": "code",
   "execution_count": 121,
   "metadata": {},
   "outputs": [
    {
     "name": "stderr",
     "output_type": "stream",
     "text": [
      "/opt/homebrew/lib/python3.10/site-packages/anndata/_core/anndata.py:1830: UserWarning: Variable names are not unique. To make them unique, call `.var_names_make_unique`.\n",
      "  utils.warn_names_duplicates(\"var\")\n"
     ]
    },
    {
     "data": {
      "text/plain": [
       "AnnData object with n_obs × n_vars = 1905 × 36601\n",
       "    var: 'gene_ids', 'feature_types', 'genome'"
      ]
     },
     "execution_count": 121,
     "metadata": {},
     "output_type": "execute_result"
    }
   ],
   "source": [
    "adata = sc.read_10x_h5(dataset_dir + dataset)\n",
    "adata"
   ]
  },
  {
   "cell_type": "code",
   "execution_count": 122,
   "metadata": {},
   "outputs": [],
   "source": [
    "# make var names unique\n",
    "adata.var_names_make_unique()"
   ]
  },
  {
   "cell_type": "code",
   "execution_count": 123,
   "metadata": {},
   "outputs": [],
   "source": [
    "raw_ad = sc.AnnData(adata.X)\n",
    "raw_ad.obs_names, raw_ad.var_names = adata.obs_names, adata.var_names\n",
    "adata.raw = raw_ad"
   ]
  },
  {
   "cell_type": "code",
   "execution_count": 124,
   "metadata": {},
   "outputs": [],
   "source": [
    "# compute highly variable cells\n",
    "sc.pp.normalize_per_cell(adata, copy=True)\n",
    "sc.pp.log1p(adata)\n",
    "sc.pp.highly_variable_genes(adata, n_top_genes=3660, subset=False) # n_top_genes = 36601 * 0.1\n",
    "highly_variable_genes = adata.var['highly_variable']"
   ]
  },
  {
   "cell_type": "code",
   "execution_count": 125,
   "metadata": {},
   "outputs": [],
   "source": [
    "# reset raw data\n",
    "adata.X = adata.raw.X[:, :]"
   ]
  },
  {
   "cell_type": "code",
   "execution_count": 126,
   "metadata": {},
   "outputs": [
    {
     "data": {
      "text/html": [
       "<div>\n",
       "<style scoped>\n",
       "    .dataframe tbody tr th:only-of-type {\n",
       "        vertical-align: middle;\n",
       "    }\n",
       "\n",
       "    .dataframe tbody tr th {\n",
       "        vertical-align: top;\n",
       "    }\n",
       "\n",
       "    .dataframe thead th {\n",
       "        text-align: right;\n",
       "    }\n",
       "</style>\n",
       "<table border=\"1\" class=\"dataframe\">\n",
       "  <thead>\n",
       "    <tr style=\"text-align: right;\">\n",
       "      <th></th>\n",
       "      <th>gene_length</th>\n",
       "    </tr>\n",
       "  </thead>\n",
       "  <tbody>\n",
       "    <tr>\n",
       "      <th>ENSG00000121410</th>\n",
       "      <td>8315</td>\n",
       "    </tr>\n",
       "    <tr>\n",
       "      <th>ENSG00000148584</th>\n",
       "      <td>86267</td>\n",
       "    </tr>\n",
       "    <tr>\n",
       "      <th>ENSG00000175899</th>\n",
       "      <td>48566</td>\n",
       "    </tr>\n",
       "    <tr>\n",
       "      <th>ENSG00000166535</th>\n",
       "      <td>64381</td>\n",
       "    </tr>\n",
       "    <tr>\n",
       "      <th>ENSG00000184389</th>\n",
       "      <td>14333</td>\n",
       "    </tr>\n",
       "  </tbody>\n",
       "</table>\n",
       "</div>"
      ],
      "text/plain": [
       "                 gene_length\n",
       "ENSG00000121410         8315\n",
       "ENSG00000148584        86267\n",
       "ENSG00000175899        48566\n",
       "ENSG00000166535        64381\n",
       "ENSG00000184389        14333"
      ]
     },
     "execution_count": 126,
     "metadata": {},
     "output_type": "execute_result"
    }
   ],
   "source": [
    "# load gene length data\n",
    "gene_length = pd.read_csv(dataset_dir + gene_length_dataset).T\n",
    "gene_length.columns = ['gene_length']\n",
    "gene_length = gene_length.drop(gene_length.index[0])\n",
    "gene_length.head()"
   ]
  },
  {
   "cell_type": "code",
   "execution_count": 127,
   "metadata": {},
   "outputs": [
    {
     "data": {
      "text/html": [
       "<div>\n",
       "<style scoped>\n",
       "    .dataframe tbody tr th:only-of-type {\n",
       "        vertical-align: middle;\n",
       "    }\n",
       "\n",
       "    .dataframe tbody tr th {\n",
       "        vertical-align: top;\n",
       "    }\n",
       "\n",
       "    .dataframe thead th {\n",
       "        text-align: right;\n",
       "    }\n",
       "</style>\n",
       "<table border=\"1\" class=\"dataframe\">\n",
       "  <thead>\n",
       "    <tr style=\"text-align: right;\">\n",
       "      <th></th>\n",
       "      <th>AAACCCAAGCAGCACA-1</th>\n",
       "      <th>AAACGAAAGACCGTTT-1</th>\n",
       "      <th>AAACGAAAGGGCGAAG-1</th>\n",
       "      <th>AAACGCTTCCTCGCAT-1</th>\n",
       "      <th>AAAGAACAGGGAGGAC-1</th>\n",
       "      <th>AAAGGATCATACCATG-1</th>\n",
       "      <th>AAAGGATTCTCGACGG-1</th>\n",
       "      <th>AAAGGGCTCAGCTAGT-1</th>\n",
       "      <th>AAAGGTACAGGTTCAT-1</th>\n",
       "      <th>AAAGGTAGTCCCAAAT-1</th>\n",
       "      <th>...</th>\n",
       "      <th>TTTGATCGTTATCTGG-1</th>\n",
       "      <th>TTTGGAGCAAATGATG-1</th>\n",
       "      <th>TTTGGAGGTATGTCAC-1</th>\n",
       "      <th>TTTGGAGGTGCCTGAC-1</th>\n",
       "      <th>TTTGGAGTCAAATGCC-1</th>\n",
       "      <th>TTTGGTTGTCACGTGC-1</th>\n",
       "      <th>TTTGTTGGTGACACAG-1</th>\n",
       "      <th>TTTGTTGTCAAATGAG-1</th>\n",
       "      <th>gene_name</th>\n",
       "      <th>gene_length</th>\n",
       "    </tr>\n",
       "    <tr>\n",
       "      <th>gene_ids</th>\n",
       "      <th></th>\n",
       "      <th></th>\n",
       "      <th></th>\n",
       "      <th></th>\n",
       "      <th></th>\n",
       "      <th></th>\n",
       "      <th></th>\n",
       "      <th></th>\n",
       "      <th></th>\n",
       "      <th></th>\n",
       "      <th></th>\n",
       "      <th></th>\n",
       "      <th></th>\n",
       "      <th></th>\n",
       "      <th></th>\n",
       "      <th></th>\n",
       "      <th></th>\n",
       "      <th></th>\n",
       "      <th></th>\n",
       "      <th></th>\n",
       "      <th></th>\n",
       "    </tr>\n",
       "  </thead>\n",
       "  <tbody>\n",
       "    <tr>\n",
       "      <th>ENSG00000186092</th>\n",
       "      <td>0.0</td>\n",
       "      <td>0.0</td>\n",
       "      <td>0.0</td>\n",
       "      <td>0.0</td>\n",
       "      <td>0.0</td>\n",
       "      <td>0.0</td>\n",
       "      <td>0.0</td>\n",
       "      <td>0.0</td>\n",
       "      <td>0.0</td>\n",
       "      <td>0.0</td>\n",
       "      <td>...</td>\n",
       "      <td>0.0</td>\n",
       "      <td>0.0</td>\n",
       "      <td>0.0</td>\n",
       "      <td>0.0</td>\n",
       "      <td>0.0</td>\n",
       "      <td>0.0</td>\n",
       "      <td>0.0</td>\n",
       "      <td>0.0</td>\n",
       "      <td>OR4F5</td>\n",
       "      <td>6167</td>\n",
       "    </tr>\n",
       "    <tr>\n",
       "      <th>ENSG00000284733</th>\n",
       "      <td>0.0</td>\n",
       "      <td>0.0</td>\n",
       "      <td>0.0</td>\n",
       "      <td>0.0</td>\n",
       "      <td>0.0</td>\n",
       "      <td>0.0</td>\n",
       "      <td>0.0</td>\n",
       "      <td>0.0</td>\n",
       "      <td>0.0</td>\n",
       "      <td>0.0</td>\n",
       "      <td>...</td>\n",
       "      <td>0.0</td>\n",
       "      <td>0.0</td>\n",
       "      <td>0.0</td>\n",
       "      <td>0.0</td>\n",
       "      <td>0.0</td>\n",
       "      <td>0.0</td>\n",
       "      <td>0.0</td>\n",
       "      <td>0.0</td>\n",
       "      <td>OR4F29</td>\n",
       "      <td>939</td>\n",
       "    </tr>\n",
       "    <tr>\n",
       "      <th>ENSG00000284662</th>\n",
       "      <td>0.0</td>\n",
       "      <td>0.0</td>\n",
       "      <td>0.0</td>\n",
       "      <td>0.0</td>\n",
       "      <td>0.0</td>\n",
       "      <td>0.0</td>\n",
       "      <td>0.0</td>\n",
       "      <td>0.0</td>\n",
       "      <td>0.0</td>\n",
       "      <td>0.0</td>\n",
       "      <td>...</td>\n",
       "      <td>0.0</td>\n",
       "      <td>0.0</td>\n",
       "      <td>0.0</td>\n",
       "      <td>0.0</td>\n",
       "      <td>0.0</td>\n",
       "      <td>0.0</td>\n",
       "      <td>0.0</td>\n",
       "      <td>0.0</td>\n",
       "      <td>OR4F16</td>\n",
       "      <td>939</td>\n",
       "    </tr>\n",
       "    <tr>\n",
       "      <th>ENSG00000187634</th>\n",
       "      <td>0.0</td>\n",
       "      <td>0.0</td>\n",
       "      <td>0.0</td>\n",
       "      <td>0.0</td>\n",
       "      <td>0.0</td>\n",
       "      <td>0.0</td>\n",
       "      <td>0.0</td>\n",
       "      <td>0.0</td>\n",
       "      <td>0.0</td>\n",
       "      <td>0.0</td>\n",
       "      <td>...</td>\n",
       "      <td>0.0</td>\n",
       "      <td>0.0</td>\n",
       "      <td>0.0</td>\n",
       "      <td>0.0</td>\n",
       "      <td>0.0</td>\n",
       "      <td>0.0</td>\n",
       "      <td>0.0</td>\n",
       "      <td>0.0</td>\n",
       "      <td>SAMD11</td>\n",
       "      <td>20653</td>\n",
       "    </tr>\n",
       "    <tr>\n",
       "      <th>ENSG00000188976</th>\n",
       "      <td>0.0</td>\n",
       "      <td>0.0</td>\n",
       "      <td>0.0</td>\n",
       "      <td>0.0</td>\n",
       "      <td>0.0</td>\n",
       "      <td>0.0</td>\n",
       "      <td>0.0</td>\n",
       "      <td>0.0</td>\n",
       "      <td>0.0</td>\n",
       "      <td>0.0</td>\n",
       "      <td>...</td>\n",
       "      <td>0.0</td>\n",
       "      <td>0.0</td>\n",
       "      <td>0.0</td>\n",
       "      <td>0.0</td>\n",
       "      <td>0.0</td>\n",
       "      <td>0.0</td>\n",
       "      <td>0.0</td>\n",
       "      <td>0.0</td>\n",
       "      <td>NOC2L</td>\n",
       "      <td>15107</td>\n",
       "    </tr>\n",
       "  </tbody>\n",
       "</table>\n",
       "<p>5 rows × 1907 columns</p>\n",
       "</div>"
      ],
      "text/plain": [
       "                 AAACCCAAGCAGCACA-1  AAACGAAAGACCGTTT-1  AAACGAAAGGGCGAAG-1  \\\n",
       "gene_ids                                                                      \n",
       "ENSG00000186092                 0.0                 0.0                 0.0   \n",
       "ENSG00000284733                 0.0                 0.0                 0.0   \n",
       "ENSG00000284662                 0.0                 0.0                 0.0   \n",
       "ENSG00000187634                 0.0                 0.0                 0.0   \n",
       "ENSG00000188976                 0.0                 0.0                 0.0   \n",
       "\n",
       "                 AAACGCTTCCTCGCAT-1  AAAGAACAGGGAGGAC-1  AAAGGATCATACCATG-1  \\\n",
       "gene_ids                                                                      \n",
       "ENSG00000186092                 0.0                 0.0                 0.0   \n",
       "ENSG00000284733                 0.0                 0.0                 0.0   \n",
       "ENSG00000284662                 0.0                 0.0                 0.0   \n",
       "ENSG00000187634                 0.0                 0.0                 0.0   \n",
       "ENSG00000188976                 0.0                 0.0                 0.0   \n",
       "\n",
       "                 AAAGGATTCTCGACGG-1  AAAGGGCTCAGCTAGT-1  AAAGGTACAGGTTCAT-1  \\\n",
       "gene_ids                                                                      \n",
       "ENSG00000186092                 0.0                 0.0                 0.0   \n",
       "ENSG00000284733                 0.0                 0.0                 0.0   \n",
       "ENSG00000284662                 0.0                 0.0                 0.0   \n",
       "ENSG00000187634                 0.0                 0.0                 0.0   \n",
       "ENSG00000188976                 0.0                 0.0                 0.0   \n",
       "\n",
       "                 AAAGGTAGTCCCAAAT-1  ...  TTTGATCGTTATCTGG-1  \\\n",
       "gene_ids                             ...                       \n",
       "ENSG00000186092                 0.0  ...                 0.0   \n",
       "ENSG00000284733                 0.0  ...                 0.0   \n",
       "ENSG00000284662                 0.0  ...                 0.0   \n",
       "ENSG00000187634                 0.0  ...                 0.0   \n",
       "ENSG00000188976                 0.0  ...                 0.0   \n",
       "\n",
       "                 TTTGGAGCAAATGATG-1  TTTGGAGGTATGTCAC-1  TTTGGAGGTGCCTGAC-1  \\\n",
       "gene_ids                                                                      \n",
       "ENSG00000186092                 0.0                 0.0                 0.0   \n",
       "ENSG00000284733                 0.0                 0.0                 0.0   \n",
       "ENSG00000284662                 0.0                 0.0                 0.0   \n",
       "ENSG00000187634                 0.0                 0.0                 0.0   \n",
       "ENSG00000188976                 0.0                 0.0                 0.0   \n",
       "\n",
       "                 TTTGGAGTCAAATGCC-1  TTTGGTTGTCACGTGC-1  TTTGTTGGTGACACAG-1  \\\n",
       "gene_ids                                                                      \n",
       "ENSG00000186092                 0.0                 0.0                 0.0   \n",
       "ENSG00000284733                 0.0                 0.0                 0.0   \n",
       "ENSG00000284662                 0.0                 0.0                 0.0   \n",
       "ENSG00000187634                 0.0                 0.0                 0.0   \n",
       "ENSG00000188976                 0.0                 0.0                 0.0   \n",
       "\n",
       "                 TTTGTTGTCAAATGAG-1  gene_name  gene_length  \n",
       "gene_ids                                                     \n",
       "ENSG00000186092                 0.0      OR4F5         6167  \n",
       "ENSG00000284733                 0.0     OR4F29          939  \n",
       "ENSG00000284662                 0.0     OR4F16          939  \n",
       "ENSG00000187634                 0.0     SAMD11        20653  \n",
       "ENSG00000188976                 0.0      NOC2L        15107  \n",
       "\n",
       "[5 rows x 1907 columns]"
      ]
     },
     "execution_count": 127,
     "metadata": {},
     "output_type": "execute_result"
    }
   ],
   "source": [
    "# Extract gene expression matrix\n",
    "gene_expr_matrix = adata.X\n",
    "# Convert the gene expression matrix to a pandas DataFrame\n",
    "gene_expr_df = pd.DataFrame.sparse.from_spmatrix(gene_expr_matrix, index=adata.obs_names, columns=adata.var['gene_ids']).T\n",
    "\n",
    "# add gene name column\n",
    "gene_expr_df['gene_name'] = adata.var_names\n",
    "\n",
    "# Ensure both index names match for merging\n",
    "gene_expr_df.index.name = 'gene_ids'\n",
    "gene_length.index.name = 'gene_ids'\n",
    "\n",
    "# Merge gene expression with gene lengths based on gene IDs\n",
    "merged_data = pd.merge(gene_expr_df, gene_length, left_index=True, right_index=True)\n",
    "merged_data.head()"
   ]
  },
  {
   "cell_type": "code",
   "execution_count": 128,
   "metadata": {},
   "outputs": [],
   "source": [
    "# Calculate RPKM + 1\n",
    "total_reads = merged_data.iloc[:, :-2].sum(axis=0)\n",
    "rpkm = (merged_data.iloc[:, :-2].div(merged_data['gene_length'], axis=0) * 1e9).div(total_reads, axis=1) + 1"
   ]
  },
  {
   "cell_type": "code",
   "execution_count": 129,
   "metadata": {},
   "outputs": [
    {
     "data": {
      "text/html": [
       "<div>\n",
       "<style scoped>\n",
       "    .dataframe tbody tr th:only-of-type {\n",
       "        vertical-align: middle;\n",
       "    }\n",
       "\n",
       "    .dataframe tbody tr th {\n",
       "        vertical-align: top;\n",
       "    }\n",
       "\n",
       "    .dataframe thead th {\n",
       "        text-align: right;\n",
       "    }\n",
       "</style>\n",
       "<table border=\"1\" class=\"dataframe\">\n",
       "  <thead>\n",
       "    <tr style=\"text-align: right;\">\n",
       "      <th></th>\n",
       "      <th>AAACCCAAGCAGCACA-1</th>\n",
       "      <th>AAACGAAAGACCGTTT-1</th>\n",
       "      <th>AAACGAAAGGGCGAAG-1</th>\n",
       "      <th>AAACGCTTCCTCGCAT-1</th>\n",
       "      <th>AAAGAACAGGGAGGAC-1</th>\n",
       "      <th>AAAGGATCATACCATG-1</th>\n",
       "      <th>AAAGGATTCTCGACGG-1</th>\n",
       "      <th>AAAGGGCTCAGCTAGT-1</th>\n",
       "      <th>AAAGGTACAGGTTCAT-1</th>\n",
       "      <th>AAAGGTAGTCCCAAAT-1</th>\n",
       "      <th>...</th>\n",
       "      <th>TTTGATCCAATGCTCA-1</th>\n",
       "      <th>TTTGATCCATGACAAA-1</th>\n",
       "      <th>TTTGATCGTTATCTGG-1</th>\n",
       "      <th>TTTGGAGCAAATGATG-1</th>\n",
       "      <th>TTTGGAGGTATGTCAC-1</th>\n",
       "      <th>TTTGGAGGTGCCTGAC-1</th>\n",
       "      <th>TTTGGAGTCAAATGCC-1</th>\n",
       "      <th>TTTGGTTGTCACGTGC-1</th>\n",
       "      <th>TTTGTTGGTGACACAG-1</th>\n",
       "      <th>TTTGTTGTCAAATGAG-1</th>\n",
       "    </tr>\n",
       "    <tr>\n",
       "      <th>gene_name</th>\n",
       "      <th></th>\n",
       "      <th></th>\n",
       "      <th></th>\n",
       "      <th></th>\n",
       "      <th></th>\n",
       "      <th></th>\n",
       "      <th></th>\n",
       "      <th></th>\n",
       "      <th></th>\n",
       "      <th></th>\n",
       "      <th></th>\n",
       "      <th></th>\n",
       "      <th></th>\n",
       "      <th></th>\n",
       "      <th></th>\n",
       "      <th></th>\n",
       "      <th></th>\n",
       "      <th></th>\n",
       "      <th></th>\n",
       "      <th></th>\n",
       "      <th></th>\n",
       "    </tr>\n",
       "  </thead>\n",
       "  <tbody>\n",
       "    <tr>\n",
       "      <th>OR4F5</th>\n",
       "      <td>1.0</td>\n",
       "      <td>1.0</td>\n",
       "      <td>1.0</td>\n",
       "      <td>1.0</td>\n",
       "      <td>1.0</td>\n",
       "      <td>1.0</td>\n",
       "      <td>1.0</td>\n",
       "      <td>1.0</td>\n",
       "      <td>1.0</td>\n",
       "      <td>1.0</td>\n",
       "      <td>...</td>\n",
       "      <td>1.000000</td>\n",
       "      <td>1.0</td>\n",
       "      <td>1.0</td>\n",
       "      <td>1.0</td>\n",
       "      <td>1.0</td>\n",
       "      <td>1.0</td>\n",
       "      <td>1.0</td>\n",
       "      <td>1.0</td>\n",
       "      <td>1.0</td>\n",
       "      <td>1.0</td>\n",
       "    </tr>\n",
       "    <tr>\n",
       "      <th>OR4F29</th>\n",
       "      <td>1.0</td>\n",
       "      <td>1.0</td>\n",
       "      <td>1.0</td>\n",
       "      <td>1.0</td>\n",
       "      <td>1.0</td>\n",
       "      <td>1.0</td>\n",
       "      <td>1.0</td>\n",
       "      <td>1.0</td>\n",
       "      <td>1.0</td>\n",
       "      <td>1.0</td>\n",
       "      <td>...</td>\n",
       "      <td>1.000000</td>\n",
       "      <td>1.0</td>\n",
       "      <td>1.0</td>\n",
       "      <td>1.0</td>\n",
       "      <td>1.0</td>\n",
       "      <td>1.0</td>\n",
       "      <td>1.0</td>\n",
       "      <td>1.0</td>\n",
       "      <td>1.0</td>\n",
       "      <td>1.0</td>\n",
       "    </tr>\n",
       "    <tr>\n",
       "      <th>OR4F16</th>\n",
       "      <td>1.0</td>\n",
       "      <td>1.0</td>\n",
       "      <td>1.0</td>\n",
       "      <td>1.0</td>\n",
       "      <td>1.0</td>\n",
       "      <td>1.0</td>\n",
       "      <td>1.0</td>\n",
       "      <td>1.0</td>\n",
       "      <td>1.0</td>\n",
       "      <td>1.0</td>\n",
       "      <td>...</td>\n",
       "      <td>1.000000</td>\n",
       "      <td>1.0</td>\n",
       "      <td>1.0</td>\n",
       "      <td>1.0</td>\n",
       "      <td>1.0</td>\n",
       "      <td>1.0</td>\n",
       "      <td>1.0</td>\n",
       "      <td>1.0</td>\n",
       "      <td>1.0</td>\n",
       "      <td>1.0</td>\n",
       "    </tr>\n",
       "    <tr>\n",
       "      <th>SAMD11</th>\n",
       "      <td>1.0</td>\n",
       "      <td>1.0</td>\n",
       "      <td>1.0</td>\n",
       "      <td>1.0</td>\n",
       "      <td>1.0</td>\n",
       "      <td>1.0</td>\n",
       "      <td>1.0</td>\n",
       "      <td>1.0</td>\n",
       "      <td>1.0</td>\n",
       "      <td>1.0</td>\n",
       "      <td>...</td>\n",
       "      <td>1.000000</td>\n",
       "      <td>1.0</td>\n",
       "      <td>1.0</td>\n",
       "      <td>1.0</td>\n",
       "      <td>1.0</td>\n",
       "      <td>1.0</td>\n",
       "      <td>1.0</td>\n",
       "      <td>1.0</td>\n",
       "      <td>1.0</td>\n",
       "      <td>1.0</td>\n",
       "    </tr>\n",
       "    <tr>\n",
       "      <th>NOC2L</th>\n",
       "      <td>1.0</td>\n",
       "      <td>1.0</td>\n",
       "      <td>1.0</td>\n",
       "      <td>1.0</td>\n",
       "      <td>1.0</td>\n",
       "      <td>1.0</td>\n",
       "      <td>1.0</td>\n",
       "      <td>1.0</td>\n",
       "      <td>1.0</td>\n",
       "      <td>1.0</td>\n",
       "      <td>...</td>\n",
       "      <td>8.826257</td>\n",
       "      <td>1.0</td>\n",
       "      <td>1.0</td>\n",
       "      <td>1.0</td>\n",
       "      <td>1.0</td>\n",
       "      <td>1.0</td>\n",
       "      <td>1.0</td>\n",
       "      <td>1.0</td>\n",
       "      <td>1.0</td>\n",
       "      <td>1.0</td>\n",
       "    </tr>\n",
       "  </tbody>\n",
       "</table>\n",
       "<p>5 rows × 1905 columns</p>\n",
       "</div>"
      ],
      "text/plain": [
       "           AAACCCAAGCAGCACA-1  AAACGAAAGACCGTTT-1  AAACGAAAGGGCGAAG-1  \\\n",
       "gene_name                                                               \n",
       "OR4F5                     1.0                 1.0                 1.0   \n",
       "OR4F29                    1.0                 1.0                 1.0   \n",
       "OR4F16                    1.0                 1.0                 1.0   \n",
       "SAMD11                    1.0                 1.0                 1.0   \n",
       "NOC2L                     1.0                 1.0                 1.0   \n",
       "\n",
       "           AAACGCTTCCTCGCAT-1  AAAGAACAGGGAGGAC-1  AAAGGATCATACCATG-1  \\\n",
       "gene_name                                                               \n",
       "OR4F5                     1.0                 1.0                 1.0   \n",
       "OR4F29                    1.0                 1.0                 1.0   \n",
       "OR4F16                    1.0                 1.0                 1.0   \n",
       "SAMD11                    1.0                 1.0                 1.0   \n",
       "NOC2L                     1.0                 1.0                 1.0   \n",
       "\n",
       "           AAAGGATTCTCGACGG-1  AAAGGGCTCAGCTAGT-1  AAAGGTACAGGTTCAT-1  \\\n",
       "gene_name                                                               \n",
       "OR4F5                     1.0                 1.0                 1.0   \n",
       "OR4F29                    1.0                 1.0                 1.0   \n",
       "OR4F16                    1.0                 1.0                 1.0   \n",
       "SAMD11                    1.0                 1.0                 1.0   \n",
       "NOC2L                     1.0                 1.0                 1.0   \n",
       "\n",
       "           AAAGGTAGTCCCAAAT-1  ...  TTTGATCCAATGCTCA-1  TTTGATCCATGACAAA-1  \\\n",
       "gene_name                      ...                                           \n",
       "OR4F5                     1.0  ...            1.000000                 1.0   \n",
       "OR4F29                    1.0  ...            1.000000                 1.0   \n",
       "OR4F16                    1.0  ...            1.000000                 1.0   \n",
       "SAMD11                    1.0  ...            1.000000                 1.0   \n",
       "NOC2L                     1.0  ...            8.826257                 1.0   \n",
       "\n",
       "           TTTGATCGTTATCTGG-1  TTTGGAGCAAATGATG-1  TTTGGAGGTATGTCAC-1  \\\n",
       "gene_name                                                               \n",
       "OR4F5                     1.0                 1.0                 1.0   \n",
       "OR4F29                    1.0                 1.0                 1.0   \n",
       "OR4F16                    1.0                 1.0                 1.0   \n",
       "SAMD11                    1.0                 1.0                 1.0   \n",
       "NOC2L                     1.0                 1.0                 1.0   \n",
       "\n",
       "           TTTGGAGGTGCCTGAC-1  TTTGGAGTCAAATGCC-1  TTTGGTTGTCACGTGC-1  \\\n",
       "gene_name                                                               \n",
       "OR4F5                     1.0                 1.0                 1.0   \n",
       "OR4F29                    1.0                 1.0                 1.0   \n",
       "OR4F16                    1.0                 1.0                 1.0   \n",
       "SAMD11                    1.0                 1.0                 1.0   \n",
       "NOC2L                     1.0                 1.0                 1.0   \n",
       "\n",
       "           TTTGTTGGTGACACAG-1  TTTGTTGTCAAATGAG-1  \n",
       "gene_name                                          \n",
       "OR4F5                     1.0                 1.0  \n",
       "OR4F29                    1.0                 1.0  \n",
       "OR4F16                    1.0                 1.0  \n",
       "SAMD11                    1.0                 1.0  \n",
       "NOC2L                     1.0                 1.0  \n",
       "\n",
       "[5 rows x 1905 columns]"
      ]
     },
     "execution_count": 129,
     "metadata": {},
     "output_type": "execute_result"
    }
   ],
   "source": [
    "rpkm.index = merged_data['gene_name']\n",
    "rpkm.head()"
   ]
  },
  {
   "cell_type": "code",
   "execution_count": 130,
   "metadata": {},
   "outputs": [
    {
     "name": "stderr",
     "output_type": "stream",
     "text": [
      "/var/folders/mp/0ylvhbys7zl0gsbx35x33lfw0000gp/T/ipykernel_51338/1535364600.py:2: FutureWarning: The behavior of .astype from SparseDtype to a non-sparse dtype is deprecated. In a future version, this will return a non-sparse array with the requested dtype. To retain the old behavior, use `obj.astype(SparseDtype(dtype))`\n",
      "  rpkm.to_csv(dataset_dir + 'rpkm.csv')\n"
     ]
    }
   ],
   "source": [
    "# save RPKM for future reference\n",
    "rpkm.to_csv(save_dir + 'rpkm.csv')"
   ]
  },
  {
   "cell_type": "markdown",
   "metadata": {},
   "source": [
    "# Clustering pipeline"
   ]
  },
  {
   "cell_type": "markdown",
   "metadata": {},
   "source": [
    "## Create anndata for genes in JS"
   ]
  },
  {
   "cell_type": "code",
   "execution_count": 132,
   "metadata": {},
   "outputs": [],
   "source": [
    "REPRESENT = \"gene\""
   ]
  },
  {
   "cell_type": "code",
   "execution_count": 133,
   "metadata": {},
   "outputs": [
    {
     "data": {
      "text/html": [
       "<div>\n",
       "<style scoped>\n",
       "    .dataframe tbody tr th:only-of-type {\n",
       "        vertical-align: middle;\n",
       "    }\n",
       "\n",
       "    .dataframe tbody tr th {\n",
       "        vertical-align: top;\n",
       "    }\n",
       "\n",
       "    .dataframe thead th {\n",
       "        text-align: right;\n",
       "    }\n",
       "</style>\n",
       "<table border=\"1\" class=\"dataframe\">\n",
       "  <thead>\n",
       "    <tr style=\"text-align: right;\">\n",
       "      <th></th>\n",
       "      <th>AAACCCAAGCAGCACA-1</th>\n",
       "      <th>AAACGAAAGACCGTTT-1</th>\n",
       "      <th>AAACGAAAGGGCGAAG-1</th>\n",
       "      <th>AAACGCTTCCTCGCAT-1</th>\n",
       "      <th>AAAGAACAGGGAGGAC-1</th>\n",
       "      <th>AAAGGATCATACCATG-1</th>\n",
       "      <th>AAAGGATTCTCGACGG-1</th>\n",
       "      <th>AAAGGGCTCAGCTAGT-1</th>\n",
       "      <th>AAAGGTACAGGTTCAT-1</th>\n",
       "      <th>AAAGGTAGTCCCAAAT-1</th>\n",
       "      <th>...</th>\n",
       "      <th>TTTGATCCAATGCTCA-1</th>\n",
       "      <th>TTTGATCCATGACAAA-1</th>\n",
       "      <th>TTTGATCGTTATCTGG-1</th>\n",
       "      <th>TTTGGAGCAAATGATG-1</th>\n",
       "      <th>TTTGGAGGTATGTCAC-1</th>\n",
       "      <th>TTTGGAGGTGCCTGAC-1</th>\n",
       "      <th>TTTGGAGTCAAATGCC-1</th>\n",
       "      <th>TTTGGTTGTCACGTGC-1</th>\n",
       "      <th>TTTGTTGGTGACACAG-1</th>\n",
       "      <th>TTTGTTGTCAAATGAG-1</th>\n",
       "    </tr>\n",
       "    <tr>\n",
       "      <th>gene_name</th>\n",
       "      <th></th>\n",
       "      <th></th>\n",
       "      <th></th>\n",
       "      <th></th>\n",
       "      <th></th>\n",
       "      <th></th>\n",
       "      <th></th>\n",
       "      <th></th>\n",
       "      <th></th>\n",
       "      <th></th>\n",
       "      <th></th>\n",
       "      <th></th>\n",
       "      <th></th>\n",
       "      <th></th>\n",
       "      <th></th>\n",
       "      <th></th>\n",
       "      <th></th>\n",
       "      <th></th>\n",
       "      <th></th>\n",
       "      <th></th>\n",
       "      <th></th>\n",
       "    </tr>\n",
       "  </thead>\n",
       "  <tbody>\n",
       "    <tr>\n",
       "      <th>SAMD11</th>\n",
       "      <td>1.000000</td>\n",
       "      <td>1.0</td>\n",
       "      <td>1.0</td>\n",
       "      <td>1.0</td>\n",
       "      <td>1.0</td>\n",
       "      <td>1.000000</td>\n",
       "      <td>1.0</td>\n",
       "      <td>1.0</td>\n",
       "      <td>1.0</td>\n",
       "      <td>1.0</td>\n",
       "      <td>...</td>\n",
       "      <td>1.0</td>\n",
       "      <td>1.0</td>\n",
       "      <td>1.0</td>\n",
       "      <td>1.0</td>\n",
       "      <td>1.000000</td>\n",
       "      <td>1.0</td>\n",
       "      <td>1.0</td>\n",
       "      <td>1.00000</td>\n",
       "      <td>1.0</td>\n",
       "      <td>1.0</td>\n",
       "    </tr>\n",
       "    <tr>\n",
       "      <th>HES4</th>\n",
       "      <td>1.000000</td>\n",
       "      <td>1.0</td>\n",
       "      <td>1.0</td>\n",
       "      <td>1.0</td>\n",
       "      <td>1.0</td>\n",
       "      <td>1.000000</td>\n",
       "      <td>1.0</td>\n",
       "      <td>1.0</td>\n",
       "      <td>1.0</td>\n",
       "      <td>1.0</td>\n",
       "      <td>...</td>\n",
       "      <td>1.0</td>\n",
       "      <td>1.0</td>\n",
       "      <td>1.0</td>\n",
       "      <td>1.0</td>\n",
       "      <td>1.000000</td>\n",
       "      <td>1.0</td>\n",
       "      <td>1.0</td>\n",
       "      <td>1.00000</td>\n",
       "      <td>1.0</td>\n",
       "      <td>1.0</td>\n",
       "    </tr>\n",
       "    <tr>\n",
       "      <th>ISG15</th>\n",
       "      <td>15.053525</td>\n",
       "      <td>1.0</td>\n",
       "      <td>1.0</td>\n",
       "      <td>1.0</td>\n",
       "      <td>1.0</td>\n",
       "      <td>21.762533</td>\n",
       "      <td>1.0</td>\n",
       "      <td>1.0</td>\n",
       "      <td>1.0</td>\n",
       "      <td>1.0</td>\n",
       "      <td>...</td>\n",
       "      <td>1.0</td>\n",
       "      <td>1.0</td>\n",
       "      <td>1.0</td>\n",
       "      <td>1.0</td>\n",
       "      <td>36.675882</td>\n",
       "      <td>1.0</td>\n",
       "      <td>1.0</td>\n",
       "      <td>15.52973</td>\n",
       "      <td>1.0</td>\n",
       "      <td>1.0</td>\n",
       "    </tr>\n",
       "    <tr>\n",
       "      <th>AGRN</th>\n",
       "      <td>1.000000</td>\n",
       "      <td>1.0</td>\n",
       "      <td>1.0</td>\n",
       "      <td>1.0</td>\n",
       "      <td>1.0</td>\n",
       "      <td>1.000000</td>\n",
       "      <td>1.0</td>\n",
       "      <td>1.0</td>\n",
       "      <td>1.0</td>\n",
       "      <td>1.0</td>\n",
       "      <td>...</td>\n",
       "      <td>1.0</td>\n",
       "      <td>1.0</td>\n",
       "      <td>1.0</td>\n",
       "      <td>1.0</td>\n",
       "      <td>1.000000</td>\n",
       "      <td>1.0</td>\n",
       "      <td>1.0</td>\n",
       "      <td>1.00000</td>\n",
       "      <td>1.0</td>\n",
       "      <td>1.0</td>\n",
       "    </tr>\n",
       "    <tr>\n",
       "      <th>RNF223</th>\n",
       "      <td>1.000000</td>\n",
       "      <td>1.0</td>\n",
       "      <td>1.0</td>\n",
       "      <td>1.0</td>\n",
       "      <td>1.0</td>\n",
       "      <td>1.000000</td>\n",
       "      <td>1.0</td>\n",
       "      <td>1.0</td>\n",
       "      <td>1.0</td>\n",
       "      <td>1.0</td>\n",
       "      <td>...</td>\n",
       "      <td>1.0</td>\n",
       "      <td>1.0</td>\n",
       "      <td>1.0</td>\n",
       "      <td>1.0</td>\n",
       "      <td>1.000000</td>\n",
       "      <td>1.0</td>\n",
       "      <td>1.0</td>\n",
       "      <td>1.00000</td>\n",
       "      <td>1.0</td>\n",
       "      <td>1.0</td>\n",
       "    </tr>\n",
       "  </tbody>\n",
       "</table>\n",
       "<p>5 rows × 1905 columns</p>\n",
       "</div>"
      ],
      "text/plain": [
       "           AAACCCAAGCAGCACA-1  AAACGAAAGACCGTTT-1  AAACGAAAGGGCGAAG-1  \\\n",
       "gene_name                                                               \n",
       "SAMD11               1.000000                 1.0                 1.0   \n",
       "HES4                 1.000000                 1.0                 1.0   \n",
       "ISG15               15.053525                 1.0                 1.0   \n",
       "AGRN                 1.000000                 1.0                 1.0   \n",
       "RNF223               1.000000                 1.0                 1.0   \n",
       "\n",
       "           AAACGCTTCCTCGCAT-1  AAAGAACAGGGAGGAC-1  AAAGGATCATACCATG-1  \\\n",
       "gene_name                                                               \n",
       "SAMD11                    1.0                 1.0            1.000000   \n",
       "HES4                      1.0                 1.0            1.000000   \n",
       "ISG15                     1.0                 1.0           21.762533   \n",
       "AGRN                      1.0                 1.0            1.000000   \n",
       "RNF223                    1.0                 1.0            1.000000   \n",
       "\n",
       "           AAAGGATTCTCGACGG-1  AAAGGGCTCAGCTAGT-1  AAAGGTACAGGTTCAT-1  \\\n",
       "gene_name                                                               \n",
       "SAMD11                    1.0                 1.0                 1.0   \n",
       "HES4                      1.0                 1.0                 1.0   \n",
       "ISG15                     1.0                 1.0                 1.0   \n",
       "AGRN                      1.0                 1.0                 1.0   \n",
       "RNF223                    1.0                 1.0                 1.0   \n",
       "\n",
       "           AAAGGTAGTCCCAAAT-1  ...  TTTGATCCAATGCTCA-1  TTTGATCCATGACAAA-1  \\\n",
       "gene_name                      ...                                           \n",
       "SAMD11                    1.0  ...                 1.0                 1.0   \n",
       "HES4                      1.0  ...                 1.0                 1.0   \n",
       "ISG15                     1.0  ...                 1.0                 1.0   \n",
       "AGRN                      1.0  ...                 1.0                 1.0   \n",
       "RNF223                    1.0  ...                 1.0                 1.0   \n",
       "\n",
       "           TTTGATCGTTATCTGG-1  TTTGGAGCAAATGATG-1  TTTGGAGGTATGTCAC-1  \\\n",
       "gene_name                                                               \n",
       "SAMD11                    1.0                 1.0            1.000000   \n",
       "HES4                      1.0                 1.0            1.000000   \n",
       "ISG15                     1.0                 1.0           36.675882   \n",
       "AGRN                      1.0                 1.0            1.000000   \n",
       "RNF223                    1.0                 1.0            1.000000   \n",
       "\n",
       "           TTTGGAGGTGCCTGAC-1  TTTGGAGTCAAATGCC-1  TTTGGTTGTCACGTGC-1  \\\n",
       "gene_name                                                               \n",
       "SAMD11                    1.0                 1.0             1.00000   \n",
       "HES4                      1.0                 1.0             1.00000   \n",
       "ISG15                     1.0                 1.0            15.52973   \n",
       "AGRN                      1.0                 1.0             1.00000   \n",
       "RNF223                    1.0                 1.0             1.00000   \n",
       "\n",
       "           TTTGTTGGTGACACAG-1  TTTGTTGTCAAATGAG-1  \n",
       "gene_name                                          \n",
       "SAMD11                    1.0                 1.0  \n",
       "HES4                      1.0                 1.0  \n",
       "ISG15                     1.0                 1.0  \n",
       "AGRN                      1.0                 1.0  \n",
       "RNF223                    1.0                 1.0  \n",
       "\n",
       "[5 rows x 1905 columns]"
      ]
     },
     "execution_count": 133,
     "metadata": {},
     "output_type": "execute_result"
    }
   ],
   "source": [
    "# filter out highly variable genes\n",
    "rpkm_filtered = rpkm.loc[highly_variable_genes]\n",
    "rpkm_filtered.head()"
   ]
  },
  {
   "cell_type": "code",
   "execution_count": 134,
   "metadata": {},
   "outputs": [],
   "source": [
    "# take log2 of RPKM+1\n",
    "rpkm_log2 = np.log2(rpkm_filtered)"
   ]
  },
  {
   "cell_type": "code",
   "execution_count": 135,
   "metadata": {},
   "outputs": [],
   "source": [
    "# calculate reference genes\n",
    "rab7a = rpkm.loc['RAB7A'].to_numpy()\n",
    "gapdh = rpkm.loc['GAPDH'].to_numpy()\n",
    "actp = rpkm.loc['ACTB'].to_numpy()"
   ]
  },
  {
   "cell_type": "code",
   "execution_count": 136,
   "metadata": {},
   "outputs": [
    {
     "data": {
      "text/plain": [
       "(0.0, 4.893892346712768)"
      ]
     },
     "execution_count": 136,
     "metadata": {},
     "output_type": "execute_result"
    }
   ],
   "source": [
    "ref_norm = np.multiply(rab7a, gapdh, actp) ** (1/3)\n",
    "ref_norm = np.log2(ref_norm)\n",
    "ref_norm.min(), ref_norm.max()"
   ]
  },
  {
   "cell_type": "code",
   "execution_count": 137,
   "metadata": {},
   "outputs": [],
   "source": [
    "# calculate jane score:\n",
    "# 10 + log2(RPKM) - log2(geomean(RAB7A+1, GAPDH+1, ACTB+1)) if RPKM > 0\n",
    "# 0 if RPKM == 0\n",
    "adata_processed_X = np.where(rpkm_log2 == 0, rpkm_log2, 10 + rpkm_log2 - ref_norm)"
   ]
  },
  {
   "cell_type": "code",
   "execution_count": 178,
   "metadata": {},
   "outputs": [],
   "source": [
    "# save adata_processed_X as csv\n",
    "pd.DataFrame(adata_processed_X, columns=rpkm_filtered.columns, index=rpkm_filtered.index).to_csv(save_dir + \"js_gene.csv\")"
   ]
  },
  {
   "cell_type": "code",
   "execution_count": 138,
   "metadata": {},
   "outputs": [
    {
     "data": {
      "text/plain": [
       "<1905x3314 sparse matrix of type '<class 'numpy.float32'>'\n",
       "\twith 458419 stored elements in Compressed Sparse Row format>"
      ]
     },
     "execution_count": 138,
     "metadata": {},
     "output_type": "execute_result"
    }
   ],
   "source": [
    "adata_proceesed = anndata.AnnData(csr_matrix(adata_processed_X.T, dtype=np.float32))\n",
    "adata_proceesed.X"
   ]
  },
  {
   "cell_type": "code",
   "execution_count": 139,
   "metadata": {},
   "outputs": [],
   "source": [
    "adata_proceesed.obs_names = rpkm_filtered.columns\n",
    "adata_proceesed.var_names = rpkm_filtered.index"
   ]
  },
  {
   "cell_type": "code",
   "execution_count": null,
   "metadata": {},
   "outputs": [],
   "source": [
    "PCA_ncomps = 720"
   ]
  },
  {
   "cell_type": "markdown",
   "metadata": {},
   "source": [
    "## Create anndata for switches in JS"
   ]
  },
  {
   "cell_type": "code",
   "execution_count": 162,
   "metadata": {},
   "outputs": [],
   "source": [
    "REPRESENT = \"switch\""
   ]
  },
  {
   "cell_type": "code",
   "execution_count": 163,
   "metadata": {},
   "outputs": [],
   "source": [
    "# calculate reference genes\n",
    "rab7a = rpkm.loc['RAB7A'].to_numpy()\n",
    "gapdh = rpkm.loc['GAPDH'].to_numpy()\n",
    "actp = rpkm.loc['ACTB'].to_numpy()"
   ]
  },
  {
   "cell_type": "code",
   "execution_count": 164,
   "metadata": {},
   "outputs": [
    {
     "data": {
      "text/plain": [
       "(0.0, 4.893892346712768)"
      ]
     },
     "execution_count": 164,
     "metadata": {},
     "output_type": "execute_result"
    }
   ],
   "source": [
    "ref_norm = np.multiply(rab7a, gapdh, actp) ** (1/3)\n",
    "ref_norm = np.log2(ref_norm)\n",
    "ref_norm.min(), ref_norm.max()"
   ]
  },
  {
   "cell_type": "code",
   "execution_count": 169,
   "metadata": {},
   "outputs": [],
   "source": [
    "# take log2 of RPKM+1\n",
    "rpkm_log2 = np.log2(rpkm)"
   ]
  },
  {
   "cell_type": "code",
   "execution_count": 173,
   "metadata": {},
   "outputs": [],
   "source": [
    "# calculate jane score:\n",
    "# 10 + log2(RPKM) - log2(geomean(RAB7A+1, GAPDH+1, ACTB+1)) if RPKM > 0\n",
    "# 0 if RPKM == 0\n",
    "js = pd.DataFrame(np.where(rpkm_log2 == 0, rpkm_log2, 10 + rpkm_log2 - ref_norm), columns=rpkm_log2.columns, index = rpkm_log2.index)"
   ]
  },
  {
   "cell_type": "code",
   "execution_count": 166,
   "metadata": {},
   "outputs": [
    {
     "name": "stdout",
     "output_type": "stream",
     "text": [
      "5079 19212 4982\n"
     ]
    }
   ],
   "source": [
    "# compare genes in switches with genes in rpkm\n",
    "switch_genes = [gene for switch in switch_dict.keys() for gene in switch_dict[switch]]\n",
    "# change to set\n",
    "switch_genes = set(switch_genes)\n",
    "rpkm_genes = set(rpkm.index)\n",
    "\n",
    "# find overlapping genes\n",
    "overlapping_genes = switch_genes.intersection(rpkm_genes)\n",
    "print(len(switch_genes), len(rpkm_genes), len(overlapping_genes))"
   ]
  },
  {
   "cell_type": "code",
   "execution_count": 167,
   "metadata": {},
   "outputs": [],
   "source": [
    "# filter non-overlapping genes from switches\n",
    "for switch in switch_dict.keys():\n",
    "\tswitch_dict[switch] = list(set(switch_dict[switch]).intersection(overlapping_genes))"
   ]
  },
  {
   "cell_type": "code",
   "execution_count": 174,
   "metadata": {},
   "outputs": [],
   "source": [
    "# aggregate rpkm columns using switch_dict\n",
    "js_switch = pd.DataFrame(columns=js.columns, index=switch_dict.keys())\n",
    "for i in switch_dict.keys():\n",
    "\tjs_switch.loc[i] = np.mean(js.loc[switch_dict[i]].values, axis=0)"
   ]
  },
  {
   "cell_type": "code",
   "execution_count": 176,
   "metadata": {},
   "outputs": [],
   "source": [
    "# saving js switch data\n",
    "js_switch.to_csv(save_dir + \"js_switch.csv\")"
   ]
  },
  {
   "cell_type": "code",
   "execution_count": 181,
   "metadata": {},
   "outputs": [
    {
     "data": {
      "text/plain": [
       "<1905x489 sparse matrix of type '<class 'numpy.float32'>'\n",
       "\twith 492719 stored elements in Compressed Sparse Row format>"
      ]
     },
     "execution_count": 181,
     "metadata": {},
     "output_type": "execute_result"
    }
   ],
   "source": [
    "# convert data to AnnData\n",
    "adata_proceesed = anndata.AnnData(csr_matrix(js_switch.T.values, dtype=np.float32))\n",
    "adata_proceesed.X"
   ]
  },
  {
   "cell_type": "code",
   "execution_count": 182,
   "metadata": {},
   "outputs": [],
   "source": [
    "adata_proceesed.obs_names = js_switch.columns\n",
    "adata_proceesed.var_names = js_switch.index"
   ]
  },
  {
   "cell_type": "code",
   "execution_count": 222,
   "metadata": {},
   "outputs": [],
   "source": [
    "PCA_ncomps = 111"
   ]
  },
  {
   "cell_type": "markdown",
   "metadata": {},
   "source": [
    "## SEACells Clustering and UMAP"
   ]
  },
  {
   "cell_type": "code",
   "execution_count": 223,
   "metadata": {},
   "outputs": [],
   "source": [
    "sc.tl.pca(adata_proceesed, n_comps=PCA_ncomps)"
   ]
  },
  {
   "cell_type": "code",
   "execution_count": 224,
   "metadata": {},
   "outputs": [
    {
     "name": "stdout",
     "output_type": "stream",
     "text": [
      "# 111 PC's capture 95% of variance\n"
     ]
    }
   ],
   "source": [
    "cumsum = np.cumsum(adata_proceesed.uns['pca']['variance_ratio'])\n",
    "print(\"#\", np.count_nonzero(cumsum < 0.95), \"PC's capture 95% of variance\")"
   ]
  },
  {
   "cell_type": "code",
   "execution_count": 225,
   "metadata": {},
   "outputs": [
    {
     "name": "stdout",
     "output_type": "stream",
     "text": [
      "WARNING: saving figure to file figures/umap_switch.png\n"
     ]
    },
    {
     "name": "stderr",
     "output_type": "stream",
     "text": [
      "/opt/homebrew/lib/python3.10/site-packages/scanpy/plotting/_tools/scatterplots.py:392: UserWarning: No data for colormapping provided via 'c'. Parameters 'cmap', 'norm' will be ignored\n",
      "  cax = scatter(\n",
      "findfont: Font family 'Bitstream Vera Sans' not found.\n",
      "findfont: Font family 'Bitstream Vera Sans' not found.\n",
      "findfont: Font family 'Bitstream Vera Sans' not found.\n",
      "findfont: Font family 'Bitstream Vera Sans' not found.\n",
      "findfont: Font family 'Bitstream Vera Sans' not found.\n",
      "findfont: Font family 'Bitstream Vera Sans' not found.\n",
      "findfont: Font family 'Bitstream Vera Sans' not found.\n",
      "findfont: Font family 'Bitstream Vera Sans' not found.\n",
      "findfont: Font family 'Bitstream Vera Sans' not found.\n",
      "findfont: Font family 'Bitstream Vera Sans' not found.\n",
      "findfont: Font family 'Bitstream Vera Sans' not found.\n",
      "findfont: Font family 'Bitstream Vera Sans' not found.\n",
      "findfont: Font family 'Bitstream Vera Sans' not found.\n",
      "/opt/homebrew/lib/python3.10/site-packages/scanpy/plotting/_utils.py:314: UserWarning: Matplotlib is currently using agg, which is a non-GUI backend, so cannot show the figure.\n",
      "  pl.show()\n"
     ]
    }
   ],
   "source": [
    "sc.pp.neighbors(adata_proceesed)\n",
    "sc.tl.umap(adata_proceesed)\n",
    "sc.pl.umap(adata_proceesed, save=f'_{REPRESENT}.png')"
   ]
  },
  {
   "cell_type": "markdown",
   "metadata": {},
   "source": [
    "### Run SEACells"
   ]
  },
  {
   "cell_type": "code",
   "execution_count": 226,
   "metadata": {},
   "outputs": [],
   "source": [
    "## Core parameters\n",
    "n_SEACells = 15\n",
    "build_kernel_on = 'X_pca'\n",
    "\n",
    "## Additional parameters\n",
    "n_waypoint_eigs = 10 # Number of eigenvalues to consider when initializing metacells !!not sure how to tune"
   ]
  },
  {
   "cell_type": "code",
   "execution_count": 227,
   "metadata": {},
   "outputs": [
    {
     "name": "stdout",
     "output_type": "stream",
     "text": [
      "Welcome to SEACells!\n"
     ]
    }
   ],
   "source": [
    "model = SEACells.core.SEACells(adata_proceesed,\n",
    "                  build_kernel_on=build_kernel_on,\n",
    "                  n_SEACells=n_SEACells,\n",
    "                  n_waypoint_eigs=n_waypoint_eigs,\n",
    "                  convergence_epsilon = 1e-5)"
   ]
  },
  {
   "cell_type": "code",
   "execution_count": 228,
   "metadata": {},
   "outputs": [
    {
     "name": "stdout",
     "output_type": "stream",
     "text": [
      "Computing kNN graph using scanpy NN ...\n",
      "Computing radius for adaptive bandwidth kernel...\n"
     ]
    },
    {
     "data": {
      "application/vnd.jupyter.widget-view+json": {
       "model_id": "265b7ccee53c4e2caca4ecdb9f981198",
       "version_major": 2,
       "version_minor": 0
      },
      "text/plain": [
       "  0%|          | 0/1905 [00:00<?, ?it/s]"
      ]
     },
     "metadata": {},
     "output_type": "display_data"
    },
    {
     "name": "stdout",
     "output_type": "stream",
     "text": [
      "Making graph symmetric...\n",
      "Parameter graph_construction = union being used to build KNN graph...\n",
      "Computing RBF kernel...\n"
     ]
    },
    {
     "data": {
      "application/vnd.jupyter.widget-view+json": {
       "model_id": "fc1b63ad343f424f911b06864ba119d5",
       "version_major": 2,
       "version_minor": 0
      },
      "text/plain": [
       "  0%|          | 0/1905 [00:00<?, ?it/s]"
      ]
     },
     "metadata": {},
     "output_type": "display_data"
    },
    {
     "name": "stdout",
     "output_type": "stream",
     "text": [
      "Building similarity LIL matrix...\n"
     ]
    },
    {
     "data": {
      "application/vnd.jupyter.widget-view+json": {
       "model_id": "719fe0ea96d7419aad93143f6ee9c4df",
       "version_major": 2,
       "version_minor": 0
      },
      "text/plain": [
       "  0%|          | 0/1905 [00:00<?, ?it/s]"
      ]
     },
     "metadata": {},
     "output_type": "display_data"
    },
    {
     "name": "stdout",
     "output_type": "stream",
     "text": [
      "Constructing CSR matrix...\n"
     ]
    }
   ],
   "source": [
    "model.construct_kernel_matrix()\n",
    "M = model.kernel_matrix"
   ]
  },
  {
   "cell_type": "code",
   "execution_count": 229,
   "metadata": {},
   "outputs": [
    {
     "name": "stdout",
     "output_type": "stream",
     "text": [
      "Building kernel on X_pca\n",
      "Computing diffusion components from X_pca for waypoint initialization ... \n",
      "Determing nearest neighbor graph...\n",
      "Done.\n",
      "Sampling waypoints ...\n",
      "Done.\n",
      "Selecting 9 cells from waypoint initialization.\n",
      "Initializing residual matrix using greedy column selection\n",
      "Initializing f and g...\n"
     ]
    },
    {
     "name": "stderr",
     "output_type": "stream",
     "text": [
      "100%|██████████████████████████████████████████| 16/16 [00:00<00:00, 618.12it/s]"
     ]
    },
    {
     "name": "stdout",
     "output_type": "stream",
     "text": [
      "Selecting 6 cells from greedy initialization.\n"
     ]
    },
    {
     "name": "stderr",
     "output_type": "stream",
     "text": [
      "\n"
     ]
    }
   ],
   "source": [
    "# Initialize archetypes\n",
    "model.initialize_archetypes()"
   ]
  },
  {
   "cell_type": "code",
   "execution_count": 230,
   "metadata": {},
   "outputs": [
    {
     "name": "stderr",
     "output_type": "stream",
     "text": [
      "/opt/homebrew/lib/python3.10/site-packages/SEACells/plot.py:162: UserWarning: Matplotlib is currently using agg, which is a non-GUI backend, so cannot show the figure.\n",
      "  plt.show()\n"
     ]
    }
   ],
   "source": [
    "# Plot the initilization to ensure they are spread across phenotypic space\n",
    "SEACells.plot.plot_initialization(adata_proceesed, model)"
   ]
  },
  {
   "cell_type": "code",
   "execution_count": 231,
   "metadata": {},
   "outputs": [
    {
     "name": "stdout",
     "output_type": "stream",
     "text": [
      "Randomly initialized A matrix.\n",
      "Setting convergence threshold at 0.00076\n",
      "Starting iteration 1.\n",
      "Completed iteration 1.\n",
      "Starting iteration 10.\n",
      "Completed iteration 10.\n",
      "Converged after 18 iterations.\n"
     ]
    }
   ],
   "source": [
    "model.fit(min_iter=10, max_iter=100)"
   ]
  },
  {
   "cell_type": "markdown",
   "metadata": {},
   "source": [
    "### Assessing results"
   ]
  },
  {
   "cell_type": "code",
   "execution_count": 232,
   "metadata": {},
   "outputs": [
    {
     "name": "stderr",
     "output_type": "stream",
     "text": [
      "/opt/homebrew/lib/python3.10/site-packages/SEACells/core.py:484: UserWarning: Matplotlib is currently using agg, which is a non-GUI backend, so cannot show the figure.\n",
      "  plt.show()\n"
     ]
    }
   ],
   "source": [
    "# Check for convergence\n",
    "model.plot_convergence()"
   ]
  },
  {
   "cell_type": "code",
   "execution_count": 233,
   "metadata": {},
   "outputs": [
    {
     "data": {
      "text/html": [
       "<div>\n",
       "<style scoped>\n",
       "    .dataframe tbody tr th:only-of-type {\n",
       "        vertical-align: middle;\n",
       "    }\n",
       "\n",
       "    .dataframe tbody tr th {\n",
       "        vertical-align: top;\n",
       "    }\n",
       "\n",
       "    .dataframe thead th {\n",
       "        text-align: right;\n",
       "    }\n",
       "</style>\n",
       "<table border=\"1\" class=\"dataframe\">\n",
       "  <thead>\n",
       "    <tr style=\"text-align: right;\">\n",
       "      <th></th>\n",
       "      <th>SEACell</th>\n",
       "    </tr>\n",
       "    <tr>\n",
       "      <th>index</th>\n",
       "      <th></th>\n",
       "    </tr>\n",
       "  </thead>\n",
       "  <tbody>\n",
       "    <tr>\n",
       "      <th>AAACCCAAGCAGCACA-1</th>\n",
       "      <td>SEACell-7</td>\n",
       "    </tr>\n",
       "    <tr>\n",
       "      <th>AAACGAAAGACCGTTT-1</th>\n",
       "      <td>SEACell-9</td>\n",
       "    </tr>\n",
       "    <tr>\n",
       "      <th>AAACGAAAGGGCGAAG-1</th>\n",
       "      <td>SEACell-10</td>\n",
       "    </tr>\n",
       "    <tr>\n",
       "      <th>AAACGCTTCCTCGCAT-1</th>\n",
       "      <td>SEACell-5</td>\n",
       "    </tr>\n",
       "    <tr>\n",
       "      <th>AAAGAACAGGGAGGAC-1</th>\n",
       "      <td>SEACell-1</td>\n",
       "    </tr>\n",
       "  </tbody>\n",
       "</table>\n",
       "</div>"
      ],
      "text/plain": [
       "                       SEACell\n",
       "index                         \n",
       "AAACCCAAGCAGCACA-1   SEACell-7\n",
       "AAACGAAAGACCGTTT-1   SEACell-9\n",
       "AAACGAAAGGGCGAAG-1  SEACell-10\n",
       "AAACGCTTCCTCGCAT-1   SEACell-5\n",
       "AAAGAACAGGGAGGAC-1   SEACell-1"
      ]
     },
     "execution_count": 233,
     "metadata": {},
     "output_type": "execute_result"
    }
   ],
   "source": [
    "model.get_hard_assignments().head()"
   ]
  },
  {
   "cell_type": "code",
   "execution_count": 234,
   "metadata": {},
   "outputs": [
    {
     "name": "stdout",
     "output_type": "stream",
     "text": [
      "WARNING: saving figure to file figures/umap_SEACells_switch.png\n"
     ]
    },
    {
     "name": "stderr",
     "output_type": "stream",
     "text": [
      "/opt/homebrew/lib/python3.10/site-packages/scanpy/plotting/_tools/scatterplots.py:392: UserWarning: No data for colormapping provided via 'c'. Parameters 'cmap' will be ignored\n",
      "  cax = scatter(\n",
      "findfont: Font family 'Bitstream Vera Sans' not found.\n",
      "findfont: Font family 'Bitstream Vera Sans' not found.\n",
      "findfont: Font family 'Bitstream Vera Sans' not found.\n",
      "findfont: Font family 'Bitstream Vera Sans' not found.\n",
      "findfont: Font family 'Bitstream Vera Sans' not found.\n",
      "findfont: Font family 'Bitstream Vera Sans' not found.\n",
      "findfont: Font family 'Bitstream Vera Sans' not found.\n",
      "findfont: Font family 'Bitstream Vera Sans' not found.\n",
      "findfont: Font family 'Bitstream Vera Sans' not found.\n",
      "findfont: Font family 'Bitstream Vera Sans' not found.\n",
      "findfont: Font family 'Bitstream Vera Sans' not found.\n",
      "findfont: Font family 'Bitstream Vera Sans' not found.\n",
      "findfont: Font family 'Bitstream Vera Sans' not found.\n",
      "findfont: Font family 'Bitstream Vera Sans' not found.\n",
      "findfont: Font family 'Bitstream Vera Sans' not found.\n",
      "findfont: Font family 'Bitstream Vera Sans' not found.\n",
      "findfont: Font family 'Bitstream Vera Sans' not found.\n",
      "findfont: Font family 'Bitstream Vera Sans' not found.\n",
      "findfont: Font family 'Bitstream Vera Sans' not found.\n",
      "findfont: Font family 'Bitstream Vera Sans' not found.\n",
      "findfont: Font family 'Bitstream Vera Sans' not found.\n",
      "findfont: Font family 'Bitstream Vera Sans' not found.\n",
      "findfont: Font family 'Bitstream Vera Sans' not found.\n",
      "findfont: Font family 'Bitstream Vera Sans' not found.\n",
      "findfont: Font family 'Bitstream Vera Sans' not found.\n",
      "findfont: Font family 'Bitstream Vera Sans' not found.\n",
      "findfont: Font family 'Bitstream Vera Sans' not found.\n",
      "findfont: Font family 'Bitstream Vera Sans' not found.\n",
      "findfont: Font family 'Bitstream Vera Sans' not found.\n",
      "findfont: Font family 'Bitstream Vera Sans' not found.\n",
      "findfont: Font family 'Bitstream Vera Sans' not found.\n",
      "findfont: Font family 'Bitstream Vera Sans' not found.\n",
      "findfont: Font family 'Bitstream Vera Sans' not found.\n",
      "findfont: Font family 'Bitstream Vera Sans' not found.\n",
      "findfont: Font family 'Bitstream Vera Sans' not found.\n",
      "findfont: Font family 'Bitstream Vera Sans' not found.\n",
      "findfont: Font family 'Bitstream Vera Sans' not found.\n",
      "findfont: Font family 'Bitstream Vera Sans' not found.\n",
      "findfont: Font family 'Bitstream Vera Sans' not found.\n",
      "findfont: Font family 'Bitstream Vera Sans' not found.\n",
      "findfont: Font family 'Bitstream Vera Sans' not found.\n",
      "findfont: Font family 'Bitstream Vera Sans' not found.\n",
      "findfont: Font family 'Bitstream Vera Sans' not found.\n",
      "findfont: Font family 'Bitstream Vera Sans' not found.\n",
      "findfont: Font family 'Bitstream Vera Sans' not found.\n",
      "findfont: Font family 'Bitstream Vera Sans' not found.\n",
      "findfont: Font family 'Bitstream Vera Sans' not found.\n",
      "findfont: Font family 'Bitstream Vera Sans' not found.\n",
      "findfont: Font family 'Bitstream Vera Sans' not found.\n",
      "findfont: Font family 'Bitstream Vera Sans' not found.\n",
      "findfont: Font family 'Bitstream Vera Sans' not found.\n",
      "findfont: Font family 'Bitstream Vera Sans' not found.\n",
      "findfont: Font family 'Bitstream Vera Sans' not found.\n",
      "findfont: Font family 'Bitstream Vera Sans' not found.\n",
      "findfont: Font family 'Bitstream Vera Sans' not found.\n",
      "findfont: Font family 'Bitstream Vera Sans' not found.\n",
      "findfont: Font family 'Bitstream Vera Sans' not found.\n",
      "findfont: Font family 'Bitstream Vera Sans' not found.\n",
      "findfont: Font family 'Bitstream Vera Sans' not found.\n",
      "findfont: Font family 'Bitstream Vera Sans' not found.\n",
      "findfont: Font family 'Bitstream Vera Sans' not found.\n",
      "findfont: Font family 'Bitstream Vera Sans' not found.\n",
      "findfont: Font family 'Bitstream Vera Sans' not found.\n",
      "findfont: Font family 'Bitstream Vera Sans' not found.\n",
      "findfont: Font family 'Bitstream Vera Sans' not found.\n",
      "findfont: Font family 'Bitstream Vera Sans' not found.\n",
      "findfont: Font family 'Bitstream Vera Sans' not found.\n",
      "findfont: Font family 'Bitstream Vera Sans' not found.\n",
      "findfont: Font family 'Bitstream Vera Sans' not found.\n",
      "findfont: Font family 'Bitstream Vera Sans' not found.\n",
      "findfont: Font family 'Bitstream Vera Sans' not found.\n",
      "findfont: Font family 'Bitstream Vera Sans' not found.\n",
      "findfont: Font family 'Bitstream Vera Sans' not found.\n",
      "findfont: Font family 'Bitstream Vera Sans' not found.\n",
      "findfont: Font family 'Bitstream Vera Sans' not found.\n",
      "findfont: Font family 'Bitstream Vera Sans' not found.\n",
      "findfont: Font family 'Bitstream Vera Sans' not found.\n",
      "findfont: Font family 'Bitstream Vera Sans' not found.\n",
      "findfont: Font family 'Bitstream Vera Sans' not found.\n",
      "findfont: Font family 'Bitstream Vera Sans' not found.\n",
      "findfont: Font family 'Bitstream Vera Sans' not found.\n",
      "findfont: Font family 'Bitstream Vera Sans' not found.\n",
      "findfont: Font family 'Bitstream Vera Sans' not found.\n",
      "findfont: Font family 'Bitstream Vera Sans' not found.\n",
      "findfont: Font family 'Bitstream Vera Sans' not found.\n",
      "findfont: Font family 'Bitstream Vera Sans' not found.\n",
      "findfont: Font family 'Bitstream Vera Sans' not found.\n",
      "findfont: Font family 'Bitstream Vera Sans' not found.\n",
      "findfont: Font family 'Bitstream Vera Sans' not found.\n",
      "findfont: Font family 'Bitstream Vera Sans' not found.\n",
      "findfont: Font family 'Bitstream Vera Sans' not found.\n",
      "findfont: Font family 'Bitstream Vera Sans' not found.\n",
      "findfont: Font family 'Bitstream Vera Sans' not found.\n",
      "findfont: Font family 'Bitstream Vera Sans' not found.\n",
      "findfont: Font family 'Bitstream Vera Sans' not found.\n",
      "findfont: Font family 'Bitstream Vera Sans' not found.\n",
      "findfont: Font family 'Bitstream Vera Sans' not found.\n",
      "findfont: Font family 'Bitstream Vera Sans' not found.\n",
      "findfont: Font family 'Bitstream Vera Sans' not found.\n",
      "findfont: Font family 'Bitstream Vera Sans' not found.\n",
      "findfont: Font family 'Bitstream Vera Sans' not found.\n",
      "findfont: Font family 'Bitstream Vera Sans' not found.\n",
      "findfont: Font family 'Bitstream Vera Sans' not found.\n",
      "findfont: Font family 'Bitstream Vera Sans' not found.\n",
      "findfont: Font family 'Bitstream Vera Sans' not found.\n",
      "findfont: Font family 'Bitstream Vera Sans' not found.\n",
      "findfont: Font family 'Bitstream Vera Sans' not found.\n",
      "findfont: Font family 'Bitstream Vera Sans' not found.\n",
      "findfont: Font family 'Bitstream Vera Sans' not found.\n",
      "findfont: Font family 'Bitstream Vera Sans' not found.\n",
      "findfont: Font family 'Bitstream Vera Sans' not found.\n",
      "findfont: Font family 'Bitstream Vera Sans' not found.\n",
      "findfont: Font family 'Bitstream Vera Sans' not found.\n",
      "findfont: Font family 'Bitstream Vera Sans' not found.\n",
      "findfont: Font family 'Bitstream Vera Sans' not found.\n",
      "findfont: Font family 'Bitstream Vera Sans' not found.\n",
      "findfont: Font family 'Bitstream Vera Sans' not found.\n",
      "findfont: Font family 'Bitstream Vera Sans' not found.\n",
      "findfont: Font family 'Bitstream Vera Sans' not found.\n",
      "findfont: Font family 'Bitstream Vera Sans' not found.\n",
      "findfont: Font family 'Bitstream Vera Sans' not found.\n",
      "findfont: Font family 'Bitstream Vera Sans' not found.\n",
      "findfont: Font family 'Bitstream Vera Sans' not found.\n",
      "findfont: Font family 'Bitstream Vera Sans' not found.\n",
      "findfont: Font family 'Bitstream Vera Sans' not found.\n",
      "findfont: Font family 'Bitstream Vera Sans' not found.\n",
      "findfont: Font family 'Bitstream Vera Sans' not found.\n",
      "findfont: Font family 'Bitstream Vera Sans' not found.\n",
      "findfont: Font family 'Bitstream Vera Sans' not found.\n",
      "findfont: Font family 'Bitstream Vera Sans' not found.\n",
      "findfont: Font family 'Bitstream Vera Sans' not found.\n",
      "findfont: Font family 'Bitstream Vera Sans' not found.\n",
      "findfont: Font family 'Bitstream Vera Sans' not found.\n",
      "findfont: Font family 'Bitstream Vera Sans' not found.\n",
      "findfont: Font family 'Bitstream Vera Sans' not found.\n",
      "findfont: Font family 'Bitstream Vera Sans' not found.\n",
      "findfont: Font family 'Bitstream Vera Sans' not found.\n",
      "findfont: Font family 'Bitstream Vera Sans' not found.\n",
      "findfont: Font family 'Bitstream Vera Sans' not found.\n",
      "findfont: Font family 'Bitstream Vera Sans' not found.\n",
      "findfont: Font family 'Bitstream Vera Sans' not found.\n",
      "findfont: Font family 'Bitstream Vera Sans' not found.\n",
      "findfont: Font family 'Bitstream Vera Sans' not found.\n",
      "findfont: Font family 'Bitstream Vera Sans' not found.\n",
      "findfont: Font family 'Bitstream Vera Sans' not found.\n",
      "findfont: Font family 'Bitstream Vera Sans' not found.\n",
      "findfont: Font family 'Bitstream Vera Sans' not found.\n",
      "findfont: Font family 'Bitstream Vera Sans' not found.\n",
      "findfont: Font family 'Bitstream Vera Sans' not found.\n",
      "findfont: Font family 'Bitstream Vera Sans' not found.\n",
      "findfont: Font family 'Bitstream Vera Sans' not found.\n",
      "findfont: Font family 'Bitstream Vera Sans' not found.\n",
      "findfont: Font family 'Bitstream Vera Sans' not found.\n",
      "findfont: Font family 'Bitstream Vera Sans' not found.\n",
      "findfont: Font family 'Bitstream Vera Sans' not found.\n",
      "findfont: Font family 'Bitstream Vera Sans' not found.\n",
      "findfont: Font family 'Bitstream Vera Sans' not found.\n",
      "findfont: Font family 'Bitstream Vera Sans' not found.\n",
      "findfont: Font family 'Bitstream Vera Sans' not found.\n",
      "findfont: Font family 'Bitstream Vera Sans' not found.\n",
      "findfont: Font family 'Bitstream Vera Sans' not found.\n",
      "findfont: Font family 'Bitstream Vera Sans' not found.\n",
      "findfont: Font family 'Bitstream Vera Sans' not found.\n",
      "findfont: Font family 'Bitstream Vera Sans' not found.\n",
      "findfont: Font family 'Bitstream Vera Sans' not found.\n",
      "findfont: Font family 'Bitstream Vera Sans' not found.\n",
      "findfont: Font family 'Bitstream Vera Sans' not found.\n",
      "findfont: Font family 'Bitstream Vera Sans' not found.\n",
      "findfont: Font family 'Bitstream Vera Sans' not found.\n",
      "findfont: Font family 'Bitstream Vera Sans' not found.\n",
      "findfont: Font family 'Bitstream Vera Sans' not found.\n",
      "findfont: Font family 'Bitstream Vera Sans' not found.\n",
      "findfont: Font family 'Bitstream Vera Sans' not found.\n",
      "findfont: Font family 'Bitstream Vera Sans' not found.\n",
      "findfont: Font family 'Bitstream Vera Sans' not found.\n",
      "findfont: Font family 'Bitstream Vera Sans' not found.\n",
      "findfont: Font family 'Bitstream Vera Sans' not found.\n",
      "findfont: Font family 'Bitstream Vera Sans' not found.\n",
      "findfont: Font family 'Bitstream Vera Sans' not found.\n",
      "findfont: Font family 'Bitstream Vera Sans' not found.\n",
      "findfont: Font family 'Bitstream Vera Sans' not found.\n",
      "findfont: Font family 'Bitstream Vera Sans' not found.\n",
      "findfont: Font family 'Bitstream Vera Sans' not found.\n",
      "findfont: Font family 'Bitstream Vera Sans' not found.\n",
      "findfont: Font family 'Bitstream Vera Sans' not found.\n",
      "findfont: Font family 'Bitstream Vera Sans' not found.\n",
      "findfont: Font family 'Bitstream Vera Sans' not found.\n",
      "findfont: Font family 'Bitstream Vera Sans' not found.\n",
      "findfont: Font family 'Bitstream Vera Sans' not found.\n",
      "findfont: Font family 'Bitstream Vera Sans' not found.\n",
      "findfont: Font family 'Bitstream Vera Sans' not found.\n",
      "findfont: Font family 'Bitstream Vera Sans' not found.\n",
      "findfont: Font family 'Bitstream Vera Sans' not found.\n",
      "findfont: Font family 'Bitstream Vera Sans' not found.\n",
      "findfont: Font family 'Bitstream Vera Sans' not found.\n",
      "findfont: Font family 'Bitstream Vera Sans' not found.\n",
      "findfont: Font family 'Bitstream Vera Sans' not found.\n",
      "findfont: Font family 'Bitstream Vera Sans' not found.\n",
      "findfont: Font family 'Bitstream Vera Sans' not found.\n",
      "findfont: Font family 'Bitstream Vera Sans' not found.\n",
      "findfont: Font family 'Bitstream Vera Sans' not found.\n",
      "findfont: Font family 'Bitstream Vera Sans' not found.\n",
      "findfont: Font family 'Bitstream Vera Sans' not found.\n",
      "findfont: Font family 'Bitstream Vera Sans' not found.\n",
      "findfont: Font family 'Bitstream Vera Sans' not found.\n",
      "findfont: Font family 'Bitstream Vera Sans' not found.\n",
      "findfont: Font family 'Bitstream Vera Sans' not found.\n",
      "findfont: Font family 'Bitstream Vera Sans' not found.\n",
      "findfont: Font family 'Bitstream Vera Sans' not found.\n",
      "findfont: Font family 'Bitstream Vera Sans' not found.\n",
      "findfont: Font family 'Bitstream Vera Sans' not found.\n",
      "findfont: Font family 'Bitstream Vera Sans' not found.\n",
      "findfont: Font family 'Bitstream Vera Sans' not found.\n",
      "findfont: Font family 'Bitstream Vera Sans' not found.\n",
      "findfont: Font family 'Bitstream Vera Sans' not found.\n",
      "findfont: Font family 'Bitstream Vera Sans' not found.\n",
      "findfont: Font family 'Bitstream Vera Sans' not found.\n",
      "findfont: Font family 'Bitstream Vera Sans' not found.\n",
      "findfont: Font family 'Bitstream Vera Sans' not found.\n",
      "findfont: Font family 'Bitstream Vera Sans' not found.\n",
      "findfont: Font family 'Bitstream Vera Sans' not found.\n",
      "findfont: Font family 'Bitstream Vera Sans' not found.\n",
      "findfont: Font family 'Bitstream Vera Sans' not found.\n",
      "findfont: Font family 'Bitstream Vera Sans' not found.\n",
      "findfont: Font family 'Bitstream Vera Sans' not found.\n",
      "findfont: Font family 'Bitstream Vera Sans' not found.\n",
      "findfont: Font family 'Bitstream Vera Sans' not found.\n",
      "findfont: Font family 'Bitstream Vera Sans' not found.\n",
      "findfont: Font family 'Bitstream Vera Sans' not found.\n",
      "findfont: Font family 'Bitstream Vera Sans' not found.\n",
      "findfont: Font family 'Bitstream Vera Sans' not found.\n",
      "findfont: Font family 'Bitstream Vera Sans' not found.\n",
      "findfont: Font family 'Bitstream Vera Sans' not found.\n",
      "findfont: Font family 'Bitstream Vera Sans' not found.\n",
      "findfont: Font family 'Bitstream Vera Sans' not found.\n",
      "findfont: Font family 'Bitstream Vera Sans' not found.\n",
      "findfont: Font family 'Bitstream Vera Sans' not found.\n",
      "findfont: Font family 'Bitstream Vera Sans' not found.\n",
      "findfont: Font family 'Bitstream Vera Sans' not found.\n",
      "findfont: Font family 'Bitstream Vera Sans' not found.\n",
      "findfont: Font family 'Bitstream Vera Sans' not found.\n",
      "findfont: Font family 'Bitstream Vera Sans' not found.\n",
      "findfont: Font family 'Bitstream Vera Sans' not found.\n",
      "findfont: Font family 'Bitstream Vera Sans' not found.\n",
      "findfont: Font family 'Bitstream Vera Sans' not found.\n",
      "findfont: Font family 'Bitstream Vera Sans' not found.\n",
      "findfont: Font family 'Bitstream Vera Sans' not found.\n",
      "findfont: Font family 'Bitstream Vera Sans' not found.\n",
      "findfont: Font family 'Bitstream Vera Sans' not found.\n",
      "findfont: Font family 'Bitstream Vera Sans' not found.\n",
      "findfont: Font family 'Bitstream Vera Sans' not found.\n",
      "findfont: Font family 'Bitstream Vera Sans' not found.\n",
      "findfont: Font family 'Bitstream Vera Sans' not found.\n",
      "findfont: Font family 'Bitstream Vera Sans' not found.\n",
      "findfont: Font family 'Bitstream Vera Sans' not found.\n",
      "findfont: Font family 'Bitstream Vera Sans' not found.\n",
      "findfont: Font family 'Bitstream Vera Sans' not found.\n",
      "findfont: Font family 'Bitstream Vera Sans' not found.\n",
      "findfont: Font family 'Bitstream Vera Sans' not found.\n",
      "findfont: Font family 'Bitstream Vera Sans' not found.\n",
      "findfont: Font family 'Bitstream Vera Sans' not found.\n",
      "findfont: Font family 'Bitstream Vera Sans' not found.\n",
      "findfont: Font family 'Bitstream Vera Sans' not found.\n",
      "findfont: Font family 'Bitstream Vera Sans' not found.\n",
      "findfont: Font family 'Bitstream Vera Sans' not found.\n",
      "findfont: Font family 'Bitstream Vera Sans' not found.\n",
      "findfont: Font family 'Bitstream Vera Sans' not found.\n",
      "findfont: Font family 'Bitstream Vera Sans' not found.\n",
      "findfont: Font family 'Bitstream Vera Sans' not found.\n",
      "findfont: Font family 'Bitstream Vera Sans' not found.\n",
      "findfont: Font family 'Bitstream Vera Sans' not found.\n",
      "findfont: Font family 'Bitstream Vera Sans' not found.\n",
      "findfont: Font family 'Bitstream Vera Sans' not found.\n",
      "findfont: Font family 'Bitstream Vera Sans' not found.\n",
      "findfont: Font family 'Bitstream Vera Sans' not found.\n",
      "findfont: Font family 'Bitstream Vera Sans' not found.\n",
      "findfont: Font family 'Bitstream Vera Sans' not found.\n",
      "findfont: Font family 'Bitstream Vera Sans' not found.\n",
      "findfont: Font family 'Bitstream Vera Sans' not found.\n",
      "findfont: Font family 'Bitstream Vera Sans' not found.\n",
      "findfont: Font family 'Bitstream Vera Sans' not found.\n",
      "findfont: Font family 'Bitstream Vera Sans' not found.\n",
      "findfont: Font family 'Bitstream Vera Sans' not found.\n",
      "findfont: Font family 'Bitstream Vera Sans' not found.\n",
      "findfont: Font family 'Bitstream Vera Sans' not found.\n",
      "findfont: Font family 'Bitstream Vera Sans' not found.\n",
      "findfont: Font family 'Bitstream Vera Sans' not found.\n",
      "findfont: Font family 'Bitstream Vera Sans' not found.\n",
      "findfont: Font family 'Bitstream Vera Sans' not found.\n",
      "findfont: Font family 'Bitstream Vera Sans' not found.\n",
      "findfont: Font family 'Bitstream Vera Sans' not found.\n",
      "findfont: Font family 'Bitstream Vera Sans' not found.\n",
      "findfont: Font family 'Bitstream Vera Sans' not found.\n",
      "findfont: Font family 'Bitstream Vera Sans' not found.\n",
      "findfont: Font family 'Bitstream Vera Sans' not found.\n",
      "findfont: Font family 'Bitstream Vera Sans' not found.\n",
      "findfont: Font family 'Bitstream Vera Sans' not found.\n",
      "findfont: Font family 'Bitstream Vera Sans' not found.\n",
      "findfont: Font family 'Bitstream Vera Sans' not found.\n",
      "findfont: Font family 'Bitstream Vera Sans' not found.\n",
      "findfont: Font family 'Bitstream Vera Sans' not found.\n",
      "findfont: Font family 'Bitstream Vera Sans' not found.\n",
      "findfont: Font family 'Bitstream Vera Sans' not found.\n",
      "findfont: Font family 'Bitstream Vera Sans' not found.\n",
      "findfont: Font family 'Bitstream Vera Sans' not found.\n",
      "findfont: Font family 'Bitstream Vera Sans' not found.\n",
      "findfont: Font family 'Bitstream Vera Sans' not found.\n",
      "findfont: Font family 'Bitstream Vera Sans' not found.\n",
      "findfont: Font family 'Bitstream Vera Sans' not found.\n",
      "findfont: Font family 'Bitstream Vera Sans' not found.\n",
      "findfont: Font family 'Bitstream Vera Sans' not found.\n",
      "findfont: Font family 'Bitstream Vera Sans' not found.\n",
      "findfont: Font family 'Bitstream Vera Sans' not found.\n",
      "findfont: Font family 'Bitstream Vera Sans' not found.\n",
      "findfont: Font family 'Bitstream Vera Sans' not found.\n",
      "findfont: Font family 'Bitstream Vera Sans' not found.\n",
      "findfont: Font family 'Bitstream Vera Sans' not found.\n",
      "findfont: Font family 'Bitstream Vera Sans' not found.\n",
      "findfont: Font family 'Bitstream Vera Sans' not found.\n",
      "findfont: Font family 'Bitstream Vera Sans' not found.\n",
      "findfont: Font family 'Bitstream Vera Sans' not found.\n",
      "findfont: Font family 'Bitstream Vera Sans' not found.\n",
      "findfont: Font family 'Bitstream Vera Sans' not found.\n",
      "findfont: Font family 'Bitstream Vera Sans' not found.\n",
      "findfont: Font family 'Bitstream Vera Sans' not found.\n",
      "findfont: Font family 'Bitstream Vera Sans' not found.\n",
      "findfont: Font family 'Bitstream Vera Sans' not found.\n",
      "findfont: Font family 'Bitstream Vera Sans' not found.\n",
      "findfont: Font family 'Bitstream Vera Sans' not found.\n",
      "findfont: Font family 'Bitstream Vera Sans' not found.\n",
      "findfont: Font family 'Bitstream Vera Sans' not found.\n",
      "findfont: Font family 'Bitstream Vera Sans' not found.\n",
      "findfont: Font family 'Bitstream Vera Sans' not found.\n",
      "findfont: Font family 'Bitstream Vera Sans' not found.\n",
      "findfont: Font family 'Bitstream Vera Sans' not found.\n",
      "findfont: Font family 'Bitstream Vera Sans' not found.\n",
      "findfont: Font family 'Bitstream Vera Sans' not found.\n",
      "findfont: Font family 'Bitstream Vera Sans' not found.\n",
      "findfont: Font family 'Bitstream Vera Sans' not found.\n",
      "findfont: Font family 'Bitstream Vera Sans' not found.\n",
      "findfont: Font family 'Bitstream Vera Sans' not found.\n",
      "findfont: Font family 'Bitstream Vera Sans' not found.\n",
      "findfont: Font family 'Bitstream Vera Sans' not found.\n",
      "findfont: Font family 'Bitstream Vera Sans' not found.\n",
      "findfont: Font family 'Bitstream Vera Sans' not found.\n",
      "findfont: Font family 'Bitstream Vera Sans' not found.\n",
      "findfont: Font family 'Bitstream Vera Sans' not found.\n",
      "findfont: Font family 'Bitstream Vera Sans' not found.\n",
      "findfont: Font family 'Bitstream Vera Sans' not found.\n",
      "findfont: Font family 'Bitstream Vera Sans' not found.\n",
      "findfont: Font family 'Bitstream Vera Sans' not found.\n",
      "findfont: Font family 'Bitstream Vera Sans' not found.\n",
      "findfont: Font family 'Bitstream Vera Sans' not found.\n",
      "findfont: Font family 'Bitstream Vera Sans' not found.\n",
      "findfont: Font family 'Bitstream Vera Sans' not found.\n",
      "findfont: Font family 'Bitstream Vera Sans' not found.\n",
      "findfont: Font family 'Bitstream Vera Sans' not found.\n",
      "findfont: Font family 'Bitstream Vera Sans' not found.\n",
      "findfont: Font family 'Bitstream Vera Sans' not found.\n",
      "findfont: Font family 'Bitstream Vera Sans' not found.\n",
      "findfont: Font family 'Bitstream Vera Sans' not found.\n",
      "findfont: Font family 'Bitstream Vera Sans' not found.\n",
      "findfont: Font family 'Bitstream Vera Sans' not found.\n",
      "findfont: Font family 'Bitstream Vera Sans' not found.\n",
      "findfont: Font family 'Bitstream Vera Sans' not found.\n",
      "findfont: Font family 'Bitstream Vera Sans' not found.\n",
      "/opt/homebrew/lib/python3.10/site-packages/scanpy/plotting/_utils.py:314: UserWarning: Matplotlib is currently using agg, which is a non-GUI backend, so cannot show the figure.\n",
      "  pl.show()\n"
     ]
    }
   ],
   "source": [
    "sc.pl.umap(adata_proceesed, color='SEACell', save=f'_SEACells_{REPRESENT}.png')"
   ]
  },
  {
   "cell_type": "code",
   "execution_count": 235,
   "metadata": {},
   "outputs": [
    {
     "name": "stderr",
     "output_type": "stream",
     "text": [
      "/opt/homebrew/lib/python3.10/site-packages/SEACells/plot.py:121: UserWarning: \n",
      "\n",
      "`distplot` is a deprecated function and will be removed in seaborn v0.14.0.\n",
      "\n",
      "Please adapt your code to use either `displot` (a figure-level function with\n",
      "similar flexibility) or `histplot` (an axes-level function for histograms).\n",
      "\n",
      "For a guide to updating your code to use the new functions, please see\n",
      "https://gist.github.com/mwaskom/de44147ed2974457ad6372750bbe5751\n",
      "\n",
      "  sns.distplot(label_df.groupby('SEACell').count().iloc[:, 0], bins=bins)\n",
      "/opt/homebrew/lib/python3.10/site-packages/SEACells/plot.py:129: UserWarning: Matplotlib is currently using agg, which is a non-GUI backend, so cannot show the figure.\n",
      "  plt.show()\n"
     ]
    },
    {
     "data": {
      "text/html": [
       "<div>\n",
       "<style scoped>\n",
       "    .dataframe tbody tr th:only-of-type {\n",
       "        vertical-align: middle;\n",
       "    }\n",
       "\n",
       "    .dataframe tbody tr th {\n",
       "        vertical-align: top;\n",
       "    }\n",
       "\n",
       "    .dataframe thead th {\n",
       "        text-align: right;\n",
       "    }\n",
       "</style>\n",
       "<table border=\"1\" class=\"dataframe\">\n",
       "  <thead>\n",
       "    <tr style=\"text-align: right;\">\n",
       "      <th></th>\n",
       "      <th>size</th>\n",
       "    </tr>\n",
       "    <tr>\n",
       "      <th>SEACell</th>\n",
       "      <th></th>\n",
       "    </tr>\n",
       "  </thead>\n",
       "  <tbody>\n",
       "    <tr>\n",
       "      <th>SEACell-0</th>\n",
       "      <td>427</td>\n",
       "    </tr>\n",
       "    <tr>\n",
       "      <th>SEACell-1</th>\n",
       "      <td>176</td>\n",
       "    </tr>\n",
       "    <tr>\n",
       "      <th>SEACell-2</th>\n",
       "      <td>57</td>\n",
       "    </tr>\n",
       "    <tr>\n",
       "      <th>SEACell-3</th>\n",
       "      <td>102</td>\n",
       "    </tr>\n",
       "    <tr>\n",
       "      <th>SEACell-4</th>\n",
       "      <td>24</td>\n",
       "    </tr>\n",
       "    <tr>\n",
       "      <th>SEACell-5</th>\n",
       "      <td>124</td>\n",
       "    </tr>\n",
       "    <tr>\n",
       "      <th>SEACell-6</th>\n",
       "      <td>113</td>\n",
       "    </tr>\n",
       "    <tr>\n",
       "      <th>SEACell-7</th>\n",
       "      <td>124</td>\n",
       "    </tr>\n",
       "    <tr>\n",
       "      <th>SEACell-8</th>\n",
       "      <td>262</td>\n",
       "    </tr>\n",
       "    <tr>\n",
       "      <th>SEACell-9</th>\n",
       "      <td>124</td>\n",
       "    </tr>\n",
       "    <tr>\n",
       "      <th>SEACell-10</th>\n",
       "      <td>49</td>\n",
       "    </tr>\n",
       "    <tr>\n",
       "      <th>SEACell-11</th>\n",
       "      <td>103</td>\n",
       "    </tr>\n",
       "    <tr>\n",
       "      <th>SEACell-12</th>\n",
       "      <td>114</td>\n",
       "    </tr>\n",
       "    <tr>\n",
       "      <th>SEACell-13</th>\n",
       "      <td>49</td>\n",
       "    </tr>\n",
       "    <tr>\n",
       "      <th>SEACell-14</th>\n",
       "      <td>57</td>\n",
       "    </tr>\n",
       "  </tbody>\n",
       "</table>\n",
       "</div>"
      ],
      "text/plain": [
       "            size\n",
       "SEACell         \n",
       "SEACell-0    427\n",
       "SEACell-1    176\n",
       "SEACell-2     57\n",
       "SEACell-3    102\n",
       "SEACell-4     24\n",
       "SEACell-5    124\n",
       "SEACell-6    113\n",
       "SEACell-7    124\n",
       "SEACell-8    262\n",
       "SEACell-9    124\n",
       "SEACell-10    49\n",
       "SEACell-11   103\n",
       "SEACell-12   114\n",
       "SEACell-13    49\n",
       "SEACell-14    57"
      ]
     },
     "execution_count": 235,
     "metadata": {},
     "output_type": "execute_result"
    }
   ],
   "source": [
    "SEACells.plot.plot_SEACell_sizes(adata_proceesed, bins=10)"
   ]
  },
  {
   "cell_type": "markdown",
   "metadata": {},
   "source": [
    "# Saving Results"
   ]
  },
  {
   "cell_type": "code",
   "execution_count": 236,
   "metadata": {},
   "outputs": [],
   "source": [
    "model.get_hard_assignments().to_csv(save_dir + dataset + f'_SEACell_assignments_{REPRESENT}.csv', sep='\\t')"
   ]
  }
 ],
 "metadata": {
  "kernelspec": {
   "display_name": "Python 3 (ipykernel)",
   "language": "python",
   "name": "python3"
  },
  "language_info": {
   "codemirror_mode": {
    "name": "ipython",
    "version": 3
   },
   "file_extension": ".py",
   "mimetype": "text/x-python",
   "name": "python",
   "nbconvert_exporter": "python",
   "pygments_lexer": "ipython3",
   "version": "3.10.13"
  }
 },
 "nbformat": 4,
 "nbformat_minor": 2
}
