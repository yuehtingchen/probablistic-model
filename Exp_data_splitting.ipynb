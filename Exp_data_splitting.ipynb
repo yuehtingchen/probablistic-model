{
 "cells": [
  {
   "cell_type": "code",
   "execution_count": 106,
   "metadata": {},
   "outputs": [],
   "source": [
    "import numpy as np\n",
    "import pandas as pd\n",
    "import matplotlib.pyplot as plt\n",
    "import seaborn as sns\n",
    "from datetime import date"
   ]
  },
  {
   "cell_type": "code",
   "execution_count": 107,
   "metadata": {},
   "outputs": [],
   "source": [
    "DATA = 'switch'\n",
    "dataset_dir = '../data/'\n",
    "save_dir = 'data/'\n",
    "bulkseq_dataset = 'Degnorm_JS_1394ESGs.csv'\n",
    "switch_dataset = \"switch_genelist.csv\"\n",
    "meta_dataset = 'NGJ_Switches_28Sept2023.csv'"
   ]
  },
  {
   "cell_type": "markdown",
   "metadata": {},
   "source": [
    "# Read Switches"
   ]
  },
  {
   "cell_type": "code",
   "execution_count": 108,
   "metadata": {},
   "outputs": [],
   "source": [
    "if DATA == 'switch':\n",
    "\tswitch_df = pd.read_csv(dataset_dir + switch_dataset, index_col=0)\n",
    "\t# drop first column\n",
    "\tswitch_df = switch_df.drop(switch_df.columns[0], axis=1)\n",
    "\n",
    "\t# switch df to dict\n",
    "\tswitch_dict = {}\n",
    "\tfor row in switch_df.index:\n",
    "\t\tswitch_dict[row] = switch_df.loc[row].dropna().tolist()"
   ]
  },
  {
   "cell_type": "markdown",
   "metadata": {},
   "source": [
    "# Read Bulk Seq Dataset"
   ]
  },
  {
   "cell_type": "code",
   "execution_count": 109,
   "metadata": {},
   "outputs": [],
   "source": [
    "Exp = pd.read_csv(dataset_dir + bulkseq_dataset, index_col=0).T"
   ]
  },
  {
   "cell_type": "code",
   "execution_count": 110,
   "metadata": {},
   "outputs": [
    {
     "data": {
      "text/plain": [
       "(0.0, 28.1538)"
      ]
     },
     "execution_count": 110,
     "metadata": {},
     "output_type": "execute_result"
    }
   ],
   "source": [
    "# bulk seq dataset is in Jane Score\n",
    "Exp.min().min(), Exp.max().max()"
   ]
  },
  {
   "cell_type": "code",
   "execution_count": 111,
   "metadata": {},
   "outputs": [
    {
     "name": "stdout",
     "output_type": "stream",
     "text": [
      "5079 19501 4981\n"
     ]
    }
   ],
   "source": [
    "if DATA == 'switch':\n",
    "\t# transform Exp to switch\n",
    "\t# compare genes in switches with genes in rpkm\n",
    "\tswitch_genes = [gene for switch in switch_dict.keys() for gene in switch_dict[switch]]\n",
    "\t# change to set\n",
    "\tswitch_genes = set(switch_genes)\n",
    "\texp_genes = set(Exp.T.index)\n",
    "\n",
    "\t# find overlapping genes\n",
    "\toverlapping_genes = switch_genes.intersection(exp_genes)\n",
    "\tprint(len(switch_genes), len(exp_genes), len(overlapping_genes))\n",
    "\n",
    "\t# filter non-overlapping genes from switches\n",
    "\tfor switch in switch_dict.keys():\n",
    "\t\tswitch_dict[switch] = list(set(switch_dict[switch]).intersection(overlapping_genes))\n",
    "\n",
    "\t# aggregate rpkm columns using switch_dict\n",
    "\tExp_new = pd.DataFrame(columns=Exp.T.columns, index=switch_dict.keys())\n",
    "\tfor i in switch_dict.keys():\n",
    "\t\tExp_new.loc[i] = np.median(Exp.T.loc[switch_dict[i]].values, axis=0)\n",
    "\n",
    "\tExp = Exp_new.T\n",
    "\n",
    "\t# save Exp\n",
    "\tbulkseq_dataset_name = bulkseq_dataset.split('.')[0]\n",
    "\tExp.to_csv(save_dir + bulkseq_dataset_name + '_switch.csv')"
   ]
  },
  {
   "cell_type": "code",
   "execution_count": 112,
   "metadata": {},
   "outputs": [
    {
     "data": {
      "text/html": [
       "<div>\n",
       "<style scoped>\n",
       "    .dataframe tbody tr th:only-of-type {\n",
       "        vertical-align: middle;\n",
       "    }\n",
       "\n",
       "    .dataframe tbody tr th {\n",
       "        vertical-align: top;\n",
       "    }\n",
       "\n",
       "    .dataframe thead th {\n",
       "        text-align: right;\n",
       "    }\n",
       "</style>\n",
       "<table border=\"1\" class=\"dataframe\">\n",
       "  <thead>\n",
       "    <tr style=\"text-align: right;\">\n",
       "      <th></th>\n",
       "      <th>Age</th>\n",
       "      <th>Surgery</th>\n",
       "      <th>Surgery.Date</th>\n",
       "      <th>Collection.Date</th>\n",
       "      <th>Endo</th>\n",
       "      <th>Endo.Case.Control</th>\n",
       "      <th>Endo.Training</th>\n",
       "      <th>Adeno</th>\n",
       "      <th>Fibroids</th>\n",
       "      <th>PCOS</th>\n",
       "      <th>...</th>\n",
       "      <th>Th2cellsIRIS3</th>\n",
       "      <th>TregsBLUEPRINT1</th>\n",
       "      <th>TregsBLUEPRINT2</th>\n",
       "      <th>TregsBLUEPRINT3</th>\n",
       "      <th>TregsFANTOM1</th>\n",
       "      <th>TregsFANTOM2</th>\n",
       "      <th>TregsFANTOM3</th>\n",
       "      <th>TregsHPCA1</th>\n",
       "      <th>TregsHPCA2</th>\n",
       "      <th>TregsHPCA3</th>\n",
       "    </tr>\n",
       "    <tr>\n",
       "      <th>Patient</th>\n",
       "      <th></th>\n",
       "      <th></th>\n",
       "      <th></th>\n",
       "      <th></th>\n",
       "      <th></th>\n",
       "      <th></th>\n",
       "      <th></th>\n",
       "      <th></th>\n",
       "      <th></th>\n",
       "      <th></th>\n",
       "      <th></th>\n",
       "      <th></th>\n",
       "      <th></th>\n",
       "      <th></th>\n",
       "      <th></th>\n",
       "      <th></th>\n",
       "      <th></th>\n",
       "      <th></th>\n",
       "      <th></th>\n",
       "      <th></th>\n",
       "      <th></th>\n",
       "    </tr>\n",
       "  </thead>\n",
       "  <tbody>\n",
       "    <tr>\n",
       "      <th>H01-A0214</th>\n",
       "      <td>27</td>\n",
       "      <td>Not Applicable</td>\n",
       "      <td>no surgery date</td>\n",
       "      <td>9/3/22</td>\n",
       "      <td>-1</td>\n",
       "      <td>Control</td>\n",
       "      <td>No</td>\n",
       "      <td>-1</td>\n",
       "      <td>-1</td>\n",
       "      <td>-1</td>\n",
       "      <td>...</td>\n",
       "      <td>3.12865</td>\n",
       "      <td>3.75445</td>\n",
       "      <td>3.6057</td>\n",
       "      <td>4.4721</td>\n",
       "      <td>3.6057</td>\n",
       "      <td>4.4721</td>\n",
       "      <td>3.6057</td>\n",
       "      <td>2.21025</td>\n",
       "      <td>0.95685</td>\n",
       "      <td>1.0193</td>\n",
       "    </tr>\n",
       "    <tr>\n",
       "      <th>H01-A0181</th>\n",
       "      <td>40</td>\n",
       "      <td>Not Applicable</td>\n",
       "      <td>no surgery date</td>\n",
       "      <td>10/6/22</td>\n",
       "      <td>-1</td>\n",
       "      <td>Control</td>\n",
       "      <td>No</td>\n",
       "      <td>-1</td>\n",
       "      <td>-1</td>\n",
       "      <td>-1</td>\n",
       "      <td>...</td>\n",
       "      <td>2.47180</td>\n",
       "      <td>2.50245</td>\n",
       "      <td>2.4935</td>\n",
       "      <td>3.0522</td>\n",
       "      <td>2.4935</td>\n",
       "      <td>3.0522</td>\n",
       "      <td>0.6330</td>\n",
       "      <td>0.01000</td>\n",
       "      <td>0.01000</td>\n",
       "      <td>0.0100</td>\n",
       "    </tr>\n",
       "    <tr>\n",
       "      <th>E01-A0095</th>\n",
       "      <td>46</td>\n",
       "      <td>PRE</td>\n",
       "      <td>1/4/23 0:00</td>\n",
       "      <td>10/19/22</td>\n",
       "      <td>2</td>\n",
       "      <td>Case</td>\n",
       "      <td>No</td>\n",
       "      <td>-1</td>\n",
       "      <td>-1</td>\n",
       "      <td>-1</td>\n",
       "      <td>...</td>\n",
       "      <td>1.81945</td>\n",
       "      <td>2.84140</td>\n",
       "      <td>2.7669</td>\n",
       "      <td>3.5398</td>\n",
       "      <td>2.7669</td>\n",
       "      <td>3.5398</td>\n",
       "      <td>2.5597</td>\n",
       "      <td>1.83685</td>\n",
       "      <td>1.01235</td>\n",
       "      <td>1.4579</td>\n",
       "    </tr>\n",
       "    <tr>\n",
       "      <th>E01-A0095</th>\n",
       "      <td>46</td>\n",
       "      <td>PRE</td>\n",
       "      <td>1/4/23 0:00</td>\n",
       "      <td>10/18/22</td>\n",
       "      <td>2</td>\n",
       "      <td>Case</td>\n",
       "      <td>No</td>\n",
       "      <td>-1</td>\n",
       "      <td>-1</td>\n",
       "      <td>-1</td>\n",
       "      <td>...</td>\n",
       "      <td>2.40225</td>\n",
       "      <td>3.04890</td>\n",
       "      <td>3.0328</td>\n",
       "      <td>3.5378</td>\n",
       "      <td>3.0328</td>\n",
       "      <td>3.5378</td>\n",
       "      <td>2.1953</td>\n",
       "      <td>2.46180</td>\n",
       "      <td>1.10265</td>\n",
       "      <td>2.1953</td>\n",
       "    </tr>\n",
       "    <tr>\n",
       "      <th>E01-A0111</th>\n",
       "      <td>22</td>\n",
       "      <td>PRE</td>\n",
       "      <td>10/24/22 0:00</td>\n",
       "      <td>10/18/22</td>\n",
       "      <td>2</td>\n",
       "      <td>Case</td>\n",
       "      <td>No</td>\n",
       "      <td>-1</td>\n",
       "      <td>-1</td>\n",
       "      <td>2</td>\n",
       "      <td>...</td>\n",
       "      <td>0.08985</td>\n",
       "      <td>1.94835</td>\n",
       "      <td>1.3624</td>\n",
       "      <td>2.5306</td>\n",
       "      <td>1.3624</td>\n",
       "      <td>2.5306</td>\n",
       "      <td>0.9810</td>\n",
       "      <td>0.16645</td>\n",
       "      <td>0.01000</td>\n",
       "      <td>0.0100</td>\n",
       "    </tr>\n",
       "  </tbody>\n",
       "</table>\n",
       "<p>5 rows × 577 columns</p>\n",
       "</div>"
      ],
      "text/plain": [
       "           Age         Surgery     Surgery.Date Collection.Date  Endo  \\\n",
       "Patient                                                                 \n",
       "H01-A0214   27  Not Applicable  no surgery date          9/3/22    -1   \n",
       "H01-A0181   40  Not Applicable  no surgery date         10/6/22    -1   \n",
       "E01-A0095   46             PRE      1/4/23 0:00        10/19/22     2   \n",
       "E01-A0095   46             PRE      1/4/23 0:00        10/18/22     2   \n",
       "E01-A0111   22             PRE    10/24/22 0:00        10/18/22     2   \n",
       "\n",
       "          Endo.Case.Control Endo.Training  Adeno  Fibroids  PCOS  ...  \\\n",
       "Patient                                                           ...   \n",
       "H01-A0214           Control            No     -1        -1    -1  ...   \n",
       "H01-A0181           Control            No     -1        -1    -1  ...   \n",
       "E01-A0095              Case            No     -1        -1    -1  ...   \n",
       "E01-A0095              Case            No     -1        -1    -1  ...   \n",
       "E01-A0111              Case            No     -1        -1     2  ...   \n",
       "\n",
       "           Th2cellsIRIS3 TregsBLUEPRINT1 TregsBLUEPRINT2  TregsBLUEPRINT3  \\\n",
       "Patient                                                                     \n",
       "H01-A0214        3.12865         3.75445          3.6057           4.4721   \n",
       "H01-A0181        2.47180         2.50245          2.4935           3.0522   \n",
       "E01-A0095        1.81945         2.84140          2.7669           3.5398   \n",
       "E01-A0095        2.40225         3.04890          3.0328           3.5378   \n",
       "E01-A0111        0.08985         1.94835          1.3624           2.5306   \n",
       "\n",
       "           TregsFANTOM1  TregsFANTOM2  TregsFANTOM3 TregsHPCA1 TregsHPCA2  \\\n",
       "Patient                                                                     \n",
       "H01-A0214        3.6057        4.4721        3.6057    2.21025    0.95685   \n",
       "H01-A0181        2.4935        3.0522        0.6330    0.01000    0.01000   \n",
       "E01-A0095        2.7669        3.5398        2.5597    1.83685    1.01235   \n",
       "E01-A0095        3.0328        3.5378        2.1953    2.46180    1.10265   \n",
       "E01-A0111        1.3624        2.5306        0.9810    0.16645    0.01000   \n",
       "\n",
       "          TregsHPCA3  \n",
       "Patient               \n",
       "H01-A0214     1.0193  \n",
       "H01-A0181     0.0100  \n",
       "E01-A0095     1.4579  \n",
       "E01-A0095     2.1953  \n",
       "E01-A0111     0.0100  \n",
       "\n",
       "[5 rows x 577 columns]"
      ]
     },
     "execution_count": 112,
     "metadata": {},
     "output_type": "execute_result"
    }
   ],
   "source": [
    "metadata_df = pd.read_csv(dataset_dir + meta_dataset, index_col=0)\n",
    "metadata_df.head()"
   ]
  },
  {
   "cell_type": "code",
   "execution_count": 113,
   "metadata": {},
   "outputs": [],
   "source": [
    "# remove duplicate kits, keep later one\n",
    "metadata_df.sort_values(by=['Clinical.QC', 'Research.QC', 'Strand.QC'], inplace=True)\n",
    "metadata_df.drop_duplicates(subset=['Kit'], keep='last', inplace=True)"
   ]
  },
  {
   "cell_type": "code",
   "execution_count": 114,
   "metadata": {},
   "outputs": [
    {
     "data": {
      "image/png": "[encoded data removed]",
      "text/plain": [
       "<Figure size 640x480 with 1 Axes>"
      ]
     },
     "metadata": {},
     "output_type": "display_data"
    }
   ],
   "source": [
    "days_dist = dict()\n",
    "for d in  metadata_df['Cycle.Day'].unique():\n",
    "\tdays_dist[d] = (metadata_df['Cycle.Day'] == d).sum()\n",
    "\n",
    "plt.bar(days_dist.keys(), days_dist.values())\n",
    "plt.xlabel('Cycle Day')\n",
    "plt.ylabel('Number of Samples')\n",
    "plt.title('Distribution of Cycle Days')\n",
    "plt.savefig('plots/cycle_days_dist.png')"
   ]
  },
  {
   "cell_type": "code",
   "execution_count": 115,
   "metadata": {},
   "outputs": [
    {
     "data": {
      "image/png": "[encoded data removed]",
      "text/plain": [
       "<Figure size 640x480 with 1 Axes>"
      ]
     },
     "metadata": {},
     "output_type": "display_data"
    }
   ],
   "source": [
    "days_dist = dict()\n",
    "for d in  metadata_df['Endo.Case.Control'].unique():\n",
    "\tdays_dist[d] = (metadata_df['Endo.Case.Control'] == d).sum()\n",
    "\n",
    "plt.bar(days_dist.keys(), days_dist.values())\n",
    "plt.xlabel('Endo Label')\n",
    "plt.ylabel('Number of Samples')\n",
    "plt.title('Distribution of Endo Label')\n",
    "plt.savefig('plots/endo_label_dist.png')"
   ]
  },
  {
   "cell_type": "code",
   "execution_count": 116,
   "metadata": {},
   "outputs": [],
   "source": [
    "# drop rows with negative day values\n",
    "metadata_df = metadata_df[metadata_df['Cycle.Day'] > 0]\n",
    "# drop rows with day > 5\n",
    "metadata_df = metadata_df[metadata_df['Cycle.Day'] <= 5]\n",
    "# drop rows with other endo labels\n",
    "metadata_df = metadata_df[metadata_df['Endo.Case.Control'] != 'Other']\n",
    "# add column to encode endo label to 0 and 1\n",
    "metadata_df['Endo.Case.Control'] = metadata_df['Endo.Case.Control'].map({'Case': 1, 'Control': 0, 'Suspected': 0.5})"
   ]
  },
  {
   "cell_type": "code",
   "execution_count": 117,
   "metadata": {},
   "outputs": [
    {
     "data": {
      "image/png": "[encoded data removed]",
      "text/plain": [
       "<Figure size 640x480 with 1 Axes>"
      ]
     },
     "metadata": {},
     "output_type": "display_data"
    }
   ],
   "source": [
    "# plot dist of birth control\n",
    "birth_map = {0: 0, 2: 1, 5: 1, 6: 1, 7: 1, 4:2, -3:2, 3:2, -1:2, -2:2, 1:2, 8:2}\n",
    "days_dist = dict()\n",
    "days_dist[0] = 0\n",
    "days_dist[1] = 0\n",
    "days_dist[2] = 0\n",
    "\n",
    "for d in  metadata_df['Birth.Control'].unique():\n",
    "\tlabel = birth_map[d]\n",
    "\tdays_dist[label] += (metadata_df['Birth.Control'] == d).sum()\n",
    "\n",
    "plt.bar(days_dist.keys(), days_dist.values())\n",
    "plt.xlabel('Birth Control')\n",
    "plt.ylabel('Number of Samples')\n",
    "plt.title('Distribution of Birth Control')\n",
    "plt.savefig('plots/birth_control_dist.png')"
   ]
  },
  {
   "cell_type": "code",
   "execution_count": 118,
   "metadata": {},
   "outputs": [],
   "source": [
    "# add column to encode Birth.Control\n",
    "metadata_df['Birth.Control'] = metadata_df['Birth.Control'].map(birth_map)"
   ]
  },
  {
   "cell_type": "code",
   "execution_count": 119,
   "metadata": {},
   "outputs": [
    {
     "data": {
      "image/png": "[encoded data removed]",
      "text/plain": [
       "<Figure size 640x480 with 1 Axes>"
      ]
     },
     "metadata": {},
     "output_type": "display_data"
    }
   ],
   "source": [
    "# plot dist of age\n",
    "plt.hist(metadata_df['Age'])\n",
    "plt.xlabel('Age')\n",
    "plt.ylabel('Number of Samples')\n",
    "plt.title('Distribution of Age')\n",
    "plt.savefig('plots/age_dist.png')"
   ]
  },
  {
   "cell_type": "code",
   "execution_count": 120,
   "metadata": {},
   "outputs": [],
   "source": [
    "# add column to bucket age into 6 groups\n",
    "age_binned = []\n",
    "for age in metadata_df['Age']:\n",
    "\tif age == -1:\n",
    "\t\tage_binned.append(-1)\n",
    "\telif age < 33:\n",
    "\t\tage_binned.append(0)\n",
    "\telse:\n",
    "\t\tage_binned.append(1)\n",
    "\n",
    "metadata_df['Age.Binned'] = age_binned"
   ]
  },
  {
   "cell_type": "code",
   "execution_count": 121,
   "metadata": {},
   "outputs": [
    {
     "data": {
      "image/png": "[encoded data removed]",
      "text/plain": [
       "<Figure size 640x480 with 1 Axes>"
      ]
     },
     "metadata": {},
     "output_type": "display_data"
    }
   ],
   "source": [
    "# replot dist of age\n",
    "plt.hist(metadata_df['Age.Binned'])\n",
    "plt.xticks([-1, 0, 1], ['Unknown', '<33', '>=33'])\n",
    "plt.xlabel('Binned Age')\n",
    "plt.ylabel('Number of Samples')\n",
    "plt.title('Distribution of Age')\n",
    "plt.savefig('plots/age_binned_dist.png')"
   ]
  },
  {
   "cell_type": "code",
   "execution_count": 122,
   "metadata": {},
   "outputs": [
    {
     "data": {
      "text/html": [
       "<div>\n",
       "<style scoped>\n",
       "    .dataframe tbody tr th:only-of-type {\n",
       "        vertical-align: middle;\n",
       "    }\n",
       "\n",
       "    .dataframe tbody tr th {\n",
       "        vertical-align: top;\n",
       "    }\n",
       "\n",
       "    .dataframe thead th {\n",
       "        text-align: right;\n",
       "    }\n",
       "</style>\n",
       "<table border=\"1\" class=\"dataframe\">\n",
       "  <thead>\n",
       "    <tr style=\"text-align: right;\">\n",
       "      <th></th>\n",
       "      <th>ESG</th>\n",
       "      <th>Cycle.Day</th>\n",
       "      <th>Endo.Case.Control</th>\n",
       "      <th>Age.Binned</th>\n",
       "      <th>Cycle</th>\n",
       "      <th>Birth.Control</th>\n",
       "    </tr>\n",
       "    <tr>\n",
       "      <th>Patient</th>\n",
       "      <th></th>\n",
       "      <th></th>\n",
       "      <th></th>\n",
       "      <th></th>\n",
       "      <th></th>\n",
       "      <th></th>\n",
       "    </tr>\n",
       "  </thead>\n",
       "  <tbody>\n",
       "    <tr>\n",
       "      <th>E01-A0129</th>\n",
       "      <td>ESG3761</td>\n",
       "      <td>4</td>\n",
       "      <td>1.0</td>\n",
       "      <td>0</td>\n",
       "      <td>a</td>\n",
       "      <td>0</td>\n",
       "    </tr>\n",
       "    <tr>\n",
       "      <th>H01-A0206</th>\n",
       "      <td>ESG3096</td>\n",
       "      <td>2</td>\n",
       "      <td>0.0</td>\n",
       "      <td>0</td>\n",
       "      <td>b</td>\n",
       "      <td>0</td>\n",
       "    </tr>\n",
       "    <tr>\n",
       "      <th>H01-A0211</th>\n",
       "      <td>ESG3075</td>\n",
       "      <td>2</td>\n",
       "      <td>0.0</td>\n",
       "      <td>0</td>\n",
       "      <td>b</td>\n",
       "      <td>0</td>\n",
       "    </tr>\n",
       "    <tr>\n",
       "      <th>E01-A0014</th>\n",
       "      <td>ESG3704</td>\n",
       "      <td>1</td>\n",
       "      <td>1.0</td>\n",
       "      <td>1</td>\n",
       "      <td>c</td>\n",
       "      <td>0</td>\n",
       "    </tr>\n",
       "    <tr>\n",
       "      <th>H01-A0187</th>\n",
       "      <td>ESG2332</td>\n",
       "      <td>4</td>\n",
       "      <td>0.0</td>\n",
       "      <td>0</td>\n",
       "      <td>a</td>\n",
       "      <td>0</td>\n",
       "    </tr>\n",
       "  </tbody>\n",
       "</table>\n",
       "</div>"
      ],
      "text/plain": [
       "               ESG  Cycle.Day  Endo.Case.Control  Age.Binned Cycle  \\\n",
       "Patient                                                              \n",
       "E01-A0129  ESG3761          4                1.0           0     a   \n",
       "H01-A0206  ESG3096          2                0.0           0     b   \n",
       "H01-A0211  ESG3075          2                0.0           0     b   \n",
       "E01-A0014  ESG3704          1                1.0           1     c   \n",
       "H01-A0187  ESG2332          4                0.0           0     a   \n",
       "\n",
       "           Birth.Control  \n",
       "Patient                   \n",
       "E01-A0129              0  \n",
       "H01-A0206              0  \n",
       "H01-A0211              0  \n",
       "E01-A0014              0  \n",
       "H01-A0187              0  "
      ]
     },
     "execution_count": 122,
     "metadata": {},
     "output_type": "execute_result"
    }
   ],
   "source": [
    "metaData_col = ['ESG', 'Cycle.Day', 'Endo.Case.Control', 'Age.Binned', 'Cycle', 'Birth.Control']\n",
    "metaData = metadata_df[metaData_col]\n",
    "metaData.head()"
   ]
  },
  {
   "cell_type": "code",
   "execution_count": 123,
   "metadata": {},
   "outputs": [
    {
     "data": {
      "text/html": [
       "<div>\n",
       "<style scoped>\n",
       "    .dataframe tbody tr th:only-of-type {\n",
       "        vertical-align: middle;\n",
       "    }\n",
       "\n",
       "    .dataframe tbody tr th {\n",
       "        vertical-align: top;\n",
       "    }\n",
       "\n",
       "    .dataframe thead th {\n",
       "        text-align: right;\n",
       "    }\n",
       "</style>\n",
       "<table border=\"1\" class=\"dataframe\">\n",
       "  <thead>\n",
       "    <tr style=\"text-align: right;\">\n",
       "      <th></th>\n",
       "      <th>ESG</th>\n",
       "      <th>Cycle.Day</th>\n",
       "      <th>Endo.Case.Control</th>\n",
       "      <th>Age.Binned</th>\n",
       "      <th>Cycle</th>\n",
       "      <th>Birth.Control</th>\n",
       "      <th>aDC_HPCA_1</th>\n",
       "      <th>aDC_HPCA_2</th>\n",
       "      <th>aDC_HPCA_3</th>\n",
       "      <th>aDC_IRIS_1</th>\n",
       "      <th>...</th>\n",
       "      <th>Th2 cells_IRIS_3</th>\n",
       "      <th>Tregs_BLUEPRINT_1</th>\n",
       "      <th>Tregs_BLUEPRINT_2</th>\n",
       "      <th>Tregs_BLUEPRINT_3</th>\n",
       "      <th>Tregs_FANTOM_1</th>\n",
       "      <th>Tregs_FANTOM_2</th>\n",
       "      <th>Tregs_FANTOM_3</th>\n",
       "      <th>Tregs_HPCA_1</th>\n",
       "      <th>Tregs_HPCA_2</th>\n",
       "      <th>Tregs_HPCA_3</th>\n",
       "    </tr>\n",
       "    <tr>\n",
       "      <th>Patient</th>\n",
       "      <th></th>\n",
       "      <th></th>\n",
       "      <th></th>\n",
       "      <th></th>\n",
       "      <th></th>\n",
       "      <th></th>\n",
       "      <th></th>\n",
       "      <th></th>\n",
       "      <th></th>\n",
       "      <th></th>\n",
       "      <th></th>\n",
       "      <th></th>\n",
       "      <th></th>\n",
       "      <th></th>\n",
       "      <th></th>\n",
       "      <th></th>\n",
       "      <th></th>\n",
       "      <th></th>\n",
       "      <th></th>\n",
       "      <th></th>\n",
       "      <th></th>\n",
       "    </tr>\n",
       "  </thead>\n",
       "  <tbody>\n",
       "    <tr>\n",
       "      <th>E01-A0129</th>\n",
       "      <td>ESG3761</td>\n",
       "      <td>4</td>\n",
       "      <td>1.0</td>\n",
       "      <td>0</td>\n",
       "      <td>a</td>\n",
       "      <td>0</td>\n",
       "      <td>2.71865</td>\n",
       "      <td>2.8292</td>\n",
       "      <td>2.8292</td>\n",
       "      <td>1.9376</td>\n",
       "      <td>...</td>\n",
       "      <td>0.91635</td>\n",
       "      <td>1.8553</td>\n",
       "      <td>1.4509</td>\n",
       "      <td>2.3749</td>\n",
       "      <td>1.4509</td>\n",
       "      <td>2.3749</td>\n",
       "      <td>1.3016</td>\n",
       "      <td>0.01</td>\n",
       "      <td>0.01</td>\n",
       "      <td>0.01</td>\n",
       "    </tr>\n",
       "    <tr>\n",
       "      <th>H01-A0206</th>\n",
       "      <td>ESG3096</td>\n",
       "      <td>2</td>\n",
       "      <td>0.0</td>\n",
       "      <td>0</td>\n",
       "      <td>b</td>\n",
       "      <td>0</td>\n",
       "      <td>3.3236</td>\n",
       "      <td>3.81005</td>\n",
       "      <td>3.81005</td>\n",
       "      <td>2.9811</td>\n",
       "      <td>...</td>\n",
       "      <td>3.0052</td>\n",
       "      <td>3.3424</td>\n",
       "      <td>3.0319</td>\n",
       "      <td>3.9313</td>\n",
       "      <td>3.0319</td>\n",
       "      <td>3.9313</td>\n",
       "      <td>2.8903</td>\n",
       "      <td>2.5211</td>\n",
       "      <td>2.34405</td>\n",
       "      <td>2.4209</td>\n",
       "    </tr>\n",
       "    <tr>\n",
       "      <th>H01-A0211</th>\n",
       "      <td>ESG3075</td>\n",
       "      <td>2</td>\n",
       "      <td>0.0</td>\n",
       "      <td>0</td>\n",
       "      <td>b</td>\n",
       "      <td>0</td>\n",
       "      <td>0.7587</td>\n",
       "      <td>2.3428</td>\n",
       "      <td>2.3428</td>\n",
       "      <td>1.712</td>\n",
       "      <td>...</td>\n",
       "      <td>1.40895</td>\n",
       "      <td>2.61645</td>\n",
       "      <td>2.561</td>\n",
       "      <td>2.7156</td>\n",
       "      <td>2.561</td>\n",
       "      <td>2.7156</td>\n",
       "      <td>1.6034</td>\n",
       "      <td>0.6911</td>\n",
       "      <td>0.3249</td>\n",
       "      <td>0.6498</td>\n",
       "    </tr>\n",
       "    <tr>\n",
       "      <th>E01-A0014</th>\n",
       "      <td>ESG3704</td>\n",
       "      <td>1</td>\n",
       "      <td>1.0</td>\n",
       "      <td>1</td>\n",
       "      <td>c</td>\n",
       "      <td>0</td>\n",
       "      <td>3.34495</td>\n",
       "      <td>3.70365</td>\n",
       "      <td>3.70365</td>\n",
       "      <td>2.7333</td>\n",
       "      <td>...</td>\n",
       "      <td>2.13205</td>\n",
       "      <td>3.2727</td>\n",
       "      <td>3.522</td>\n",
       "      <td>3.522</td>\n",
       "      <td>3.522</td>\n",
       "      <td>3.522</td>\n",
       "      <td>0.8552</td>\n",
       "      <td>0.12975</td>\n",
       "      <td>0.005</td>\n",
       "      <td>0.01</td>\n",
       "    </tr>\n",
       "    <tr>\n",
       "      <th>H01-A0187</th>\n",
       "      <td>ESG2332</td>\n",
       "      <td>4</td>\n",
       "      <td>0.0</td>\n",
       "      <td>0</td>\n",
       "      <td>a</td>\n",
       "      <td>0</td>\n",
       "      <td>4.26185</td>\n",
       "      <td>4.4523</td>\n",
       "      <td>4.4523</td>\n",
       "      <td>4.0695</td>\n",
       "      <td>...</td>\n",
       "      <td>3.0184</td>\n",
       "      <td>4.303</td>\n",
       "      <td>4.3056</td>\n",
       "      <td>4.4881</td>\n",
       "      <td>4.3056</td>\n",
       "      <td>4.4881</td>\n",
       "      <td>3.6713</td>\n",
       "      <td>2.29095</td>\n",
       "      <td>1.0515</td>\n",
       "      <td>2.093</td>\n",
       "    </tr>\n",
       "  </tbody>\n",
       "</table>\n",
       "<p>5 rows × 495 columns</p>\n",
       "</div>"
      ],
      "text/plain": [
       "               ESG  Cycle.Day  Endo.Case.Control  Age.Binned Cycle  \\\n",
       "Patient                                                              \n",
       "E01-A0129  ESG3761          4                1.0           0     a   \n",
       "H01-A0206  ESG3096          2                0.0           0     b   \n",
       "H01-A0211  ESG3075          2                0.0           0     b   \n",
       "E01-A0014  ESG3704          1                1.0           1     c   \n",
       "H01-A0187  ESG2332          4                0.0           0     a   \n",
       "\n",
       "           Birth.Control aDC_HPCA_1 aDC_HPCA_2 aDC_HPCA_3 aDC_IRIS_1  ...  \\\n",
       "Patient                                                               ...   \n",
       "E01-A0129              0    2.71865     2.8292     2.8292     1.9376  ...   \n",
       "H01-A0206              0     3.3236    3.81005    3.81005     2.9811  ...   \n",
       "H01-A0211              0     0.7587     2.3428     2.3428      1.712  ...   \n",
       "E01-A0014              0    3.34495    3.70365    3.70365     2.7333  ...   \n",
       "H01-A0187              0    4.26185     4.4523     4.4523     4.0695  ...   \n",
       "\n",
       "          Th2 cells_IRIS_3 Tregs_BLUEPRINT_1 Tregs_BLUEPRINT_2  \\\n",
       "Patient                                                          \n",
       "E01-A0129          0.91635            1.8553            1.4509   \n",
       "H01-A0206           3.0052            3.3424            3.0319   \n",
       "H01-A0211          1.40895           2.61645             2.561   \n",
       "E01-A0014          2.13205            3.2727             3.522   \n",
       "H01-A0187           3.0184             4.303            4.3056   \n",
       "\n",
       "          Tregs_BLUEPRINT_3 Tregs_FANTOM_1 Tregs_FANTOM_2 Tregs_FANTOM_3  \\\n",
       "Patient                                                                    \n",
       "E01-A0129            2.3749         1.4509         2.3749         1.3016   \n",
       "H01-A0206            3.9313         3.0319         3.9313         2.8903   \n",
       "H01-A0211            2.7156          2.561         2.7156         1.6034   \n",
       "E01-A0014             3.522          3.522          3.522         0.8552   \n",
       "H01-A0187            4.4881         4.3056         4.4881         3.6713   \n",
       "\n",
       "          Tregs_HPCA_1 Tregs_HPCA_2 Tregs_HPCA_3  \n",
       "Patient                                           \n",
       "E01-A0129         0.01         0.01         0.01  \n",
       "H01-A0206       2.5211      2.34405       2.4209  \n",
       "H01-A0211       0.6911       0.3249       0.6498  \n",
       "E01-A0014      0.12975        0.005         0.01  \n",
       "H01-A0187      2.29095       1.0515        2.093  \n",
       "\n",
       "[5 rows x 495 columns]"
      ]
     },
     "execution_count": 123,
     "metadata": {},
     "output_type": "execute_result"
    }
   ],
   "source": [
    "df = metaData.merge(Exp, right_index=True, left_on='ESG')\n",
    "df.head()"
   ]
  },
  {
   "cell_type": "code",
   "execution_count": 124,
   "metadata": {},
   "outputs": [
    {
     "name": "stdout",
     "output_type": "stream",
     "text": [
      "After removing duplicates, dataset size: (829, 495)\n"
     ]
    }
   ],
   "source": [
    "print(\"After removing duplicates, dataset size:\", df.shape)"
   ]
  },
  {
   "cell_type": "code",
   "execution_count": 125,
   "metadata": {},
   "outputs": [],
   "source": [
    "# save df to file\n",
    "df.to_csv(f'{save_dir}/exp_metadata_cleaned_js_{DATA}.csv', sep='\\t')"
   ]
  },
  {
   "cell_type": "code",
   "execution_count": 126,
   "metadata": {},
   "outputs": [
    {
     "name": "stdout",
     "output_type": "stream",
     "text": [
      "Age < 33, dataset size: (400, 495)\n"
     ]
    }
   ],
   "source": [
    "# split data by age\n",
    "df_age_le = df[df['Age.Binned'] == 0]\n",
    "df_age_le.to_csv(f'{save_dir}/exp_metadata_cleaned_js_agele33_{DATA}.csv', sep='\\t')\n",
    "print(\"Age < 33, dataset size:\", df_age_le.shape)"
   ]
  },
  {
   "cell_type": "code",
   "execution_count": 127,
   "metadata": {},
   "outputs": [
    {
     "name": "stdout",
     "output_type": "stream",
     "text": [
      "Age >= 33, dataset size: (385, 495)\n"
     ]
    }
   ],
   "source": [
    "# split data by age\n",
    "df_age_ge = df[df['Age.Binned'] == 1]\n",
    "df_age_ge.to_csv(f'data/exp_metadata_cleaned_js_agege33_{DATA}.csv', sep='\\t')\n",
    "print(\"Age >= 33, dataset size:\", df_age_ge.shape)"
   ]
  },
  {
   "cell_type": "code",
   "execution_count": 128,
   "metadata": {},
   "outputs": [
    {
     "name": "stdout",
     "output_type": "stream",
     "text": [
      "Patient\n",
      "E01-A0129    1.0\n",
      "E01-A0014    1.0\n",
      "E01-A0143    1.0\n",
      "E01-A0023    1.0\n",
      "E01-A0078    1.0\n",
      "Name: Endo.Case.Control, dtype: float64 Patient\n",
      "H01-A0206    0.0\n",
      "H01-A0211    0.0\n",
      "H01-A0187    0.0\n",
      "H01-A0182    0.0\n",
      "E01-A0043    0.0\n",
      "Name: Endo.Case.Control, dtype: float64 Patient\n",
      "E01-A0109    0.5\n",
      "E01-A0017    0.5\n",
      "E01-A0071    0.5\n",
      "E01-A0071    0.5\n",
      "E01-A0116    0.5\n",
      "Name: Endo.Case.Control, dtype: float64\n"
     ]
    }
   ],
   "source": [
    "# split data by endo label\n",
    "df_case = df[df['Endo.Case.Control'] == 1]\n",
    "df_case.to_csv(f'data/exp_metadata_cleaned_js_case_{DATA}.csv', sep='\\t')\n",
    "\n",
    "df_control = df[df['Endo.Case.Control'] == 0]\n",
    "df_control.to_csv(f'data/exp_metadata_cleaned_js_control_{DATA}.csv', sep='\\t')\n",
    "\n",
    "df_suspect = df[df['Endo.Case.Control'] == 0.5]\n",
    "df_suspect.to_csv(f'data/exp_metadata_cleaned_js_sus_{DATA}.csv', sep='\\t')\n",
    "\n",
    "print(df_case.head()['Endo.Case.Control'], df_control.head()['Endo.Case.Control'], df_suspect.head()['Endo.Case.Control'])"
   ]
  },
  {
   "cell_type": "code",
   "execution_count": 129,
   "metadata": {},
   "outputs": [
    {
     "name": "stdout",
     "output_type": "stream",
     "text": [
      "Patient\n",
      "E01-A0129    0\n",
      "H01-A0206    0\n",
      "H01-A0211    0\n",
      "E01-A0014    0\n",
      "H01-A0187    0\n",
      "Name: Birth.Control, dtype: int64 Patient\n",
      "H01-A0199    1\n",
      "H01-A0199    1\n",
      "E01-A0072    1\n",
      "E01-A0111    1\n",
      "E01-A0109    1\n",
      "Name: Birth.Control, dtype: int64 Patient\n",
      "H01-A0163    2\n",
      "H01-A0163    2\n",
      "H01-A0200    2\n",
      "H01-A0200    2\n",
      "E01-A0023    2\n",
      "Name: Birth.Control, dtype: int64\n"
     ]
    }
   ],
   "source": [
    "# split data by birth control\n",
    "df_bc_0 = df[df['Birth.Control'] == 0]\n",
    "df_bc_0.to_csv(f'data/exp_metadata_cleaned_js_bc0_{DATA}.csv', sep='\\t')\n",
    "\n",
    "df_bc_1 = df[df['Birth.Control'] == 1]\n",
    "df_bc_1.to_csv(f'data/exp_metadata_cleaned_js_bc1_{DATA}.csv', sep='\\t')\n",
    "\n",
    "df_bc_2 = df[df['Birth.Control'] == 2]\n",
    "df_bc_2.to_csv(f'data/exp_metadata_cleaned_js_bc2_{DATA}.csv', sep='\\t')\n",
    "\n",
    "print(df_bc_0.head()['Birth.Control'], df_bc_1.head()['Birth.Control'], df_bc_2.head()['Birth.Control'])"
   ]
  },
  {
   "cell_type": "code",
   "execution_count": null,
   "metadata": {},
   "outputs": [],
   "source": []
  }
 ],
 "metadata": {
  "kernelspec": {
   "display_name": "Python 3",
   "language": "python",
   "name": "python3"
  },
  "language_info": {
   "codemirror_mode": {
    "name": "ipython",
    "version": 3
   },
   "file_extension": ".py",
   "mimetype": "text/x-python",
   "name": "python",
   "nbconvert_exporter": "python",
   "pygments_lexer": "ipython3",
   "version": "3.11.7"
  }
 },
 "nbformat": 4,
 "nbformat_minor": 2
}
