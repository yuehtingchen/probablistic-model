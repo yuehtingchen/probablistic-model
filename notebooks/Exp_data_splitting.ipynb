{
 "cells": [
  {
   "cell_type": "code",
   "execution_count": 39,
   "metadata": {},
   "outputs": [],
   "source": [
    "import numpy as np\n",
    "import pandas as pd\n",
    "import matplotlib.pyplot as plt\n",
    "import seaborn as sns\n",
    "from datetime import date"
   ]
  },
  {
   "cell_type": "code",
   "execution_count": 63,
   "metadata": {},
   "outputs": [],
   "source": [
    "DATA = 'gene'\n",
    "dataset_dir = '../../data/'\n",
    "save_dir = '../data/'\n",
    "bulkseq_dataset = 'Degnorm_JS_1394ESGs.csv'\n",
    "switch_dataset = \"switch_genelist.csv\"\n",
    "meta_dataset = 'NGJ_Switches_28Sept2023.csv'"
   ]
  },
  {
   "cell_type": "markdown",
   "metadata": {},
   "source": [
    "# Read Switches"
   ]
  },
  {
   "cell_type": "code",
   "execution_count": 64,
   "metadata": {},
   "outputs": [],
   "source": [
    "if DATA == 'switch':\n",
    "\tswitch_df = pd.read_csv(dataset_dir + switch_dataset, index_col=0)\n",
    "\t# drop first column\n",
    "\tswitch_df = switch_df.drop(switch_df.columns[0], axis=1)\n",
    "\n",
    "\t# switch df to dict\n",
    "\tswitch_dict = {}\n",
    "\tfor row in switch_df.index:\n",
    "\t\tswitch_dict[row] = switch_df.loc[row].dropna().tolist()"
   ]
  },
  {
   "cell_type": "markdown",
   "metadata": {},
   "source": [
    "# Read Bulk Seq Dataset"
   ]
  },
  {
   "cell_type": "code",
   "execution_count": 65,
   "metadata": {},
   "outputs": [
    {
     "name": "stdout",
     "output_type": "stream",
     "text": [
      "0.0 28.1538\n"
     ]
    }
   ],
   "source": [
    "Exp = pd.read_csv(dataset_dir + bulkseq_dataset, index_col=0).T\n",
    "\n",
    "# bulk seq dataset is in Jane Score\n",
    "print(Exp.min().min(), Exp.max().max())"
   ]
  },
  {
   "cell_type": "code",
   "execution_count": 66,
   "metadata": {},
   "outputs": [],
   "source": [
    "if DATA == 'switch':\n",
    "\t# transform Exp to switch\n",
    "\t# compare genes in switches with genes in rpkm\n",
    "\tswitch_genes = [gene for switch in switch_dict.keys() for gene in switch_dict[switch]]\n",
    "\t# change to set\n",
    "\tswitch_genes = set(switch_genes)\n",
    "\texp_genes = set(Exp.T.index)\n",
    "\n",
    "\t# find overlapping genes\n",
    "\toverlapping_genes = switch_genes.intersection(exp_genes)\n",
    "\tprint(len(switch_genes), len(exp_genes), len(overlapping_genes))\n",
    "\n",
    "\t# filter non-overlapping genes from switches\n",
    "\tfor switch in switch_dict.keys():\n",
    "\t\tswitch_dict[switch] = list(set(switch_dict[switch]).intersection(overlapping_genes))\n",
    "\n",
    "\t# aggregate rpkm columns using switch_dict\n",
    "\tExp_new = pd.DataFrame(columns=Exp.T.columns, index=switch_dict.keys())\n",
    "\tfor i in switch_dict.keys():\n",
    "\t\tExp_new.loc[i] = np.mean(Exp.T.loc[switch_dict[i]].values, axis=0)\n",
    "\n",
    "\tExp = Exp_new.T\n",
    "\n",
    "\t# save Exp\n",
    "\tbulkseq_dataset_name = bulkseq_dataset.split('.')[0]\n",
    "\tExp.to_csv(save_dir + bulkseq_dataset_name + '_switch.csv')\n"
   ]
  },
  {
   "cell_type": "code",
   "execution_count": 67,
   "metadata": {},
   "outputs": [
    {
     "data": {
      "text/html": [
       "<div>\n",
       "<style scoped>\n",
       "    .dataframe tbody tr th:only-of-type {\n",
       "        vertical-align: middle;\n",
       "    }\n",
       "\n",
       "    .dataframe tbody tr th {\n",
       "        vertical-align: top;\n",
       "    }\n",
       "\n",
       "    .dataframe thead th {\n",
       "        text-align: right;\n",
       "    }\n",
       "</style>\n",
       "<table border=\"1\" class=\"dataframe\">\n",
       "  <thead>\n",
       "    <tr style=\"text-align: right;\">\n",
       "      <th></th>\n",
       "      <th>Age</th>\n",
       "      <th>Surgery</th>\n",
       "      <th>Surgery.Date</th>\n",
       "      <th>Collection.Date</th>\n",
       "      <th>Endo</th>\n",
       "      <th>Endo.Case.Control</th>\n",
       "      <th>Endo.Training</th>\n",
       "      <th>Adeno</th>\n",
       "      <th>Fibroids</th>\n",
       "      <th>PCOS</th>\n",
       "      <th>...</th>\n",
       "      <th>Th2cellsIRIS3</th>\n",
       "      <th>TregsBLUEPRINT1</th>\n",
       "      <th>TregsBLUEPRINT2</th>\n",
       "      <th>TregsBLUEPRINT3</th>\n",
       "      <th>TregsFANTOM1</th>\n",
       "      <th>TregsFANTOM2</th>\n",
       "      <th>TregsFANTOM3</th>\n",
       "      <th>TregsHPCA1</th>\n",
       "      <th>TregsHPCA2</th>\n",
       "      <th>TregsHPCA3</th>\n",
       "    </tr>\n",
       "    <tr>\n",
       "      <th>Patient</th>\n",
       "      <th></th>\n",
       "      <th></th>\n",
       "      <th></th>\n",
       "      <th></th>\n",
       "      <th></th>\n",
       "      <th></th>\n",
       "      <th></th>\n",
       "      <th></th>\n",
       "      <th></th>\n",
       "      <th></th>\n",
       "      <th></th>\n",
       "      <th></th>\n",
       "      <th></th>\n",
       "      <th></th>\n",
       "      <th></th>\n",
       "      <th></th>\n",
       "      <th></th>\n",
       "      <th></th>\n",
       "      <th></th>\n",
       "      <th></th>\n",
       "      <th></th>\n",
       "    </tr>\n",
       "  </thead>\n",
       "  <tbody>\n",
       "    <tr>\n",
       "      <th>E01-A0001</th>\n",
       "      <td>32</td>\n",
       "      <td>PRE</td>\n",
       "      <td>no surgery date</td>\n",
       "      <td>4/28/21</td>\n",
       "      <td>1</td>\n",
       "      <td>Suspected</td>\n",
       "      <td>No</td>\n",
       "      <td>-2</td>\n",
       "      <td>-1</td>\n",
       "      <td>-2</td>\n",
       "      <td>...</td>\n",
       "      <td>0.37585</td>\n",
       "      <td>0.79800</td>\n",
       "      <td>0.6299</td>\n",
       "      <td>1.0514</td>\n",
       "      <td>0.6299</td>\n",
       "      <td>1.0514</td>\n",
       "      <td>0.4732</td>\n",
       "      <td>0.52760</td>\n",
       "      <td>0.01000</td>\n",
       "      <td>0.0100</td>\n",
       "    </tr>\n",
       "    <tr>\n",
       "      <th>E01-A0001</th>\n",
       "      <td>32</td>\n",
       "      <td>PRE</td>\n",
       "      <td>no surgery date</td>\n",
       "      <td>7/12/21</td>\n",
       "      <td>1</td>\n",
       "      <td>Suspected</td>\n",
       "      <td>No</td>\n",
       "      <td>-2</td>\n",
       "      <td>-1</td>\n",
       "      <td>-2</td>\n",
       "      <td>...</td>\n",
       "      <td>0.01000</td>\n",
       "      <td>1.09685</td>\n",
       "      <td>0.8891</td>\n",
       "      <td>1.1976</td>\n",
       "      <td>0.8891</td>\n",
       "      <td>1.1976</td>\n",
       "      <td>0.6971</td>\n",
       "      <td>0.33890</td>\n",
       "      <td>0.04255</td>\n",
       "      <td>0.0751</td>\n",
       "    </tr>\n",
       "    <tr>\n",
       "      <th>E01-A0002</th>\n",
       "      <td>34</td>\n",
       "      <td>PRE</td>\n",
       "      <td>8/12/21 0:00</td>\n",
       "      <td>8/10/21</td>\n",
       "      <td>2</td>\n",
       "      <td>Case</td>\n",
       "      <td>No</td>\n",
       "      <td>0</td>\n",
       "      <td>-1</td>\n",
       "      <td>-2</td>\n",
       "      <td>...</td>\n",
       "      <td>0.45125</td>\n",
       "      <td>1.11295</td>\n",
       "      <td>0.7453</td>\n",
       "      <td>1.3172</td>\n",
       "      <td>0.7453</td>\n",
       "      <td>1.3172</td>\n",
       "      <td>0.7453</td>\n",
       "      <td>0.37765</td>\n",
       "      <td>0.01000</td>\n",
       "      <td>0.0100</td>\n",
       "    </tr>\n",
       "    <tr>\n",
       "      <th>E01-A0002</th>\n",
       "      <td>34</td>\n",
       "      <td>PRE</td>\n",
       "      <td>8/12/21 0:00</td>\n",
       "      <td>8/11/21</td>\n",
       "      <td>2</td>\n",
       "      <td>Case</td>\n",
       "      <td>No</td>\n",
       "      <td>0</td>\n",
       "      <td>-1</td>\n",
       "      <td>-2</td>\n",
       "      <td>...</td>\n",
       "      <td>1.57300</td>\n",
       "      <td>2.55875</td>\n",
       "      <td>2.6503</td>\n",
       "      <td>2.8033</td>\n",
       "      <td>2.6503</td>\n",
       "      <td>2.8033</td>\n",
       "      <td>2.4903</td>\n",
       "      <td>1.25915</td>\n",
       "      <td>0.68150</td>\n",
       "      <td>0.9576</td>\n",
       "    </tr>\n",
       "    <tr>\n",
       "      <th>E01-A0003</th>\n",
       "      <td>39</td>\n",
       "      <td>POST</td>\n",
       "      <td>4/9/21 0:00</td>\n",
       "      <td>8/18/21</td>\n",
       "      <td>0</td>\n",
       "      <td>Other</td>\n",
       "      <td>Yes</td>\n",
       "      <td>-2</td>\n",
       "      <td>-1</td>\n",
       "      <td>-2</td>\n",
       "      <td>...</td>\n",
       "      <td>1.87580</td>\n",
       "      <td>2.68285</td>\n",
       "      <td>2.4446</td>\n",
       "      <td>2.8311</td>\n",
       "      <td>2.4446</td>\n",
       "      <td>2.8311</td>\n",
       "      <td>2.4446</td>\n",
       "      <td>1.17260</td>\n",
       "      <td>0.57660</td>\n",
       "      <td>0.5947</td>\n",
       "    </tr>\n",
       "  </tbody>\n",
       "</table>\n",
       "<p>5 rows × 578 columns</p>\n",
       "</div>"
      ],
      "text/plain": [
       "           Age Surgery     Surgery.Date Collection.Date  Endo  \\\n",
       "Patient                                                         \n",
       "E01-A0001   32     PRE  no surgery date         4/28/21     1   \n",
       "E01-A0001   32     PRE  no surgery date         7/12/21     1   \n",
       "E01-A0002   34     PRE     8/12/21 0:00         8/10/21     2   \n",
       "E01-A0002   34     PRE     8/12/21 0:00         8/11/21     2   \n",
       "E01-A0003   39    POST      4/9/21 0:00         8/18/21     0   \n",
       "\n",
       "          Endo.Case.Control Endo.Training  Adeno  Fibroids  PCOS  ...  \\\n",
       "Patient                                                           ...   \n",
       "E01-A0001         Suspected            No     -2        -1    -2  ...   \n",
       "E01-A0001         Suspected            No     -2        -1    -2  ...   \n",
       "E01-A0002              Case            No      0        -1    -2  ...   \n",
       "E01-A0002              Case            No      0        -1    -2  ...   \n",
       "E01-A0003             Other           Yes     -2        -1    -2  ...   \n",
       "\n",
       "           Th2cellsIRIS3 TregsBLUEPRINT1 TregsBLUEPRINT2  TregsBLUEPRINT3  \\\n",
       "Patient                                                                     \n",
       "E01-A0001        0.37585         0.79800          0.6299           1.0514   \n",
       "E01-A0001        0.01000         1.09685          0.8891           1.1976   \n",
       "E01-A0002        0.45125         1.11295          0.7453           1.3172   \n",
       "E01-A0002        1.57300         2.55875          2.6503           2.8033   \n",
       "E01-A0003        1.87580         2.68285          2.4446           2.8311   \n",
       "\n",
       "           TregsFANTOM1  TregsFANTOM2  TregsFANTOM3 TregsHPCA1 TregsHPCA2  \\\n",
       "Patient                                                                     \n",
       "E01-A0001        0.6299        1.0514        0.4732    0.52760    0.01000   \n",
       "E01-A0001        0.8891        1.1976        0.6971    0.33890    0.04255   \n",
       "E01-A0002        0.7453        1.3172        0.7453    0.37765    0.01000   \n",
       "E01-A0002        2.6503        2.8033        2.4903    1.25915    0.68150   \n",
       "E01-A0003        2.4446        2.8311        2.4446    1.17260    0.57660   \n",
       "\n",
       "          TregsHPCA3  \n",
       "Patient               \n",
       "E01-A0001     0.0100  \n",
       "E01-A0001     0.0751  \n",
       "E01-A0002     0.0100  \n",
       "E01-A0002     0.9576  \n",
       "E01-A0003     0.5947  \n",
       "\n",
       "[5 rows x 578 columns]"
      ]
     },
     "execution_count": 67,
     "metadata": {},
     "output_type": "execute_result"
    }
   ],
   "source": [
    "metadata_df = pd.read_csv(dataset_dir + meta_dataset, index_col=0)\n",
    "metadata_df.head()"
   ]
  },
  {
   "cell_type": "code",
   "execution_count": 68,
   "metadata": {},
   "outputs": [
    {
     "name": "stdout",
     "output_type": "stream",
     "text": [
      "Number of samples before: 1394, after: 884\n"
     ]
    }
   ],
   "source": [
    "# keep only samples that pass Columbia QC\n",
    "size_bf = metadata_df.shape[0]\n",
    "metadata_df = metadata_df[metadata_df['Columbia QC'] == 'Pass']\n",
    "size_after = metadata_df.shape[0]\n",
    "print(f'Number of samples before: {size_bf}, after: {size_after}')"
   ]
  },
  {
   "cell_type": "code",
   "execution_count": 69,
   "metadata": {},
   "outputs": [
    {
     "name": "stdout",
     "output_type": "stream",
     "text": [
      "Number of samples before: 884, after: 588\n"
     ]
    }
   ],
   "source": [
    "# remove duplicate kits, keep later one\n",
    "size_bf = metadata_df.shape[0]\n",
    "metadata_df.sort_values(by=['Clinical.QC', 'Research.QC'], inplace=True)\n",
    "metadata_df.drop_duplicates(subset=['Kit'], keep='last', inplace=True)\n",
    "size_after = metadata_df.shape[0]\n",
    "print(f'Number of samples before: {size_bf}, after: {size_after}')"
   ]
  },
  {
   "cell_type": "code",
   "execution_count": 70,
   "metadata": {},
   "outputs": [
    {
     "name": "stdout",
     "output_type": "stream",
     "text": [
      "Number of samples before: 588, after: 583\n"
     ]
    }
   ],
   "source": [
    "size_bf = metadata_df.shape[0]\n",
    "# drop rows with negative day values\n",
    "metadata_df = metadata_df[metadata_df['Cycle.Day'] > 0]\n",
    "# drop rows with day > 5\n",
    "metadata_df = metadata_df[metadata_df['Cycle.Day'] <= 5]\n",
    "\n",
    "size_after = metadata_df.shape[0]\n",
    "print(f'Number of samples before: {size_bf}, after: {size_after}')"
   ]
  },
  {
   "cell_type": "code",
   "execution_count": 71,
   "metadata": {},
   "outputs": [
    {
     "data": {
      "image/png": "[encoded data removed]",
      "text/plain": [
       "<Figure size 640x480 with 1 Axes>"
      ]
     },
     "metadata": {},
     "output_type": "display_data"
    }
   ],
   "source": [
    "days_dist = dict()\n",
    "for d in  metadata_df['Cycle.Day'].unique():\n",
    "\tdays_dist[d] = (metadata_df['Cycle.Day'] == d).sum()\n",
    "\n",
    "plt.bar(days_dist.keys(), days_dist.values())\n",
    "plt.xlabel('Cycle Day')\n",
    "plt.ylabel('Number of Samples')\n",
    "plt.title('Distribution of Cycle Days')\n",
    "plt.savefig('../plots/cycle_days_dist.png')"
   ]
  },
  {
   "cell_type": "code",
   "execution_count": 72,
   "metadata": {},
   "outputs": [
    {
     "data": {
      "image/png": "[encoded data removed]",
      "text/plain": [
       "<Figure size 640x480 with 1 Axes>"
      ]
     },
     "metadata": {},
     "output_type": "display_data"
    }
   ],
   "source": [
    "days_dist = dict()\n",
    "for d in  metadata_df['Endo.Case.Control'].unique():\n",
    "\tdays_dist[d] = (metadata_df['Endo.Case.Control'] == d).sum()\n",
    "\n",
    "plt.bar(days_dist.keys(), days_dist.values())\n",
    "plt.xlabel('Endo Label')\n",
    "plt.ylabel('Number of Samples')\n",
    "plt.title('Distribution of Endo Label')\n",
    "plt.savefig('../plots/endo_label_dist.png')"
   ]
  },
  {
   "cell_type": "code",
   "execution_count": 73,
   "metadata": {},
   "outputs": [],
   "source": [
    "endo_map = {'Suspected': 0.5, 'Control': 0, 'Case': 1, 'Other': -1}\n",
    "metadata_df['Endo.Case.Control'] = metadata_df['Endo.Case.Control'].map(endo_map)"
   ]
  },
  {
   "cell_type": "code",
   "execution_count": 74,
   "metadata": {},
   "outputs": [
    {
     "data": {
      "image/png": "[encoded data removed]",
      "text/plain": [
       "<Figure size 640x480 with 1 Axes>"
      ]
     },
     "metadata": {},
     "output_type": "display_data"
    }
   ],
   "source": [
    "# plot dist of birth control\n",
    "birth_map = {0: 0, 2: 1, 5: 2, 6: 2, 7: 1, 4:3, -3:3, 3:3, -1:3, -2:3, 1:3, 8:3}\n",
    "days_dist = dict()\n",
    "days_dist[0] = 0\n",
    "days_dist[1] = 0\n",
    "days_dist[2] = 0\n",
    "days_dist[3] = 0\n",
    "\n",
    "for d in  metadata_df['Birth.Control'].unique():\n",
    "\tlabel = birth_map[d]\n",
    "\tdays_dist[label] += (metadata_df['Birth.Control'] == d).sum()\n",
    "\n",
    "plt.bar(days_dist.keys(), days_dist.values())\n",
    "plt.xlabel('Birth Control')\n",
    "plt.ylabel('Number of Samples')\n",
    "plt.title('Distribution of Birth Control')\n",
    "plt.savefig('../plots/birth_control_dist_4groups.png')"
   ]
  },
  {
   "cell_type": "code",
   "execution_count": 75,
   "metadata": {},
   "outputs": [],
   "source": [
    "# add column to encode Birth.Control\n",
    "metadata_df['Birth.Control'] = metadata_df['Birth.Control'].map(birth_map)"
   ]
  },
  {
   "cell_type": "code",
   "execution_count": 76,
   "metadata": {},
   "outputs": [
    {
     "data": {
      "image/png": "[encoded data removed]",
      "text/plain": [
       "<Figure size 640x480 with 1 Axes>"
      ]
     },
     "metadata": {},
     "output_type": "display_data"
    }
   ],
   "source": [
    "# plot dist of age\n",
    "plt.hist(metadata_df['Age'])\n",
    "plt.xlabel('Age')\n",
    "plt.ylabel('Number of Samples')\n",
    "plt.title('Distribution of Age')\n",
    "plt.savefig('../plots/age_dist.png')"
   ]
  },
  {
   "cell_type": "code",
   "execution_count": 77,
   "metadata": {},
   "outputs": [],
   "source": [
    "# add column to bucket age into 6 groups\n",
    "age_binned = []\n",
    "for age in metadata_df['Age']:\n",
    "\tif age == -1:\n",
    "\t\tage_binned.append(-1)\n",
    "\telif age <= 29:\n",
    "\t\tage_binned.append(0)\n",
    "\telif age <= 35:\n",
    "\t\tage_binned.append(1)\n",
    "\telif age <= 40:\n",
    "\t\tage_binned.append(2)\n",
    "\telse:\n",
    "\t\tage_binned.append(3)\n",
    "\n",
    "metadata_df['Age.Binned'] = age_binned"
   ]
  },
  {
   "cell_type": "code",
   "execution_count": 78,
   "metadata": {},
   "outputs": [
    {
     "data": {
      "image/png": "[encoded data removed]",
      "text/plain": [
       "<Figure size 640x480 with 1 Axes>"
      ]
     },
     "metadata": {},
     "output_type": "display_data"
    }
   ],
   "source": [
    "# replot dist of age\n",
    "plt.hist(metadata_df['Age.Binned'])\n",
    "plt.xticks([-1, 0, 1, 2, 3], ['Unknown', '<=29', '<=35', '<=40', '>40'])\n",
    "plt.xlabel('Binned Age')\n",
    "plt.ylabel('Number of Samples')\n",
    "plt.title('Distribution of Age')\n",
    "plt.savefig('../plots/age_binned_dist_5groups.png')"
   ]
  },
  {
   "cell_type": "code",
   "execution_count": 79,
   "metadata": {},
   "outputs": [
    {
     "data": {
      "text/html": [
       "<div>\n",
       "<style scoped>\n",
       "    .dataframe tbody tr th:only-of-type {\n",
       "        vertical-align: middle;\n",
       "    }\n",
       "\n",
       "    .dataframe tbody tr th {\n",
       "        vertical-align: top;\n",
       "    }\n",
       "\n",
       "    .dataframe thead th {\n",
       "        text-align: right;\n",
       "    }\n",
       "</style>\n",
       "<table border=\"1\" class=\"dataframe\">\n",
       "  <thead>\n",
       "    <tr style=\"text-align: right;\">\n",
       "      <th></th>\n",
       "      <th>ESG</th>\n",
       "      <th>Cycle.Day</th>\n",
       "      <th>Endo.Case.Control</th>\n",
       "      <th>Age.Binned</th>\n",
       "      <th>Cycle</th>\n",
       "      <th>Birth.Control</th>\n",
       "    </tr>\n",
       "    <tr>\n",
       "      <th>Patient</th>\n",
       "      <th></th>\n",
       "      <th></th>\n",
       "      <th></th>\n",
       "      <th></th>\n",
       "      <th></th>\n",
       "      <th></th>\n",
       "    </tr>\n",
       "  </thead>\n",
       "  <tbody>\n",
       "    <tr>\n",
       "      <th>E01-A0001</th>\n",
       "      <td>ESG1075</td>\n",
       "      <td>4</td>\n",
       "      <td>0.5</td>\n",
       "      <td>1</td>\n",
       "      <td>a</td>\n",
       "      <td>0</td>\n",
       "    </tr>\n",
       "    <tr>\n",
       "      <th>E01-A0013</th>\n",
       "      <td>ESG1111</td>\n",
       "      <td>1</td>\n",
       "      <td>0.0</td>\n",
       "      <td>1</td>\n",
       "      <td>b</td>\n",
       "      <td>0</td>\n",
       "    </tr>\n",
       "    <tr>\n",
       "      <th>E01-A0022</th>\n",
       "      <td>ESG1117</td>\n",
       "      <td>3</td>\n",
       "      <td>0.0</td>\n",
       "      <td>2</td>\n",
       "      <td>a</td>\n",
       "      <td>1</td>\n",
       "    </tr>\n",
       "    <tr>\n",
       "      <th>E01-A0001</th>\n",
       "      <td>ESG1122</td>\n",
       "      <td>1</td>\n",
       "      <td>0.5</td>\n",
       "      <td>1</td>\n",
       "      <td>a</td>\n",
       "      <td>0</td>\n",
       "    </tr>\n",
       "    <tr>\n",
       "      <th>E01-A0001</th>\n",
       "      <td>ESG1123</td>\n",
       "      <td>2</td>\n",
       "      <td>0.5</td>\n",
       "      <td>1</td>\n",
       "      <td>a</td>\n",
       "      <td>0</td>\n",
       "    </tr>\n",
       "  </tbody>\n",
       "</table>\n",
       "</div>"
      ],
      "text/plain": [
       "               ESG  Cycle.Day  Endo.Case.Control  Age.Binned Cycle  \\\n",
       "Patient                                                              \n",
       "E01-A0001  ESG1075          4                0.5           1     a   \n",
       "E01-A0013  ESG1111          1                0.0           1     b   \n",
       "E01-A0022  ESG1117          3                0.0           2     a   \n",
       "E01-A0001  ESG1122          1                0.5           1     a   \n",
       "E01-A0001  ESG1123          2                0.5           1     a   \n",
       "\n",
       "           Birth.Control  \n",
       "Patient                   \n",
       "E01-A0001              0  \n",
       "E01-A0013              0  \n",
       "E01-A0022              1  \n",
       "E01-A0001              0  \n",
       "E01-A0001              0  "
      ]
     },
     "execution_count": 79,
     "metadata": {},
     "output_type": "execute_result"
    }
   ],
   "source": [
    "metaData_col = ['ESG', 'Cycle.Day', 'Endo.Case.Control', 'Age.Binned', 'Cycle', 'Birth.Control']\n",
    "metaData = metadata_df[metaData_col]\n",
    "metaData.head()"
   ]
  },
  {
   "cell_type": "code",
   "execution_count": 80,
   "metadata": {},
   "outputs": [
    {
     "data": {
      "text/html": [
       "<div>\n",
       "<style scoped>\n",
       "    .dataframe tbody tr th:only-of-type {\n",
       "        vertical-align: middle;\n",
       "    }\n",
       "\n",
       "    .dataframe tbody tr th {\n",
       "        vertical-align: top;\n",
       "    }\n",
       "\n",
       "    .dataframe thead th {\n",
       "        text-align: right;\n",
       "    }\n",
       "</style>\n",
       "<table border=\"1\" class=\"dataframe\">\n",
       "  <thead>\n",
       "    <tr style=\"text-align: right;\">\n",
       "      <th></th>\n",
       "      <th>ESG</th>\n",
       "      <th>Cycle.Day</th>\n",
       "      <th>Endo.Case.Control</th>\n",
       "      <th>Age.Binned</th>\n",
       "      <th>Cycle</th>\n",
       "      <th>Birth.Control</th>\n",
       "      <th>CXCL8</th>\n",
       "      <th>HBB</th>\n",
       "      <th>FTH1</th>\n",
       "      <th>SOD2</th>\n",
       "      <th>...</th>\n",
       "      <th>AC022137.3</th>\n",
       "      <th>AF196969.1</th>\n",
       "      <th>AC108488.2</th>\n",
       "      <th>AL096814.2</th>\n",
       "      <th>AC231656.1</th>\n",
       "      <th>AC106741.1</th>\n",
       "      <th>AL445524.2</th>\n",
       "      <th>AC025165.6</th>\n",
       "      <th>AC024558.2</th>\n",
       "      <th>AL138899.3</th>\n",
       "    </tr>\n",
       "    <tr>\n",
       "      <th>Patient</th>\n",
       "      <th></th>\n",
       "      <th></th>\n",
       "      <th></th>\n",
       "      <th></th>\n",
       "      <th></th>\n",
       "      <th></th>\n",
       "      <th></th>\n",
       "      <th></th>\n",
       "      <th></th>\n",
       "      <th></th>\n",
       "      <th></th>\n",
       "      <th></th>\n",
       "      <th></th>\n",
       "      <th></th>\n",
       "      <th></th>\n",
       "      <th></th>\n",
       "      <th></th>\n",
       "      <th></th>\n",
       "      <th></th>\n",
       "      <th></th>\n",
       "      <th></th>\n",
       "    </tr>\n",
       "  </thead>\n",
       "  <tbody>\n",
       "    <tr>\n",
       "      <th>E01-A0001</th>\n",
       "      <td>ESG1075</td>\n",
       "      <td>4</td>\n",
       "      <td>0.5</td>\n",
       "      <td>1</td>\n",
       "      <td>a</td>\n",
       "      <td>0</td>\n",
       "      <td>13.0076</td>\n",
       "      <td>15.1484</td>\n",
       "      <td>11.9724</td>\n",
       "      <td>8.7465</td>\n",
       "      <td>...</td>\n",
       "      <td>0.0100</td>\n",
       "      <td>0.01</td>\n",
       "      <td>0.0</td>\n",
       "      <td>0.0</td>\n",
       "      <td>0.0</td>\n",
       "      <td>0.0</td>\n",
       "      <td>0.0</td>\n",
       "      <td>0.0</td>\n",
       "      <td>0.0</td>\n",
       "      <td>0.0</td>\n",
       "    </tr>\n",
       "    <tr>\n",
       "      <th>E01-A0013</th>\n",
       "      <td>ESG1111</td>\n",
       "      <td>1</td>\n",
       "      <td>0.0</td>\n",
       "      <td>1</td>\n",
       "      <td>b</td>\n",
       "      <td>0</td>\n",
       "      <td>14.0549</td>\n",
       "      <td>17.1250</td>\n",
       "      <td>10.8943</td>\n",
       "      <td>9.8765</td>\n",
       "      <td>...</td>\n",
       "      <td>0.0455</td>\n",
       "      <td>0.00</td>\n",
       "      <td>0.0</td>\n",
       "      <td>0.0</td>\n",
       "      <td>0.0</td>\n",
       "      <td>0.0</td>\n",
       "      <td>0.0</td>\n",
       "      <td>0.0</td>\n",
       "      <td>0.0</td>\n",
       "      <td>0.0</td>\n",
       "    </tr>\n",
       "    <tr>\n",
       "      <th>E01-A0022</th>\n",
       "      <td>ESG1117</td>\n",
       "      <td>3</td>\n",
       "      <td>0.0</td>\n",
       "      <td>2</td>\n",
       "      <td>a</td>\n",
       "      <td>1</td>\n",
       "      <td>13.7004</td>\n",
       "      <td>17.2623</td>\n",
       "      <td>12.4349</td>\n",
       "      <td>9.5240</td>\n",
       "      <td>...</td>\n",
       "      <td>0.4058</td>\n",
       "      <td>0.00</td>\n",
       "      <td>0.0</td>\n",
       "      <td>0.0</td>\n",
       "      <td>0.0</td>\n",
       "      <td>0.0</td>\n",
       "      <td>0.0</td>\n",
       "      <td>0.0</td>\n",
       "      <td>0.0</td>\n",
       "      <td>0.0</td>\n",
       "    </tr>\n",
       "    <tr>\n",
       "      <th>E01-A0001</th>\n",
       "      <td>ESG1122</td>\n",
       "      <td>1</td>\n",
       "      <td>0.5</td>\n",
       "      <td>1</td>\n",
       "      <td>a</td>\n",
       "      <td>0</td>\n",
       "      <td>13.3549</td>\n",
       "      <td>9.8613</td>\n",
       "      <td>11.3893</td>\n",
       "      <td>10.3430</td>\n",
       "      <td>...</td>\n",
       "      <td>0.5521</td>\n",
       "      <td>0.01</td>\n",
       "      <td>0.0</td>\n",
       "      <td>0.0</td>\n",
       "      <td>0.0</td>\n",
       "      <td>0.0</td>\n",
       "      <td>0.0</td>\n",
       "      <td>0.0</td>\n",
       "      <td>0.0</td>\n",
       "      <td>0.0</td>\n",
       "    </tr>\n",
       "    <tr>\n",
       "      <th>E01-A0001</th>\n",
       "      <td>ESG1123</td>\n",
       "      <td>2</td>\n",
       "      <td>0.5</td>\n",
       "      <td>1</td>\n",
       "      <td>a</td>\n",
       "      <td>0</td>\n",
       "      <td>12.9262</td>\n",
       "      <td>15.8165</td>\n",
       "      <td>11.0916</td>\n",
       "      <td>9.2661</td>\n",
       "      <td>...</td>\n",
       "      <td>0.0100</td>\n",
       "      <td>0.00</td>\n",
       "      <td>0.0</td>\n",
       "      <td>0.0</td>\n",
       "      <td>0.0</td>\n",
       "      <td>0.0</td>\n",
       "      <td>0.0</td>\n",
       "      <td>0.0</td>\n",
       "      <td>0.0</td>\n",
       "      <td>0.0</td>\n",
       "    </tr>\n",
       "  </tbody>\n",
       "</table>\n",
       "<p>5 rows × 19507 columns</p>\n",
       "</div>"
      ],
      "text/plain": [
       "               ESG  Cycle.Day  Endo.Case.Control  Age.Binned Cycle  \\\n",
       "Patient                                                              \n",
       "E01-A0001  ESG1075          4                0.5           1     a   \n",
       "E01-A0013  ESG1111          1                0.0           1     b   \n",
       "E01-A0022  ESG1117          3                0.0           2     a   \n",
       "E01-A0001  ESG1122          1                0.5           1     a   \n",
       "E01-A0001  ESG1123          2                0.5           1     a   \n",
       "\n",
       "           Birth.Control    CXCL8      HBB     FTH1     SOD2  ...  AC022137.3  \\\n",
       "Patient                                                       ...               \n",
       "E01-A0001              0  13.0076  15.1484  11.9724   8.7465  ...      0.0100   \n",
       "E01-A0013              0  14.0549  17.1250  10.8943   9.8765  ...      0.0455   \n",
       "E01-A0022              1  13.7004  17.2623  12.4349   9.5240  ...      0.4058   \n",
       "E01-A0001              0  13.3549   9.8613  11.3893  10.3430  ...      0.5521   \n",
       "E01-A0001              0  12.9262  15.8165  11.0916   9.2661  ...      0.0100   \n",
       "\n",
       "           AF196969.1  AC108488.2  AL096814.2  AC231656.1  AC106741.1  \\\n",
       "Patient                                                                 \n",
       "E01-A0001        0.01         0.0         0.0         0.0         0.0   \n",
       "E01-A0013        0.00         0.0         0.0         0.0         0.0   \n",
       "E01-A0022        0.00         0.0         0.0         0.0         0.0   \n",
       "E01-A0001        0.01         0.0         0.0         0.0         0.0   \n",
       "E01-A0001        0.00         0.0         0.0         0.0         0.0   \n",
       "\n",
       "           AL445524.2  AC025165.6  AC024558.2  AL138899.3  \n",
       "Patient                                                    \n",
       "E01-A0001         0.0         0.0         0.0         0.0  \n",
       "E01-A0013         0.0         0.0         0.0         0.0  \n",
       "E01-A0022         0.0         0.0         0.0         0.0  \n",
       "E01-A0001         0.0         0.0         0.0         0.0  \n",
       "E01-A0001         0.0         0.0         0.0         0.0  \n",
       "\n",
       "[5 rows x 19507 columns]"
      ]
     },
     "execution_count": 80,
     "metadata": {},
     "output_type": "execute_result"
    }
   ],
   "source": [
    "df = metaData.merge(Exp, right_index=True, left_on='ESG')\n",
    "df.head()"
   ]
  },
  {
   "cell_type": "code",
   "execution_count": 81,
   "metadata": {},
   "outputs": [
    {
     "name": "stdout",
     "output_type": "stream",
     "text": [
      "Dataset size: (583, 19507)\n"
     ]
    }
   ],
   "source": [
    "print(\"Dataset size:\", df.shape)"
   ]
  },
  {
   "cell_type": "code",
   "execution_count": 82,
   "metadata": {},
   "outputs": [],
   "source": [
    "# save df to file\n",
    "df.to_csv(f'{save_dir}/exp_metadata_cleaned_js_{DATA}.csv', sep='\\t')"
   ]
  },
  {
   "cell_type": "code",
   "execution_count": 83,
   "metadata": {},
   "outputs": [
    {
     "name": "stdout",
     "output_type": "stream",
     "text": [
      "Age <= 29, dataset size: (178, 19507)\n",
      "29 < Age <= 35, dataset size: (142, 19507)\n",
      "35 < Age <= 40, dataset size: (143, 19507)\n",
      "Age > 40, dataset size: (83, 19507)\n"
     ]
    }
   ],
   "source": [
    "# split data by age\n",
    "df_age_le = df[df['Age.Binned'] == 0]\n",
    "df_age_le.to_csv(f'{save_dir}/exp_metadata_cleaned_js_agele29_{DATA}.csv', sep='\\t')\n",
    "print(\"Age <= 29, dataset size:\", df_age_le.shape)\n",
    "\n",
    "# split data by age\n",
    "df_age_ge = df[df['Age.Binned'] == 1]\n",
    "df_age_ge.to_csv(f'{save_dir}/exp_metadata_cleaned_js_agele35_{DATA}.csv', sep='\\t')\n",
    "print(\"29 < Age <= 35, dataset size:\", df_age_ge.shape)\n",
    "\n",
    "# split data by age\n",
    "df_age_ge = df[df['Age.Binned'] == 2]\n",
    "df_age_ge.to_csv(f'{save_dir}/exp_metadata_cleaned_js_agele40_{DATA}.csv', sep='\\t')\n",
    "print(\"35 < Age <= 40, dataset size:\", df_age_ge.shape)\n",
    "\n",
    "# split data by age\n",
    "df_age_ge = df[df['Age.Binned'] == 3]\n",
    "df_age_ge.to_csv(f'{save_dir}/exp_metadata_cleaned_js_agege40_{DATA}.csv', sep='\\t')\n",
    "print(\"Age > 40, dataset size:\", df_age_ge.shape)"
   ]
  },
  {
   "cell_type": "code",
   "execution_count": 84,
   "metadata": {},
   "outputs": [
    {
     "name": "stdout",
     "output_type": "stream",
     "text": [
      "Patient\n",
      "E01-A0043    1.0\n",
      "E01-A0043    1.0\n",
      "E01-A0036    1.0\n",
      "E01-A0062    1.0\n",
      "E01-A0047    1.0\n",
      "Name: Endo.Case.Control, dtype: float64 Patient\n",
      "E01-A0013    0.0\n",
      "E01-A0022    0.0\n",
      "H01-A0167    0.0\n",
      "H01-A0169    0.0\n",
      "H01-A0156    0.0\n",
      "Name: Endo.Case.Control, dtype: float64 Patient\n",
      "E01-A0001    0.5\n",
      "E01-A0001    0.5\n",
      "E01-A0001    0.5\n",
      "E01-A0001    0.5\n",
      "E01-A0001    0.5\n",
      "Name: Endo.Case.Control, dtype: float64\n"
     ]
    }
   ],
   "source": [
    "# split data by endo label\n",
    "df_case = df[df['Endo.Case.Control'] == 1]\n",
    "df_case.to_csv(f'{save_dir}/exp_metadata_cleaned_js_case_{DATA}.csv', sep='\\t')\n",
    "\n",
    "df_control = df[df['Endo.Case.Control'] == 0]\n",
    "df_control.to_csv(f'{save_dir}/exp_metadata_cleaned_js_control_{DATA}.csv', sep='\\t')\n",
    "\n",
    "df_suspect = df[df['Endo.Case.Control'] == 0.5]\n",
    "df_suspect.to_csv(f'{save_dir}/exp_metadata_cleaned_js_sus_{DATA}.csv', sep='\\t')\n",
    "\n",
    "print(df_case.head()['Endo.Case.Control'], df_control.head()['Endo.Case.Control'], df_suspect.head()['Endo.Case.Control'])"
   ]
  },
  {
   "cell_type": "code",
   "execution_count": 85,
   "metadata": {},
   "outputs": [
    {
     "name": "stdout",
     "output_type": "stream",
     "text": [
      "Patient\n",
      "E01-A0001    0\n",
      "E01-A0013    0\n",
      "E01-A0001    0\n",
      "E01-A0001    0\n",
      "E01-A0001    0\n",
      "Name: Birth.Control, dtype: int64 Patient\n",
      "E01-A0022    1\n",
      "E01-A0017    1\n",
      "E01-A0043    1\n",
      "E01-A0043    1\n",
      "E01-A0022    1\n",
      "Name: Birth.Control, dtype: int64 Patient\n",
      "E01-A0026    2\n",
      "E01-A0026    2\n",
      "E01-A0026    2\n",
      "E01-A0071    2\n",
      "E01-A0071    2\n",
      "Name: Birth.Control, dtype: int64\n"
     ]
    }
   ],
   "source": [
    "# split data by birth control\n",
    "df_bc_0 = df[df['Birth.Control'] == 0]\n",
    "df_bc_0.to_csv(f'{save_dir}/exp_metadata_cleaned_js_bcno_{DATA}.csv', sep='\\t')\n",
    "\n",
    "df_bc_1 = df[df['Birth.Control'] == 1]\n",
    "df_bc_1.to_csv(f'{save_dir}/exp_metadata_cleaned_js_bcep_{DATA}.csv', sep='\\t')\n",
    "\n",
    "df_bc_2 = df[df['Birth.Control'] == 2]\n",
    "df_bc_2.to_csv(f'{save_dir}/exp_metadata_cleaned_js_bcp_{DATA}.csv', sep='\\t')\n",
    "\n",
    "print(df_bc_0.head()['Birth.Control'], df_bc_1.head()['Birth.Control'], df_bc_2.head()['Birth.Control'])"
   ]
  },
  {
   "cell_type": "code",
   "execution_count": null,
   "metadata": {},
   "outputs": [],
   "source": []
  }
 ],
 "metadata": {
  "kernelspec": {
   "display_name": "Python 3",
   "language": "python",
   "name": "python3"
  },
  "language_info": {
   "codemirror_mode": {
    "name": "ipython",
    "version": 3
   },
   "file_extension": ".py",
   "mimetype": "text/x-python",
   "name": "python",
   "nbconvert_exporter": "python",
   "pygments_lexer": "ipython3",
   "version": "3.11.7"
  }
 },
 "nbformat": 4,
 "nbformat_minor": 2
}
