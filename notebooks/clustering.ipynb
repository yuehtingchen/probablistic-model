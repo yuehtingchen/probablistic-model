{
 "cells": [
  {
   "cell_type": "code",
   "execution_count": 1,
   "metadata": {},
   "outputs": [],
   "source": [
    "import pandas as pd\n",
    "import umap\n",
    "import numpy as np\n",
    "import matplotlib.pyplot as plt\n",
    "import seaborn as sns\n",
    "# import umap.plot\n",
    "\n",
    "import SEACells\n",
    "import h5py\n",
    "import collections\n",
    "import scipy.sparse as sp_sparse\n",
    "from scipy.sparse import csr_matrix\n",
    "import scanpy as sc\n",
    "import anndata"
   ]
  },
  {
   "cell_type": "code",
   "execution_count": 2,
   "metadata": {},
   "outputs": [],
   "source": [
    "dataset_dir = '../data/'\n",
    "save_dir = '../data/NGJ/'\n",
    "dataset = \"NGJ/NGJ_experiment_2_filtered_feature_bc_matrix.h5\"\n",
    "switch_dataset = \"switch_genelist.csv\"\n",
    "gene_length_dataset = \"gene_len.csv\""
   ]
  },
  {
   "cell_type": "markdown",
   "metadata": {},
   "source": [
    "# Read switches"
   ]
  },
  {
   "cell_type": "code",
   "execution_count": 3,
   "metadata": {},
   "outputs": [],
   "source": [
    "switch_df = pd.read_csv(dataset_dir + switch_dataset, index_col=0)\n",
    "# drop first column\n",
    "switch_df = switch_df.drop(switch_df.columns[0], axis=1)\n",
    "\n",
    "# switch df to dict\n",
    "switch_dict = {}\n",
    "for row in switch_df.index:\n",
    "\tswitch_dict[row] = switch_df.loc[row].dropna().tolist()"
   ]
  },
  {
   "cell_type": "markdown",
   "metadata": {},
   "source": [
    "# Read Reference Matrix"
   ]
  },
  {
   "cell_type": "code",
   "execution_count": 4,
   "metadata": {},
   "outputs": [
    {
     "name": "stderr",
     "output_type": "stream",
     "text": [
      "/Users/CJChen/Desktop/PeerLab/probablistic-model/venv/lib/python3.11/site-packages/anndata/_core/anndata.py:1820: UserWarning: Variable names are not unique. To make them unique, call `.var_names_make_unique`.\n",
      "  utils.warn_names_duplicates(\"var\")\n",
      "/Users/CJChen/Desktop/PeerLab/probablistic-model/venv/lib/python3.11/site-packages/anndata/_core/anndata.py:1820: UserWarning: Variable names are not unique. To make them unique, call `.var_names_make_unique`.\n",
      "  utils.warn_names_duplicates(\"var\")\n"
     ]
    },
    {
     "data": {
      "text/plain": [
       "AnnData object with n_obs × n_vars = 1905 × 36601\n",
       "    var: 'gene_ids', 'feature_types', 'genome'"
      ]
     },
     "execution_count": 4,
     "metadata": {},
     "output_type": "execute_result"
    }
   ],
   "source": [
    "adata = sc.read_10x_h5(dataset_dir + dataset)\n",
    "adata"
   ]
  },
  {
   "cell_type": "code",
   "execution_count": 5,
   "metadata": {},
   "outputs": [],
   "source": [
    "# make var names unique\n",
    "adata.var_names_make_unique()"
   ]
  },
  {
   "cell_type": "code",
   "execution_count": 6,
   "metadata": {},
   "outputs": [],
   "source": [
    "raw_ad = sc.AnnData(adata.X)\n",
    "raw_ad.obs_names, raw_ad.var_names = adata.obs_names, adata.var_names\n",
    "adata.raw = raw_ad"
   ]
  },
  {
   "cell_type": "code",
   "execution_count": 7,
   "metadata": {},
   "outputs": [],
   "source": [
    "# compute highly variable cells\n",
    "sc.pp.normalize_per_cell(adata, copy=True)\n",
    "sc.pp.log1p(adata)\n",
    "sc.pp.highly_variable_genes(adata, n_top_genes=3660, subset=False) # n_top_genes = 36601 * 0.1\n",
    "highly_variable_genes = adata.var['highly_variable']"
   ]
  },
  {
   "cell_type": "code",
   "execution_count": 8,
   "metadata": {},
   "outputs": [],
   "source": [
    "# reset raw data\n",
    "adata.X = adata.raw.X[:, :]"
   ]
  },
  {
   "cell_type": "code",
   "execution_count": 9,
   "metadata": {},
   "outputs": [
    {
     "data": {
      "text/html": [
       "<div>\n",
       "<style scoped>\n",
       "    .dataframe tbody tr th:only-of-type {\n",
       "        vertical-align: middle;\n",
       "    }\n",
       "\n",
       "    .dataframe tbody tr th {\n",
       "        vertical-align: top;\n",
       "    }\n",
       "\n",
       "    .dataframe thead th {\n",
       "        text-align: right;\n",
       "    }\n",
       "</style>\n",
       "<table border=\"1\" class=\"dataframe\">\n",
       "  <thead>\n",
       "    <tr style=\"text-align: right;\">\n",
       "      <th></th>\n",
       "      <th>gene_length</th>\n",
       "    </tr>\n",
       "  </thead>\n",
       "  <tbody>\n",
       "    <tr>\n",
       "      <th>ENSG00000121410</th>\n",
       "      <td>8315</td>\n",
       "    </tr>\n",
       "    <tr>\n",
       "      <th>ENSG00000148584</th>\n",
       "      <td>86267</td>\n",
       "    </tr>\n",
       "    <tr>\n",
       "      <th>ENSG00000175899</th>\n",
       "      <td>48566</td>\n",
       "    </tr>\n",
       "    <tr>\n",
       "      <th>ENSG00000166535</th>\n",
       "      <td>64381</td>\n",
       "    </tr>\n",
       "    <tr>\n",
       "      <th>ENSG00000184389</th>\n",
       "      <td>14333</td>\n",
       "    </tr>\n",
       "  </tbody>\n",
       "</table>\n",
       "</div>"
      ],
      "text/plain": [
       "                 gene_length\n",
       "ENSG00000121410         8315\n",
       "ENSG00000148584        86267\n",
       "ENSG00000175899        48566\n",
       "ENSG00000166535        64381\n",
       "ENSG00000184389        14333"
      ]
     },
     "execution_count": 9,
     "metadata": {},
     "output_type": "execute_result"
    }
   ],
   "source": [
    "# load gene length data\n",
    "gene_length = pd.read_csv(dataset_dir + gene_length_dataset).T\n",
    "gene_length.columns = ['gene_length']\n",
    "gene_length = gene_length.drop(gene_length.index[0])\n",
    "gene_length.head()"
   ]
  },
  {
   "cell_type": "code",
   "execution_count": 10,
   "metadata": {},
   "outputs": [
    {
     "data": {
      "text/html": [
       "<div>\n",
       "<style scoped>\n",
       "    .dataframe tbody tr th:only-of-type {\n",
       "        vertical-align: middle;\n",
       "    }\n",
       "\n",
       "    .dataframe tbody tr th {\n",
       "        vertical-align: top;\n",
       "    }\n",
       "\n",
       "    .dataframe thead th {\n",
       "        text-align: right;\n",
       "    }\n",
       "</style>\n",
       "<table border=\"1\" class=\"dataframe\">\n",
       "  <thead>\n",
       "    <tr style=\"text-align: right;\">\n",
       "      <th></th>\n",
       "      <th>AAACCCAAGCAGCACA-1</th>\n",
       "      <th>AAACGAAAGACCGTTT-1</th>\n",
       "      <th>AAACGAAAGGGCGAAG-1</th>\n",
       "      <th>AAACGCTTCCTCGCAT-1</th>\n",
       "      <th>AAAGAACAGGGAGGAC-1</th>\n",
       "      <th>AAAGGATCATACCATG-1</th>\n",
       "      <th>AAAGGATTCTCGACGG-1</th>\n",
       "      <th>AAAGGGCTCAGCTAGT-1</th>\n",
       "      <th>AAAGGTACAGGTTCAT-1</th>\n",
       "      <th>AAAGGTAGTCCCAAAT-1</th>\n",
       "      <th>...</th>\n",
       "      <th>TTTGATCGTTATCTGG-1</th>\n",
       "      <th>TTTGGAGCAAATGATG-1</th>\n",
       "      <th>TTTGGAGGTATGTCAC-1</th>\n",
       "      <th>TTTGGAGGTGCCTGAC-1</th>\n",
       "      <th>TTTGGAGTCAAATGCC-1</th>\n",
       "      <th>TTTGGTTGTCACGTGC-1</th>\n",
       "      <th>TTTGTTGGTGACACAG-1</th>\n",
       "      <th>TTTGTTGTCAAATGAG-1</th>\n",
       "      <th>gene_name</th>\n",
       "      <th>gene_length</th>\n",
       "    </tr>\n",
       "    <tr>\n",
       "      <th>gene_ids</th>\n",
       "      <th></th>\n",
       "      <th></th>\n",
       "      <th></th>\n",
       "      <th></th>\n",
       "      <th></th>\n",
       "      <th></th>\n",
       "      <th></th>\n",
       "      <th></th>\n",
       "      <th></th>\n",
       "      <th></th>\n",
       "      <th></th>\n",
       "      <th></th>\n",
       "      <th></th>\n",
       "      <th></th>\n",
       "      <th></th>\n",
       "      <th></th>\n",
       "      <th></th>\n",
       "      <th></th>\n",
       "      <th></th>\n",
       "      <th></th>\n",
       "      <th></th>\n",
       "    </tr>\n",
       "  </thead>\n",
       "  <tbody>\n",
       "    <tr>\n",
       "      <th>ENSG00000186092</th>\n",
       "      <td>0</td>\n",
       "      <td>0</td>\n",
       "      <td>0</td>\n",
       "      <td>0</td>\n",
       "      <td>0</td>\n",
       "      <td>0</td>\n",
       "      <td>0</td>\n",
       "      <td>0</td>\n",
       "      <td>0</td>\n",
       "      <td>0</td>\n",
       "      <td>...</td>\n",
       "      <td>0</td>\n",
       "      <td>0</td>\n",
       "      <td>0</td>\n",
       "      <td>0</td>\n",
       "      <td>0</td>\n",
       "      <td>0</td>\n",
       "      <td>0</td>\n",
       "      <td>0</td>\n",
       "      <td>OR4F5</td>\n",
       "      <td>6167</td>\n",
       "    </tr>\n",
       "    <tr>\n",
       "      <th>ENSG00000284733</th>\n",
       "      <td>0</td>\n",
       "      <td>0</td>\n",
       "      <td>0</td>\n",
       "      <td>0</td>\n",
       "      <td>0</td>\n",
       "      <td>0</td>\n",
       "      <td>0</td>\n",
       "      <td>0</td>\n",
       "      <td>0</td>\n",
       "      <td>0</td>\n",
       "      <td>...</td>\n",
       "      <td>0</td>\n",
       "      <td>0</td>\n",
       "      <td>0</td>\n",
       "      <td>0</td>\n",
       "      <td>0</td>\n",
       "      <td>0</td>\n",
       "      <td>0</td>\n",
       "      <td>0</td>\n",
       "      <td>OR4F29</td>\n",
       "      <td>939</td>\n",
       "    </tr>\n",
       "    <tr>\n",
       "      <th>ENSG00000284662</th>\n",
       "      <td>0</td>\n",
       "      <td>0</td>\n",
       "      <td>0</td>\n",
       "      <td>0</td>\n",
       "      <td>0</td>\n",
       "      <td>0</td>\n",
       "      <td>0</td>\n",
       "      <td>0</td>\n",
       "      <td>0</td>\n",
       "      <td>0</td>\n",
       "      <td>...</td>\n",
       "      <td>0</td>\n",
       "      <td>0</td>\n",
       "      <td>0</td>\n",
       "      <td>0</td>\n",
       "      <td>0</td>\n",
       "      <td>0</td>\n",
       "      <td>0</td>\n",
       "      <td>0</td>\n",
       "      <td>OR4F16</td>\n",
       "      <td>939</td>\n",
       "    </tr>\n",
       "    <tr>\n",
       "      <th>ENSG00000187634</th>\n",
       "      <td>0</td>\n",
       "      <td>0</td>\n",
       "      <td>0</td>\n",
       "      <td>0</td>\n",
       "      <td>0</td>\n",
       "      <td>0</td>\n",
       "      <td>0</td>\n",
       "      <td>0</td>\n",
       "      <td>0</td>\n",
       "      <td>0</td>\n",
       "      <td>...</td>\n",
       "      <td>0</td>\n",
       "      <td>0</td>\n",
       "      <td>0</td>\n",
       "      <td>0</td>\n",
       "      <td>0</td>\n",
       "      <td>0</td>\n",
       "      <td>0</td>\n",
       "      <td>0</td>\n",
       "      <td>SAMD11</td>\n",
       "      <td>20653</td>\n",
       "    </tr>\n",
       "    <tr>\n",
       "      <th>ENSG00000188976</th>\n",
       "      <td>0</td>\n",
       "      <td>0</td>\n",
       "      <td>0</td>\n",
       "      <td>0</td>\n",
       "      <td>0</td>\n",
       "      <td>0</td>\n",
       "      <td>0</td>\n",
       "      <td>0</td>\n",
       "      <td>0</td>\n",
       "      <td>0</td>\n",
       "      <td>...</td>\n",
       "      <td>0</td>\n",
       "      <td>0</td>\n",
       "      <td>0</td>\n",
       "      <td>0</td>\n",
       "      <td>0</td>\n",
       "      <td>0</td>\n",
       "      <td>0</td>\n",
       "      <td>0</td>\n",
       "      <td>NOC2L</td>\n",
       "      <td>15107</td>\n",
       "    </tr>\n",
       "  </tbody>\n",
       "</table>\n",
       "<p>5 rows × 1907 columns</p>\n",
       "</div>"
      ],
      "text/plain": [
       "                 AAACCCAAGCAGCACA-1  AAACGAAAGACCGTTT-1  AAACGAAAGGGCGAAG-1  \\\n",
       "gene_ids                                                                      \n",
       "ENSG00000186092                   0                   0                   0   \n",
       "ENSG00000284733                   0                   0                   0   \n",
       "ENSG00000284662                   0                   0                   0   \n",
       "ENSG00000187634                   0                   0                   0   \n",
       "ENSG00000188976                   0                   0                   0   \n",
       "\n",
       "                 AAACGCTTCCTCGCAT-1  AAAGAACAGGGAGGAC-1  AAAGGATCATACCATG-1  \\\n",
       "gene_ids                                                                      \n",
       "ENSG00000186092                   0                   0                   0   \n",
       "ENSG00000284733                   0                   0                   0   \n",
       "ENSG00000284662                   0                   0                   0   \n",
       "ENSG00000187634                   0                   0                   0   \n",
       "ENSG00000188976                   0                   0                   0   \n",
       "\n",
       "                 AAAGGATTCTCGACGG-1  AAAGGGCTCAGCTAGT-1  AAAGGTACAGGTTCAT-1  \\\n",
       "gene_ids                                                                      \n",
       "ENSG00000186092                   0                   0                   0   \n",
       "ENSG00000284733                   0                   0                   0   \n",
       "ENSG00000284662                   0                   0                   0   \n",
       "ENSG00000187634                   0                   0                   0   \n",
       "ENSG00000188976                   0                   0                   0   \n",
       "\n",
       "                 AAAGGTAGTCCCAAAT-1  ...  TTTGATCGTTATCTGG-1  \\\n",
       "gene_ids                             ...                       \n",
       "ENSG00000186092                   0  ...                   0   \n",
       "ENSG00000284733                   0  ...                   0   \n",
       "ENSG00000284662                   0  ...                   0   \n",
       "ENSG00000187634                   0  ...                   0   \n",
       "ENSG00000188976                   0  ...                   0   \n",
       "\n",
       "                 TTTGGAGCAAATGATG-1  TTTGGAGGTATGTCAC-1  TTTGGAGGTGCCTGAC-1  \\\n",
       "gene_ids                                                                      \n",
       "ENSG00000186092                   0                   0                   0   \n",
       "ENSG00000284733                   0                   0                   0   \n",
       "ENSG00000284662                   0                   0                   0   \n",
       "ENSG00000187634                   0                   0                   0   \n",
       "ENSG00000188976                   0                   0                   0   \n",
       "\n",
       "                 TTTGGAGTCAAATGCC-1  TTTGGTTGTCACGTGC-1  TTTGTTGGTGACACAG-1  \\\n",
       "gene_ids                                                                      \n",
       "ENSG00000186092                   0                   0                   0   \n",
       "ENSG00000284733                   0                   0                   0   \n",
       "ENSG00000284662                   0                   0                   0   \n",
       "ENSG00000187634                   0                   0                   0   \n",
       "ENSG00000188976                   0                   0                   0   \n",
       "\n",
       "                 TTTGTTGTCAAATGAG-1  gene_name  gene_length  \n",
       "gene_ids                                                     \n",
       "ENSG00000186092                   0      OR4F5         6167  \n",
       "ENSG00000284733                   0     OR4F29          939  \n",
       "ENSG00000284662                   0     OR4F16          939  \n",
       "ENSG00000187634                   0     SAMD11        20653  \n",
       "ENSG00000188976                   0      NOC2L        15107  \n",
       "\n",
       "[5 rows x 1907 columns]"
      ]
     },
     "execution_count": 10,
     "metadata": {},
     "output_type": "execute_result"
    }
   ],
   "source": [
    "# Extract gene expression matrix\n",
    "gene_expr_matrix = adata.X\n",
    "# Convert the gene expression matrix to a pandas DataFrame\n",
    "gene_expr_df = pd.DataFrame.sparse.from_spmatrix(gene_expr_matrix, index=adata.obs_names, columns=adata.var['gene_ids']).T\n",
    "\n",
    "# add gene name column\n",
    "gene_expr_df['gene_name'] = adata.var_names\n",
    "\n",
    "# Ensure both index names match for merging\n",
    "gene_expr_df.index.name = 'gene_ids'\n",
    "gene_length.index.name = 'gene_ids'\n",
    "\n",
    "# Merge gene expression with gene lengths based on gene IDs\n",
    "merged_data = pd.merge(gene_expr_df, gene_length, left_index=True, right_index=True)\n",
    "merged_data.head()"
   ]
  },
  {
   "cell_type": "code",
   "execution_count": 11,
   "metadata": {},
   "outputs": [],
   "source": [
    "# Calculate RPKM + 1\n",
    "total_reads = merged_data.iloc[:, :-2].sum(axis=0)\n",
    "rpkm = (merged_data.iloc[:, :-2].div(merged_data['gene_length'], axis=0) * 1e9).div(total_reads, axis=1) + 1"
   ]
  },
  {
   "cell_type": "code",
   "execution_count": 12,
   "metadata": {},
   "outputs": [
    {
     "data": {
      "text/html": [
       "<div>\n",
       "<style scoped>\n",
       "    .dataframe tbody tr th:only-of-type {\n",
       "        vertical-align: middle;\n",
       "    }\n",
       "\n",
       "    .dataframe tbody tr th {\n",
       "        vertical-align: top;\n",
       "    }\n",
       "\n",
       "    .dataframe thead th {\n",
       "        text-align: right;\n",
       "    }\n",
       "</style>\n",
       "<table border=\"1\" class=\"dataframe\">\n",
       "  <thead>\n",
       "    <tr style=\"text-align: right;\">\n",
       "      <th></th>\n",
       "      <th>AAACCCAAGCAGCACA-1</th>\n",
       "      <th>AAACGAAAGACCGTTT-1</th>\n",
       "      <th>AAACGAAAGGGCGAAG-1</th>\n",
       "      <th>AAACGCTTCCTCGCAT-1</th>\n",
       "      <th>AAAGAACAGGGAGGAC-1</th>\n",
       "      <th>AAAGGATCATACCATG-1</th>\n",
       "      <th>AAAGGATTCTCGACGG-1</th>\n",
       "      <th>AAAGGGCTCAGCTAGT-1</th>\n",
       "      <th>AAAGGTACAGGTTCAT-1</th>\n",
       "      <th>AAAGGTAGTCCCAAAT-1</th>\n",
       "      <th>...</th>\n",
       "      <th>TTTGATCCAATGCTCA-1</th>\n",
       "      <th>TTTGATCCATGACAAA-1</th>\n",
       "      <th>TTTGATCGTTATCTGG-1</th>\n",
       "      <th>TTTGGAGCAAATGATG-1</th>\n",
       "      <th>TTTGGAGGTATGTCAC-1</th>\n",
       "      <th>TTTGGAGGTGCCTGAC-1</th>\n",
       "      <th>TTTGGAGTCAAATGCC-1</th>\n",
       "      <th>TTTGGTTGTCACGTGC-1</th>\n",
       "      <th>TTTGTTGGTGACACAG-1</th>\n",
       "      <th>TTTGTTGTCAAATGAG-1</th>\n",
       "    </tr>\n",
       "    <tr>\n",
       "      <th>gene_name</th>\n",
       "      <th></th>\n",
       "      <th></th>\n",
       "      <th></th>\n",
       "      <th></th>\n",
       "      <th></th>\n",
       "      <th></th>\n",
       "      <th></th>\n",
       "      <th></th>\n",
       "      <th></th>\n",
       "      <th></th>\n",
       "      <th></th>\n",
       "      <th></th>\n",
       "      <th></th>\n",
       "      <th></th>\n",
       "      <th></th>\n",
       "      <th></th>\n",
       "      <th></th>\n",
       "      <th></th>\n",
       "      <th></th>\n",
       "      <th></th>\n",
       "      <th></th>\n",
       "    </tr>\n",
       "  </thead>\n",
       "  <tbody>\n",
       "    <tr>\n",
       "      <th>OR4F5</th>\n",
       "      <td>1.0</td>\n",
       "      <td>1.0</td>\n",
       "      <td>1.0</td>\n",
       "      <td>1.0</td>\n",
       "      <td>1.0</td>\n",
       "      <td>1.0</td>\n",
       "      <td>1.0</td>\n",
       "      <td>1.0</td>\n",
       "      <td>1.0</td>\n",
       "      <td>1.0</td>\n",
       "      <td>...</td>\n",
       "      <td>1.0</td>\n",
       "      <td>1.0</td>\n",
       "      <td>1.0</td>\n",
       "      <td>1.0</td>\n",
       "      <td>1.0</td>\n",
       "      <td>1.0</td>\n",
       "      <td>1.0</td>\n",
       "      <td>1.0</td>\n",
       "      <td>1.0</td>\n",
       "      <td>1.0</td>\n",
       "    </tr>\n",
       "    <tr>\n",
       "      <th>OR4F29</th>\n",
       "      <td>1.0</td>\n",
       "      <td>1.0</td>\n",
       "      <td>1.0</td>\n",
       "      <td>1.0</td>\n",
       "      <td>1.0</td>\n",
       "      <td>1.0</td>\n",
       "      <td>1.0</td>\n",
       "      <td>1.0</td>\n",
       "      <td>1.0</td>\n",
       "      <td>1.0</td>\n",
       "      <td>...</td>\n",
       "      <td>1.0</td>\n",
       "      <td>1.0</td>\n",
       "      <td>1.0</td>\n",
       "      <td>1.0</td>\n",
       "      <td>1.0</td>\n",
       "      <td>1.0</td>\n",
       "      <td>1.0</td>\n",
       "      <td>1.0</td>\n",
       "      <td>1.0</td>\n",
       "      <td>1.0</td>\n",
       "    </tr>\n",
       "    <tr>\n",
       "      <th>OR4F16</th>\n",
       "      <td>1.0</td>\n",
       "      <td>1.0</td>\n",
       "      <td>1.0</td>\n",
       "      <td>1.0</td>\n",
       "      <td>1.0</td>\n",
       "      <td>1.0</td>\n",
       "      <td>1.0</td>\n",
       "      <td>1.0</td>\n",
       "      <td>1.0</td>\n",
       "      <td>1.0</td>\n",
       "      <td>...</td>\n",
       "      <td>1.0</td>\n",
       "      <td>1.0</td>\n",
       "      <td>1.0</td>\n",
       "      <td>1.0</td>\n",
       "      <td>1.0</td>\n",
       "      <td>1.0</td>\n",
       "      <td>1.0</td>\n",
       "      <td>1.0</td>\n",
       "      <td>1.0</td>\n",
       "      <td>1.0</td>\n",
       "    </tr>\n",
       "    <tr>\n",
       "      <th>SAMD11</th>\n",
       "      <td>1.0</td>\n",
       "      <td>1.0</td>\n",
       "      <td>1.0</td>\n",
       "      <td>1.0</td>\n",
       "      <td>1.0</td>\n",
       "      <td>1.0</td>\n",
       "      <td>1.0</td>\n",
       "      <td>1.0</td>\n",
       "      <td>1.0</td>\n",
       "      <td>1.0</td>\n",
       "      <td>...</td>\n",
       "      <td>1.0</td>\n",
       "      <td>1.0</td>\n",
       "      <td>1.0</td>\n",
       "      <td>1.0</td>\n",
       "      <td>1.0</td>\n",
       "      <td>1.0</td>\n",
       "      <td>1.0</td>\n",
       "      <td>1.0</td>\n",
       "      <td>1.0</td>\n",
       "      <td>1.0</td>\n",
       "    </tr>\n",
       "    <tr>\n",
       "      <th>NOC2L</th>\n",
       "      <td>1.0</td>\n",
       "      <td>1.0</td>\n",
       "      <td>1.0</td>\n",
       "      <td>1.0</td>\n",
       "      <td>1.0</td>\n",
       "      <td>1.0</td>\n",
       "      <td>1.0</td>\n",
       "      <td>1.0</td>\n",
       "      <td>1.0</td>\n",
       "      <td>1.0</td>\n",
       "      <td>...</td>\n",
       "      <td>15.63222</td>\n",
       "      <td>1.0</td>\n",
       "      <td>1.0</td>\n",
       "      <td>1.0</td>\n",
       "      <td>1.0</td>\n",
       "      <td>1.0</td>\n",
       "      <td>1.0</td>\n",
       "      <td>1.0</td>\n",
       "      <td>1.0</td>\n",
       "      <td>1.0</td>\n",
       "    </tr>\n",
       "  </tbody>\n",
       "</table>\n",
       "<p>5 rows × 1905 columns</p>\n",
       "</div>"
      ],
      "text/plain": [
       "           AAACCCAAGCAGCACA-1  AAACGAAAGACCGTTT-1  AAACGAAAGGGCGAAG-1  \\\n",
       "gene_name                                                               \n",
       "OR4F5                     1.0                 1.0                 1.0   \n",
       "OR4F29                    1.0                 1.0                 1.0   \n",
       "OR4F16                    1.0                 1.0                 1.0   \n",
       "SAMD11                    1.0                 1.0                 1.0   \n",
       "NOC2L                     1.0                 1.0                 1.0   \n",
       "\n",
       "           AAACGCTTCCTCGCAT-1  AAAGAACAGGGAGGAC-1  AAAGGATCATACCATG-1  \\\n",
       "gene_name                                                               \n",
       "OR4F5                     1.0                 1.0                 1.0   \n",
       "OR4F29                    1.0                 1.0                 1.0   \n",
       "OR4F16                    1.0                 1.0                 1.0   \n",
       "SAMD11                    1.0                 1.0                 1.0   \n",
       "NOC2L                     1.0                 1.0                 1.0   \n",
       "\n",
       "           AAAGGATTCTCGACGG-1  AAAGGGCTCAGCTAGT-1  AAAGGTACAGGTTCAT-1  \\\n",
       "gene_name                                                               \n",
       "OR4F5                     1.0                 1.0                 1.0   \n",
       "OR4F29                    1.0                 1.0                 1.0   \n",
       "OR4F16                    1.0                 1.0                 1.0   \n",
       "SAMD11                    1.0                 1.0                 1.0   \n",
       "NOC2L                     1.0                 1.0                 1.0   \n",
       "\n",
       "           AAAGGTAGTCCCAAAT-1  ...  TTTGATCCAATGCTCA-1  TTTGATCCATGACAAA-1  \\\n",
       "gene_name                      ...                                           \n",
       "OR4F5                     1.0  ...                 1.0                 1.0   \n",
       "OR4F29                    1.0  ...                 1.0                 1.0   \n",
       "OR4F16                    1.0  ...                 1.0                 1.0   \n",
       "SAMD11                    1.0  ...                 1.0                 1.0   \n",
       "NOC2L                     1.0  ...            15.63222                 1.0   \n",
       "\n",
       "           TTTGATCGTTATCTGG-1  TTTGGAGCAAATGATG-1  TTTGGAGGTATGTCAC-1  \\\n",
       "gene_name                                                               \n",
       "OR4F5                     1.0                 1.0                 1.0   \n",
       "OR4F29                    1.0                 1.0                 1.0   \n",
       "OR4F16                    1.0                 1.0                 1.0   \n",
       "SAMD11                    1.0                 1.0                 1.0   \n",
       "NOC2L                     1.0                 1.0                 1.0   \n",
       "\n",
       "           TTTGGAGGTGCCTGAC-1  TTTGGAGTCAAATGCC-1  TTTGGTTGTCACGTGC-1  \\\n",
       "gene_name                                                               \n",
       "OR4F5                     1.0                 1.0                 1.0   \n",
       "OR4F29                    1.0                 1.0                 1.0   \n",
       "OR4F16                    1.0                 1.0                 1.0   \n",
       "SAMD11                    1.0                 1.0                 1.0   \n",
       "NOC2L                     1.0                 1.0                 1.0   \n",
       "\n",
       "           TTTGTTGGTGACACAG-1  TTTGTTGTCAAATGAG-1  \n",
       "gene_name                                          \n",
       "OR4F5                     1.0                 1.0  \n",
       "OR4F29                    1.0                 1.0  \n",
       "OR4F16                    1.0                 1.0  \n",
       "SAMD11                    1.0                 1.0  \n",
       "NOC2L                     1.0                 1.0  \n",
       "\n",
       "[5 rows x 1905 columns]"
      ]
     },
     "execution_count": 12,
     "metadata": {},
     "output_type": "execute_result"
    }
   ],
   "source": [
    "rpkm.index = merged_data['gene_name']\n",
    "rpkm.head()"
   ]
  },
  {
   "cell_type": "code",
   "execution_count": 13,
   "metadata": {},
   "outputs": [],
   "source": [
    "# save RPKM for future reference\n",
    "rpkm.to_csv(save_dir + 'rpkm.csv', sep='\\t')"
   ]
  },
  {
   "cell_type": "markdown",
   "metadata": {},
   "source": [
    "# Clustering pipeline"
   ]
  },
  {
   "cell_type": "markdown",
   "metadata": {},
   "source": [
    "## Create anndata for genes in JS"
   ]
  },
  {
   "cell_type": "code",
   "execution_count": 91,
   "metadata": {},
   "outputs": [],
   "source": [
    "REPRESENT = \"gene\""
   ]
  },
  {
   "cell_type": "code",
   "execution_count": 92,
   "metadata": {},
   "outputs": [
    {
     "data": {
      "text/html": [
       "<div>\n",
       "<style scoped>\n",
       "    .dataframe tbody tr th:only-of-type {\n",
       "        vertical-align: middle;\n",
       "    }\n",
       "\n",
       "    .dataframe tbody tr th {\n",
       "        vertical-align: top;\n",
       "    }\n",
       "\n",
       "    .dataframe thead th {\n",
       "        text-align: right;\n",
       "    }\n",
       "</style>\n",
       "<table border=\"1\" class=\"dataframe\">\n",
       "  <thead>\n",
       "    <tr style=\"text-align: right;\">\n",
       "      <th></th>\n",
       "      <th>AAACCCAAGCAGCACA-1</th>\n",
       "      <th>AAACGAAAGACCGTTT-1</th>\n",
       "      <th>AAACGAAAGGGCGAAG-1</th>\n",
       "      <th>AAACGCTTCCTCGCAT-1</th>\n",
       "      <th>AAAGAACAGGGAGGAC-1</th>\n",
       "      <th>AAAGGATCATACCATG-1</th>\n",
       "      <th>AAAGGATTCTCGACGG-1</th>\n",
       "      <th>AAAGGGCTCAGCTAGT-1</th>\n",
       "      <th>AAAGGTACAGGTTCAT-1</th>\n",
       "      <th>AAAGGTAGTCCCAAAT-1</th>\n",
       "      <th>...</th>\n",
       "      <th>TTTGATCCAATGCTCA-1</th>\n",
       "      <th>TTTGATCCATGACAAA-1</th>\n",
       "      <th>TTTGATCGTTATCTGG-1</th>\n",
       "      <th>TTTGGAGCAAATGATG-1</th>\n",
       "      <th>TTTGGAGGTATGTCAC-1</th>\n",
       "      <th>TTTGGAGGTGCCTGAC-1</th>\n",
       "      <th>TTTGGAGTCAAATGCC-1</th>\n",
       "      <th>TTTGGTTGTCACGTGC-1</th>\n",
       "      <th>TTTGTTGGTGACACAG-1</th>\n",
       "      <th>TTTGTTGTCAAATGAG-1</th>\n",
       "    </tr>\n",
       "    <tr>\n",
       "      <th>gene_name</th>\n",
       "      <th></th>\n",
       "      <th></th>\n",
       "      <th></th>\n",
       "      <th></th>\n",
       "      <th></th>\n",
       "      <th></th>\n",
       "      <th></th>\n",
       "      <th></th>\n",
       "      <th></th>\n",
       "      <th></th>\n",
       "      <th></th>\n",
       "      <th></th>\n",
       "      <th></th>\n",
       "      <th></th>\n",
       "      <th></th>\n",
       "      <th></th>\n",
       "      <th></th>\n",
       "      <th></th>\n",
       "      <th></th>\n",
       "      <th></th>\n",
       "      <th></th>\n",
       "    </tr>\n",
       "  </thead>\n",
       "  <tbody>\n",
       "    <tr>\n",
       "      <th>SAMD11</th>\n",
       "      <td>1.0</td>\n",
       "      <td>1.0</td>\n",
       "      <td>1.0</td>\n",
       "      <td>1.0</td>\n",
       "      <td>1.0</td>\n",
       "      <td>1.0</td>\n",
       "      <td>1.0</td>\n",
       "      <td>1.0</td>\n",
       "      <td>1.0</td>\n",
       "      <td>1.0</td>\n",
       "      <td>...</td>\n",
       "      <td>1.0</td>\n",
       "      <td>1.0</td>\n",
       "      <td>1.0</td>\n",
       "      <td>1.0</td>\n",
       "      <td>1.0</td>\n",
       "      <td>1.0</td>\n",
       "      <td>1.0</td>\n",
       "      <td>1.0</td>\n",
       "      <td>1.0</td>\n",
       "      <td>1.0</td>\n",
       "    </tr>\n",
       "    <tr>\n",
       "      <th>HES4</th>\n",
       "      <td>1.0</td>\n",
       "      <td>1.0</td>\n",
       "      <td>1.0</td>\n",
       "      <td>1.0</td>\n",
       "      <td>1.0</td>\n",
       "      <td>1.0</td>\n",
       "      <td>1.0</td>\n",
       "      <td>1.0</td>\n",
       "      <td>1.0</td>\n",
       "      <td>1.0</td>\n",
       "      <td>...</td>\n",
       "      <td>1.0</td>\n",
       "      <td>1.0</td>\n",
       "      <td>1.0</td>\n",
       "      <td>1.0</td>\n",
       "      <td>1.0</td>\n",
       "      <td>1.0</td>\n",
       "      <td>1.0</td>\n",
       "      <td>1.0</td>\n",
       "      <td>1.0</td>\n",
       "      <td>1.0</td>\n",
       "    </tr>\n",
       "    <tr>\n",
       "      <th>ISG15</th>\n",
       "      <td>28.561859</td>\n",
       "      <td>1.0</td>\n",
       "      <td>1.0</td>\n",
       "      <td>1.0</td>\n",
       "      <td>1.0</td>\n",
       "      <td>36.91212</td>\n",
       "      <td>1.0</td>\n",
       "      <td>1.0</td>\n",
       "      <td>1.0</td>\n",
       "      <td>1.0</td>\n",
       "      <td>...</td>\n",
       "      <td>1.0</td>\n",
       "      <td>1.0</td>\n",
       "      <td>1.0</td>\n",
       "      <td>1.0</td>\n",
       "      <td>50.801531</td>\n",
       "      <td>1.0</td>\n",
       "      <td>1.0</td>\n",
       "      <td>23.529166</td>\n",
       "      <td>1.0</td>\n",
       "      <td>1.0</td>\n",
       "    </tr>\n",
       "    <tr>\n",
       "      <th>AGRN</th>\n",
       "      <td>1.0</td>\n",
       "      <td>1.0</td>\n",
       "      <td>1.0</td>\n",
       "      <td>1.0</td>\n",
       "      <td>1.0</td>\n",
       "      <td>1.0</td>\n",
       "      <td>1.0</td>\n",
       "      <td>1.0</td>\n",
       "      <td>1.0</td>\n",
       "      <td>1.0</td>\n",
       "      <td>...</td>\n",
       "      <td>1.0</td>\n",
       "      <td>1.0</td>\n",
       "      <td>1.0</td>\n",
       "      <td>1.0</td>\n",
       "      <td>1.0</td>\n",
       "      <td>1.0</td>\n",
       "      <td>1.0</td>\n",
       "      <td>1.0</td>\n",
       "      <td>1.0</td>\n",
       "      <td>1.0</td>\n",
       "    </tr>\n",
       "    <tr>\n",
       "      <th>RNF223</th>\n",
       "      <td>1.0</td>\n",
       "      <td>1.0</td>\n",
       "      <td>1.0</td>\n",
       "      <td>1.0</td>\n",
       "      <td>1.0</td>\n",
       "      <td>1.0</td>\n",
       "      <td>1.0</td>\n",
       "      <td>1.0</td>\n",
       "      <td>1.0</td>\n",
       "      <td>1.0</td>\n",
       "      <td>...</td>\n",
       "      <td>1.0</td>\n",
       "      <td>1.0</td>\n",
       "      <td>1.0</td>\n",
       "      <td>1.0</td>\n",
       "      <td>1.0</td>\n",
       "      <td>1.0</td>\n",
       "      <td>1.0</td>\n",
       "      <td>1.0</td>\n",
       "      <td>1.0</td>\n",
       "      <td>1.0</td>\n",
       "    </tr>\n",
       "  </tbody>\n",
       "</table>\n",
       "<p>5 rows × 1905 columns</p>\n",
       "</div>"
      ],
      "text/plain": [
       "           AAACCCAAGCAGCACA-1  AAACGAAAGACCGTTT-1  AAACGAAAGGGCGAAG-1  \\\n",
       "gene_name                                                               \n",
       "SAMD11                    1.0                 1.0                 1.0   \n",
       "HES4                      1.0                 1.0                 1.0   \n",
       "ISG15               28.561859                 1.0                 1.0   \n",
       "AGRN                      1.0                 1.0                 1.0   \n",
       "RNF223                    1.0                 1.0                 1.0   \n",
       "\n",
       "           AAACGCTTCCTCGCAT-1  AAAGAACAGGGAGGAC-1  AAAGGATCATACCATG-1  \\\n",
       "gene_name                                                               \n",
       "SAMD11                    1.0                 1.0                 1.0   \n",
       "HES4                      1.0                 1.0                 1.0   \n",
       "ISG15                     1.0                 1.0            36.91212   \n",
       "AGRN                      1.0                 1.0                 1.0   \n",
       "RNF223                    1.0                 1.0                 1.0   \n",
       "\n",
       "           AAAGGATTCTCGACGG-1  AAAGGGCTCAGCTAGT-1  AAAGGTACAGGTTCAT-1  \\\n",
       "gene_name                                                               \n",
       "SAMD11                    1.0                 1.0                 1.0   \n",
       "HES4                      1.0                 1.0                 1.0   \n",
       "ISG15                     1.0                 1.0                 1.0   \n",
       "AGRN                      1.0                 1.0                 1.0   \n",
       "RNF223                    1.0                 1.0                 1.0   \n",
       "\n",
       "           AAAGGTAGTCCCAAAT-1  ...  TTTGATCCAATGCTCA-1  TTTGATCCATGACAAA-1  \\\n",
       "gene_name                      ...                                           \n",
       "SAMD11                    1.0  ...                 1.0                 1.0   \n",
       "HES4                      1.0  ...                 1.0                 1.0   \n",
       "ISG15                     1.0  ...                 1.0                 1.0   \n",
       "AGRN                      1.0  ...                 1.0                 1.0   \n",
       "RNF223                    1.0  ...                 1.0                 1.0   \n",
       "\n",
       "           TTTGATCGTTATCTGG-1  TTTGGAGCAAATGATG-1  TTTGGAGGTATGTCAC-1  \\\n",
       "gene_name                                                               \n",
       "SAMD11                    1.0                 1.0                 1.0   \n",
       "HES4                      1.0                 1.0                 1.0   \n",
       "ISG15                     1.0                 1.0           50.801531   \n",
       "AGRN                      1.0                 1.0                 1.0   \n",
       "RNF223                    1.0                 1.0                 1.0   \n",
       "\n",
       "           TTTGGAGGTGCCTGAC-1  TTTGGAGTCAAATGCC-1  TTTGGTTGTCACGTGC-1  \\\n",
       "gene_name                                                               \n",
       "SAMD11                    1.0                 1.0                 1.0   \n",
       "HES4                      1.0                 1.0                 1.0   \n",
       "ISG15                     1.0                 1.0           23.529166   \n",
       "AGRN                      1.0                 1.0                 1.0   \n",
       "RNF223                    1.0                 1.0                 1.0   \n",
       "\n",
       "           TTTGTTGGTGACACAG-1  TTTGTTGTCAAATGAG-1  \n",
       "gene_name                                          \n",
       "SAMD11                    1.0                 1.0  \n",
       "HES4                      1.0                 1.0  \n",
       "ISG15                     1.0                 1.0  \n",
       "AGRN                      1.0                 1.0  \n",
       "RNF223                    1.0                 1.0  \n",
       "\n",
       "[5 rows x 1905 columns]"
      ]
     },
     "execution_count": 92,
     "metadata": {},
     "output_type": "execute_result"
    }
   ],
   "source": [
    "# filter out highly variable genes\n",
    "rpkm_filtered = rpkm.loc[highly_variable_genes]\n",
    "rpkm_filtered.head()"
   ]
  },
  {
   "cell_type": "code",
   "execution_count": 93,
   "metadata": {},
   "outputs": [],
   "source": [
    "# take log2 of RPKM+1\n",
    "rpkm_log2 = np.log2(rpkm_filtered)"
   ]
  },
  {
   "cell_type": "code",
   "execution_count": 94,
   "metadata": {},
   "outputs": [],
   "source": [
    "# calculate reference genes\n",
    "rab7a = rpkm.loc['RAB7A'].to_numpy()\n",
    "gapdh = rpkm.loc['GAPDH'].to_numpy()\n",
    "actp = rpkm.loc['ACTB'].to_numpy()"
   ]
  },
  {
   "cell_type": "code",
   "execution_count": 95,
   "metadata": {},
   "outputs": [
    {
     "data": {
      "text/plain": [
       "(0.0, 4.644066763345108)"
      ]
     },
     "execution_count": 95,
     "metadata": {},
     "output_type": "execute_result"
    }
   ],
   "source": [
    "ref_norm = np.multiply(rab7a, gapdh, actp) ** (1/3)\n",
    "ref_norm = np.log2(ref_norm)\n",
    "ref_norm.min(), ref_norm.max()"
   ]
  },
  {
   "cell_type": "code",
   "execution_count": 96,
   "metadata": {},
   "outputs": [],
   "source": [
    "# calculate jane score:\n",
    "# 10 + log2(RPKM) - log2(geomean(RAB7A+1, GAPDH+1, ACTB+1)) if RPKM > 0\n",
    "# 0 if RPKM == 0\n",
    "adata_processed_X = np.where(rpkm_log2 == 0, rpkm_log2, 10 + rpkm_log2 - ref_norm)"
   ]
  },
  {
   "cell_type": "code",
   "execution_count": 97,
   "metadata": {},
   "outputs": [],
   "source": [
    "# save adata_processed_X as csv\n",
    "pd.DataFrame(adata_processed_X, columns=rpkm_filtered.columns, index=rpkm_filtered.index).to_csv(save_dir + \"js_gene.csv\", sep='\\t')"
   ]
  },
  {
   "cell_type": "code",
   "execution_count": 98,
   "metadata": {},
   "outputs": [
    {
     "data": {
      "text/plain": [
       "<1905x3314 sparse matrix of type '<class 'numpy.float32'>'\n",
       "\twith 458419 stored elements in Compressed Sparse Row format>"
      ]
     },
     "execution_count": 98,
     "metadata": {},
     "output_type": "execute_result"
    }
   ],
   "source": [
    "adata_proceesed = anndata.AnnData(csr_matrix(adata_processed_X.T, dtype=np.float32))\n",
    "adata_proceesed.X"
   ]
  },
  {
   "cell_type": "code",
   "execution_count": 99,
   "metadata": {},
   "outputs": [],
   "source": [
    "adata_proceesed.obs_names = rpkm_filtered.columns\n",
    "adata_proceesed.var_names = rpkm_filtered.index"
   ]
  },
  {
   "cell_type": "code",
   "execution_count": 100,
   "metadata": {},
   "outputs": [],
   "source": [
    "PCA_ncomps = 720"
   ]
  },
  {
   "cell_type": "markdown",
   "metadata": {},
   "source": [
    "## Create anndata for switches in JS"
   ]
  },
  {
   "cell_type": "code",
   "execution_count": 14,
   "metadata": {},
   "outputs": [],
   "source": [
    "REPRESENT = \"switch\""
   ]
  },
  {
   "cell_type": "code",
   "execution_count": 15,
   "metadata": {},
   "outputs": [],
   "source": [
    "# calculate reference genes\n",
    "rab7a = rpkm.loc['RAB7A'].to_numpy()\n",
    "gapdh = rpkm.loc['GAPDH'].to_numpy()\n",
    "actp = rpkm.loc['ACTB'].to_numpy()"
   ]
  },
  {
   "cell_type": "code",
   "execution_count": 16,
   "metadata": {},
   "outputs": [
    {
     "data": {
      "text/plain": [
       "(0.0, 4.644066763345108)"
      ]
     },
     "execution_count": 16,
     "metadata": {},
     "output_type": "execute_result"
    }
   ],
   "source": [
    "ref_norm = np.multiply(rab7a, gapdh, actp) ** (1/3)\n",
    "ref_norm = np.log2(ref_norm)\n",
    "ref_norm.min(), ref_norm.max()"
   ]
  },
  {
   "cell_type": "code",
   "execution_count": 17,
   "metadata": {},
   "outputs": [],
   "source": [
    "# take log2 of RPKM+1\n",
    "rpkm_log2 = np.log2(rpkm)"
   ]
  },
  {
   "cell_type": "code",
   "execution_count": 18,
   "metadata": {},
   "outputs": [],
   "source": [
    "# calculate jane score:\n",
    "# 10 + log2(RPKM) - log2(geomean(RAB7A+1, GAPDH+1, ACTB+1)) if RPKM > 0\n",
    "# 0 if RPKM == 0\n",
    "js = pd.DataFrame(np.where(rpkm_log2 == 0, rpkm_log2, 10 + rpkm_log2 - ref_norm), columns=rpkm_log2.columns, index = rpkm_log2.index)"
   ]
  },
  {
   "cell_type": "code",
   "execution_count": 19,
   "metadata": {},
   "outputs": [
    {
     "name": "stdout",
     "output_type": "stream",
     "text": [
      "5079 19212 4982\n"
     ]
    }
   ],
   "source": [
    "# compare genes in switches with genes in rpkm\n",
    "switch_genes = [gene for switch in switch_dict.keys() for gene in switch_dict[switch]]\n",
    "# change to set\n",
    "switch_genes = set(switch_genes)\n",
    "rpkm_genes = set(rpkm.index)\n",
    "\n",
    "# find overlapping genes\n",
    "overlapping_genes = switch_genes.intersection(rpkm_genes)\n",
    "print(len(switch_genes), len(rpkm_genes), len(overlapping_genes))"
   ]
  },
  {
   "cell_type": "code",
   "execution_count": 20,
   "metadata": {},
   "outputs": [],
   "source": [
    "# filter non-overlapping genes from switches\n",
    "for switch in switch_dict.keys():\n",
    "\tswitch_dict[switch] = list(set(switch_dict[switch]).intersection(overlapping_genes))"
   ]
  },
  {
   "cell_type": "code",
   "execution_count": 21,
   "metadata": {},
   "outputs": [],
   "source": [
    "# aggregate rpkm columns using switch_dict\n",
    "js_switch = pd.DataFrame(columns=js.columns, index=switch_dict.keys())\n",
    "for i in switch_dict.keys():\n",
    "\tjs_switch.loc[i] = np.mean(js.loc[switch_dict[i]].values, axis=0)"
   ]
  },
  {
   "cell_type": "code",
   "execution_count": 22,
   "metadata": {},
   "outputs": [],
   "source": [
    "# saving js switch data\n",
    "js_switch.to_csv(save_dir + \"js_switch.csv\", sep='\\t')"
   ]
  },
  {
   "cell_type": "code",
   "execution_count": 23,
   "metadata": {},
   "outputs": [
    {
     "data": {
      "text/plain": [
       "<1905x489 sparse matrix of type '<class 'numpy.float32'>'\n",
       "\twith 492719 stored elements in Compressed Sparse Row format>"
      ]
     },
     "execution_count": 23,
     "metadata": {},
     "output_type": "execute_result"
    }
   ],
   "source": [
    "# convert data to AnnData\n",
    "adata_proceesed = anndata.AnnData(csr_matrix(js_switch.T.values, dtype=np.float32))\n",
    "adata_proceesed.X"
   ]
  },
  {
   "cell_type": "code",
   "execution_count": 24,
   "metadata": {},
   "outputs": [],
   "source": [
    "adata_proceesed.obs_names = js_switch.columns\n",
    "adata_proceesed.var_names = js_switch.index"
   ]
  },
  {
   "cell_type": "code",
   "execution_count": 25,
   "metadata": {},
   "outputs": [],
   "source": [
    "PCA_ncomps = 111"
   ]
  },
  {
   "cell_type": "markdown",
   "metadata": {},
   "source": [
    "## SEACells Clustering and UMAP"
   ]
  },
  {
   "cell_type": "code",
   "execution_count": 63,
   "metadata": {},
   "outputs": [],
   "source": [
    "sc.tl.pca(adata_proceesed, n_comps=PCA_ncomps)"
   ]
  },
  {
   "cell_type": "code",
   "execution_count": 64,
   "metadata": {},
   "outputs": [
    {
     "name": "stdout",
     "output_type": "stream",
     "text": [
      "# 109 PC's capture 95% of variance\n"
     ]
    }
   ],
   "source": [
    "cumsum = np.cumsum(adata_proceesed.uns['pca']['variance_ratio'])\n",
    "print(\"#\", np.count_nonzero(cumsum < 0.95), \"PC's capture 95% of variance\")"
   ]
  },
  {
   "cell_type": "code",
   "execution_count": 65,
   "metadata": {},
   "outputs": [
    {
     "name": "stdout",
     "output_type": "stream",
     "text": [
      "WARNING: saving figure to file figures/umap_switch.png\n"
     ]
    },
    {
     "data": {
      "image/png": "[encoded data removed]",
      "text/plain": [
       "<Figure size 400x400 with 1 Axes>"
      ]
     },
     "metadata": {},
     "output_type": "display_data"
    }
   ],
   "source": [
    "sc.pp.neighbors(adata_proceesed)\n",
    "sc.tl.umap(adata_proceesed)\n",
    "sc.pl.umap(adata_proceesed, save=f'_{REPRESENT}.png', title=f'UMAP {REPRESENT}')"
   ]
  },
  {
   "cell_type": "markdown",
   "metadata": {},
   "source": [
    "### Run SEACells"
   ]
  },
  {
   "cell_type": "code",
   "execution_count": 66,
   "metadata": {},
   "outputs": [],
   "source": [
    "## Core parameters\n",
    "n_SEACells = 15\n",
    "build_kernel_on = 'X_pca'\n",
    "\n",
    "## Additional parameters\n",
    "n_waypoint_eigs = 10 # Number of eigenvalues to consider when initializing metacells !!not sure how to tune"
   ]
  },
  {
   "cell_type": "code",
   "execution_count": 67,
   "metadata": {},
   "outputs": [
    {
     "name": "stdout",
     "output_type": "stream",
     "text": [
      "Welcome to SEACells!\n"
     ]
    }
   ],
   "source": [
    "model = SEACells.core.SEACells(adata_proceesed,\n",
    "                  build_kernel_on=build_kernel_on,\n",
    "                  n_SEACells=n_SEACells,\n",
    "                  n_waypoint_eigs=n_waypoint_eigs,\n",
    "                  convergence_epsilon = 1e-5)"
   ]
  },
  {
   "cell_type": "code",
   "execution_count": 68,
   "metadata": {},
   "outputs": [
    {
     "name": "stdout",
     "output_type": "stream",
     "text": [
      "Computing kNN graph using scanpy NN ...\n",
      "Computing radius for adaptive bandwidth kernel...\n"
     ]
    },
    {
     "data": {
      "application/vnd.jupyter.widget-view+json": {
       "model_id": "237b84b009374d4ea2db13873981e9dd",
       "version_major": 2,
       "version_minor": 0
      },
      "text/plain": [
       "  0%|          | 0/1905 [00:00<?, ?it/s]"
      ]
     },
     "metadata": {},
     "output_type": "display_data"
    },
    {
     "name": "stdout",
     "output_type": "stream",
     "text": [
      "Making graph symmetric...\n",
      "Parameter graph_construction = union being used to build KNN graph...\n",
      "Computing RBF kernel...\n"
     ]
    },
    {
     "data": {
      "application/vnd.jupyter.widget-view+json": {
       "model_id": "3f627aeb92e84592bff69e71ceddba71",
       "version_major": 2,
       "version_minor": 0
      },
      "text/plain": [
       "  0%|          | 0/1905 [00:00<?, ?it/s]"
      ]
     },
     "metadata": {},
     "output_type": "display_data"
    },
    {
     "name": "stdout",
     "output_type": "stream",
     "text": [
      "Building similarity LIL matrix...\n"
     ]
    },
    {
     "data": {
      "application/vnd.jupyter.widget-view+json": {
       "model_id": "58d30071151b411fbec847a976ea2f26",
       "version_major": 2,
       "version_minor": 0
      },
      "text/plain": [
       "  0%|          | 0/1905 [00:00<?, ?it/s]"
      ]
     },
     "metadata": {},
     "output_type": "display_data"
    },
    {
     "name": "stdout",
     "output_type": "stream",
     "text": [
      "Constructing CSR matrix...\n"
     ]
    }
   ],
   "source": [
    "model.construct_kernel_matrix()\n",
    "M = model.kernel_matrix"
   ]
  },
  {
   "cell_type": "code",
   "execution_count": 69,
   "metadata": {},
   "outputs": [
    {
     "name": "stdout",
     "output_type": "stream",
     "text": [
      "Building kernel on X_pca\n",
      "Computing diffusion components from X_pca for waypoint initialization ... \n",
      "Done.\n",
      "Sampling waypoints ...\n",
      "Done.\n",
      "Selecting 9 cells from waypoint initialization.\n",
      "Initializing residual matrix using greedy column selection\n",
      "Initializing f and g...\n"
     ]
    },
    {
     "name": "stderr",
     "output_type": "stream",
     "text": [
      "100%|██████████| 16/16 [00:00<00:00, 462.34it/s]"
     ]
    },
    {
     "name": "stdout",
     "output_type": "stream",
     "text": [
      "Selecting 6 cells from greedy initialization.\n"
     ]
    },
    {
     "name": "stderr",
     "output_type": "stream",
     "text": [
      "\n"
     ]
    }
   ],
   "source": [
    "# Initialize archetypes\n",
    "model.initialize_archetypes()"
   ]
  },
  {
   "cell_type": "code",
   "execution_count": 70,
   "metadata": {},
   "outputs": [
    {
     "data": {
      "image/png": "[encoded data removed]",
      "text/plain": [
       "<Figure size 400x400 with 1 Axes>"
      ]
     },
     "metadata": {},
     "output_type": "display_data"
    }
   ],
   "source": [
    "# Plot the initilization to ensure they are spread across phenotypic space\n",
    "SEACells.plot.plot_initialization(adata_proceesed, model)"
   ]
  },
  {
   "cell_type": "code",
   "execution_count": 71,
   "metadata": {},
   "outputs": [
    {
     "name": "stdout",
     "output_type": "stream",
     "text": [
      "Randomly initialized A matrix.\n",
      "Setting convergence threshold at 0.00078\n",
      "Starting iteration 1.\n",
      "Completed iteration 1.\n",
      "Starting iteration 10.\n",
      "Completed iteration 10.\n",
      "Starting iteration 20.\n",
      "Completed iteration 20.\n",
      "Converged after 23 iterations.\n"
     ]
    }
   ],
   "source": [
    "model.fit(min_iter=10, max_iter=100)"
   ]
  },
  {
   "cell_type": "markdown",
   "metadata": {},
   "source": [
    "### Assessing results"
   ]
  },
  {
   "cell_type": "code",
   "execution_count": 72,
   "metadata": {},
   "outputs": [
    {
     "data": {
      "image/png": "[encoded data removed]",
      "text/plain": [
       "<Figure size 400x400 with 1 Axes>"
      ]
     },
     "metadata": {},
     "output_type": "display_data"
    }
   ],
   "source": [
    "# Check for convergence\n",
    "model.plot_convergence()"
   ]
  },
  {
   "cell_type": "code",
   "execution_count": 73,
   "metadata": {},
   "outputs": [
    {
     "data": {
      "text/html": [
       "<div>\n",
       "<style scoped>\n",
       "    .dataframe tbody tr th:only-of-type {\n",
       "        vertical-align: middle;\n",
       "    }\n",
       "\n",
       "    .dataframe tbody tr th {\n",
       "        vertical-align: top;\n",
       "    }\n",
       "\n",
       "    .dataframe thead th {\n",
       "        text-align: right;\n",
       "    }\n",
       "</style>\n",
       "<table border=\"1\" class=\"dataframe\">\n",
       "  <thead>\n",
       "    <tr style=\"text-align: right;\">\n",
       "      <th></th>\n",
       "      <th>SEACell</th>\n",
       "    </tr>\n",
       "    <tr>\n",
       "      <th>index</th>\n",
       "      <th></th>\n",
       "    </tr>\n",
       "  </thead>\n",
       "  <tbody>\n",
       "    <tr>\n",
       "      <th>AAACCCAAGCAGCACA-1</th>\n",
       "      <td>SEACell-3</td>\n",
       "    </tr>\n",
       "    <tr>\n",
       "      <th>AAACGAAAGACCGTTT-1</th>\n",
       "      <td>SEACell-9</td>\n",
       "    </tr>\n",
       "    <tr>\n",
       "      <th>AAACGAAAGGGCGAAG-1</th>\n",
       "      <td>SEACell-10</td>\n",
       "    </tr>\n",
       "    <tr>\n",
       "      <th>AAACGCTTCCTCGCAT-1</th>\n",
       "      <td>SEACell-1</td>\n",
       "    </tr>\n",
       "    <tr>\n",
       "      <th>AAAGAACAGGGAGGAC-1</th>\n",
       "      <td>SEACell-6</td>\n",
       "    </tr>\n",
       "  </tbody>\n",
       "</table>\n",
       "</div>"
      ],
      "text/plain": [
       "                       SEACell\n",
       "index                         \n",
       "AAACCCAAGCAGCACA-1   SEACell-3\n",
       "AAACGAAAGACCGTTT-1   SEACell-9\n",
       "AAACGAAAGGGCGAAG-1  SEACell-10\n",
       "AAACGCTTCCTCGCAT-1   SEACell-1\n",
       "AAAGAACAGGGAGGAC-1   SEACell-6"
      ]
     },
     "execution_count": 73,
     "metadata": {},
     "output_type": "execute_result"
    }
   ],
   "source": [
    "model.get_hard_assignments().head()"
   ]
  },
  {
   "cell_type": "code",
   "execution_count": 74,
   "metadata": {},
   "outputs": [
    {
     "name": "stdout",
     "output_type": "stream",
     "text": [
      "WARNING: saving figure to file figures/umap_SEACells_switch.png\n"
     ]
    },
    {
     "data": {
      "image/png": "[encoded data removed]",
      "text/plain": [
       "<Figure size 400x400 with 1 Axes>"
      ]
     },
     "metadata": {},
     "output_type": "display_data"
    }
   ],
   "source": [
    "sc.pl.umap(adata_proceesed, color='SEACell', save=f'_SEACells_{REPRESENT}.png')"
   ]
  },
  {
   "cell_type": "code",
   "execution_count": 75,
   "metadata": {},
   "outputs": [
    {
     "name": "stderr",
     "output_type": "stream",
     "text": [
      "/Users/CJChen/Desktop/PeerLab/probablistic-model/venv/lib/python3.11/site-packages/SEACells/plot.py:121: FutureWarning: The default of observed=False is deprecated and will be changed to True in a future version of pandas. Pass observed=False to retain current behavior or observed=True to adopt the future default and silence this warning.\n",
      "  sns.distplot(label_df.groupby('SEACell').count().iloc[:, 0], bins=bins)\n",
      "/Users/CJChen/Desktop/PeerLab/probablistic-model/venv/lib/python3.11/site-packages/SEACells/plot.py:121: UserWarning: \n",
      "\n",
      "`distplot` is a deprecated function and will be removed in seaborn v0.14.0.\n",
      "\n",
      "Please adapt your code to use either `displot` (a figure-level function with\n",
      "similar flexibility) or `histplot` (an axes-level function for histograms).\n",
      "\n",
      "For a guide to updating your code to use the new functions, please see\n",
      "https://gist.github.com/mwaskom/de44147ed2974457ad6372750bbe5751\n",
      "\n",
      "  sns.distplot(label_df.groupby('SEACell').count().iloc[:, 0], bins=bins)\n"
     ]
    },
    {
     "data": {
      "image/png": "[encoded data removed]",
      "text/plain": [
       "<Figure size 500x500 with 1 Axes>"
      ]
     },
     "metadata": {},
     "output_type": "display_data"
    },
    {
     "name": "stderr",
     "output_type": "stream",
     "text": [
      "/Users/CJChen/Desktop/PeerLab/probablistic-model/venv/lib/python3.11/site-packages/SEACells/plot.py:131: FutureWarning: The default of observed=False is deprecated and will be changed to True in a future version of pandas. Pass observed=False to retain current behavior or observed=True to adopt the future default and silence this warning.\n",
      "  return pd.DataFrame(label_df.groupby('SEACell').count().iloc[:, 0]).rename(columns={'index':'size'})\n"
     ]
    },
    {
     "data": {
      "text/html": [
       "<div>\n",
       "<style scoped>\n",
       "    .dataframe tbody tr th:only-of-type {\n",
       "        vertical-align: middle;\n",
       "    }\n",
       "\n",
       "    .dataframe tbody tr th {\n",
       "        vertical-align: top;\n",
       "    }\n",
       "\n",
       "    .dataframe thead th {\n",
       "        text-align: right;\n",
       "    }\n",
       "</style>\n",
       "<table border=\"1\" class=\"dataframe\">\n",
       "  <thead>\n",
       "    <tr style=\"text-align: right;\">\n",
       "      <th></th>\n",
       "      <th>size</th>\n",
       "    </tr>\n",
       "    <tr>\n",
       "      <th>SEACell</th>\n",
       "      <th></th>\n",
       "    </tr>\n",
       "  </thead>\n",
       "  <tbody>\n",
       "    <tr>\n",
       "      <th>SEACell-0</th>\n",
       "      <td>181</td>\n",
       "    </tr>\n",
       "    <tr>\n",
       "      <th>SEACell-1</th>\n",
       "      <td>126</td>\n",
       "    </tr>\n",
       "    <tr>\n",
       "      <th>SEACell-2</th>\n",
       "      <td>423</td>\n",
       "    </tr>\n",
       "    <tr>\n",
       "      <th>SEACell-3</th>\n",
       "      <td>136</td>\n",
       "    </tr>\n",
       "    <tr>\n",
       "      <th>SEACell-4</th>\n",
       "      <td>56</td>\n",
       "    </tr>\n",
       "    <tr>\n",
       "      <th>SEACell-5</th>\n",
       "      <td>85</td>\n",
       "    </tr>\n",
       "    <tr>\n",
       "      <th>SEACell-6</th>\n",
       "      <td>211</td>\n",
       "    </tr>\n",
       "    <tr>\n",
       "      <th>SEACell-7</th>\n",
       "      <td>81</td>\n",
       "    </tr>\n",
       "    <tr>\n",
       "      <th>SEACell-8</th>\n",
       "      <td>68</td>\n",
       "    </tr>\n",
       "    <tr>\n",
       "      <th>SEACell-9</th>\n",
       "      <td>101</td>\n",
       "    </tr>\n",
       "    <tr>\n",
       "      <th>SEACell-10</th>\n",
       "      <td>52</td>\n",
       "    </tr>\n",
       "    <tr>\n",
       "      <th>SEACell-11</th>\n",
       "      <td>70</td>\n",
       "    </tr>\n",
       "    <tr>\n",
       "      <th>SEACell-12</th>\n",
       "      <td>125</td>\n",
       "    </tr>\n",
       "    <tr>\n",
       "      <th>SEACell-13</th>\n",
       "      <td>92</td>\n",
       "    </tr>\n",
       "    <tr>\n",
       "      <th>SEACell-14</th>\n",
       "      <td>98</td>\n",
       "    </tr>\n",
       "  </tbody>\n",
       "</table>\n",
       "</div>"
      ],
      "text/plain": [
       "            size\n",
       "SEACell         \n",
       "SEACell-0    181\n",
       "SEACell-1    126\n",
       "SEACell-2    423\n",
       "SEACell-3    136\n",
       "SEACell-4     56\n",
       "SEACell-5     85\n",
       "SEACell-6    211\n",
       "SEACell-7     81\n",
       "SEACell-8     68\n",
       "SEACell-9    101\n",
       "SEACell-10    52\n",
       "SEACell-11    70\n",
       "SEACell-12   125\n",
       "SEACell-13    92\n",
       "SEACell-14    98"
      ]
     },
     "execution_count": 75,
     "metadata": {},
     "output_type": "execute_result"
    }
   ],
   "source": [
    "SEACells.plot.plot_SEACell_sizes(adata_proceesed, bins=10)"
   ]
  },
  {
   "cell_type": "markdown",
   "metadata": {},
   "source": [
    "# Saving Results"
   ]
  },
  {
   "cell_type": "code",
   "execution_count": 76,
   "metadata": {},
   "outputs": [],
   "source": [
    "model.get_hard_assignments().to_csv(save_dir + f'SEACell_assignments_{REPRESENT}.csv', sep='\\t')"
   ]
  },
  {
   "cell_type": "code",
   "execution_count": null,
   "metadata": {},
   "outputs": [],
   "source": []
  }
 ],
 "metadata": {
  "kernelspec": {
   "display_name": "Python 3 (ipykernel)",
   "language": "python",
   "name": "python3"
  },
  "language_info": {
   "codemirror_mode": {
    "name": "ipython",
    "version": 3
   },
   "file_extension": ".py",
   "mimetype": "text/x-python",
   "name": "python",
   "nbconvert_exporter": "python",
   "pygments_lexer": "ipython3",
   "version": "3.11.7"
  }
 },
 "nbformat": 4,
 "nbformat_minor": 2
}
