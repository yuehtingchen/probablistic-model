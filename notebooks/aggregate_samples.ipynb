{
 "cells": [
  {
   "cell_type": "markdown",
   "metadata": {},
   "source": [
    "# Aggregate Samples\n",
    "This python notebook creates a .h5 file by concatenating multiple single cell sequencing data"
   ]
  },
  {
   "cell_type": "code",
   "execution_count": 2,
   "metadata": {},
   "outputs": [],
   "source": [
    "import pandas as pd\n",
    "import umap\n",
    "import numpy as np\n",
    "import matplotlib.pyplot as plt\n",
    "import scipy as sc\n",
    "import anndata"
   ]
  },
  {
   "cell_type": "code",
   "execution_count": 3,
   "metadata": {},
   "outputs": [],
   "source": [
    "dataset_dir = \"../../data/Huang/GSE214411_RAW/\"\n",
    "save_dir = \"../../data/Huang/\"\n",
    "\n",
    "barcode_filename = \"barcodes\"\n",
    "features_filename = \"features\"\n",
    "matrix_filename = \"matrix\"\n",
    "\n",
    "NUM_FILES = 1"
   ]
  },
  {
   "cell_type": "code",
   "execution_count": 4,
   "metadata": {},
   "outputs": [],
   "source": [
    "# Load the barcode file\n",
    "barcodes = {}\n",
    "features = {}\n",
    "matrixes = {}\n",
    "\n",
    "for i in range(1, NUM_FILES + 1):\n",
    "\tbarcode_file = dataset_dir + barcode_filename + \" \" + str(i) + \".tsv\"\n",
    "\tfeatures_file = dataset_dir + features_filename + \" \" + str(i) + \".tsv\"\n",
    "\tmatrix_file = dataset_dir + matrix_filename + \" \" + str(i) + \".mtx\"\n",
    "\n",
    "\tbarcodes[i] = pd.read_csv(barcode_file, sep=\"\\t\", header=None)\n",
    "\tfeatures[i] = pd.read_csv(features_file, sep=\"\\t\", header=None)\n",
    "\tmatrixes[i] = sc.io.mmread(matrix_file)"
   ]
  },
  {
   "cell_type": "code",
   "execution_count": 5,
   "metadata": {},
   "outputs": [],
   "source": [
    "# check if all features are the same\n",
    "for i in range(2, NUM_FILES + 1):\n",
    "\tassert features[i].equals(features[1])\n",
    "\n",
    "features = features[1]"
   ]
  },
  {
   "cell_type": "code",
   "execution_count": 16,
   "metadata": {},
   "outputs": [],
   "source": [
    "# create a single matrix\n",
    "matrix = sc.sparse.hstack([matrixes[i].T for i in range(1, NUM_FILES + 1)])\n",
    "matrix = matrix.tocsr().astype(np.float32)"
   ]
  },
  {
   "cell_type": "code",
   "execution_count": 8,
   "metadata": {},
   "outputs": [],
   "source": [
    "# create list of barcodes\n",
    "barcodes = pd.concat([barcodes[i] for i in range(1, NUM_FILES + 1)], ignore_index=True)"
   ]
  },
  {
   "cell_type": "code",
   "execution_count": 17,
   "metadata": {},
   "outputs": [],
   "source": [
    "# create anndata object\n",
    "adata = anndata.AnnData(X=matrix)"
   ]
  },
  {
   "cell_type": "code",
   "execution_count": 20,
   "metadata": {},
   "outputs": [],
   "source": [
    "adata.obs_names = barcodes[0].values\n",
    "adata.var_names = features[1].values\n",
    "adata.var[\"gene_id\"] = features[0].values"
   ]
  },
  {
   "cell_type": "code",
   "execution_count": 22,
   "metadata": {},
   "outputs": [],
   "source": [
    "# save the anndata object\n",
    "adata.write(save_dir + \"GSE214411_All.h5ad\")"
   ]
  },
  {
   "cell_type": "code",
   "execution_count": null,
   "metadata": {},
   "outputs": [],
   "source": []
  }
 ],
 "metadata": {
  "kernelspec": {
   "display_name": "venv",
   "language": "python",
   "name": "python3"
  },
  "language_info": {
   "codemirror_mode": {
    "name": "ipython",
    "version": 3
   },
   "file_extension": ".py",
   "mimetype": "text/x-python",
   "name": "python",
   "nbconvert_exporter": "python",
   "pygments_lexer": "ipython3",
   "version": "3.11.7"
  }
 },
 "nbformat": 4,
 "nbformat_minor": 2
}
