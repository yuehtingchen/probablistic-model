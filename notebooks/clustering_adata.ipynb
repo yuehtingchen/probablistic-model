{
 "cells": [
  {
   "cell_type": "code",
   "execution_count": 40,
   "metadata": {},
   "outputs": [],
   "source": [
    "import pandas as pd\n",
    "import umap\n",
    "import numpy as np\n",
    "import matplotlib.pyplot as plt\n",
    "import seaborn as sns\n",
    "# import umap.plot\n",
    "\n",
    "import SEACells\n",
    "import h5py\n",
    "import collections\n",
    "import scipy.sparse as sp_sparse\n",
    "from scipy.sparse import csr_matrix, hstack, vstack\n",
    "import scanpy as sc\n",
    "import anndata"
   ]
  },
  {
   "cell_type": "code",
   "execution_count": 81,
   "metadata": {},
   "outputs": [],
   "source": [
    "dataset_dir = '../../data/'\n",
    "save_dir = '../../data/HECA/'\n",
    "dataset = \"HECA/endometriumAtlasV2_cells_with_counts.h5ad\"\n",
    "dataset_name = \"HECA\"\n",
    "switch_dataset = \"switch_genelist.csv\"\n",
    "gene_length_dataset = \"gene_name_length_EnsemblID.csv\""
   ]
  },
  {
   "cell_type": "markdown",
   "metadata": {},
   "source": [
    "# Read switches"
   ]
  },
  {
   "cell_type": "code",
   "execution_count": 82,
   "metadata": {},
   "outputs": [],
   "source": [
    "switch_df = pd.read_csv(dataset_dir + switch_dataset, index_col=0)\n",
    "# drop first column\n",
    "switch_df = switch_df.drop(switch_df.columns[0], axis=1)\n",
    "\n",
    "# switch df to dict\n",
    "switch_dict = {}\n",
    "for row in switch_df.index:\n",
    "\tswitch_dict[row] = switch_df.loc[row].dropna().tolist()"
   ]
  },
  {
   "cell_type": "markdown",
   "metadata": {},
   "source": [
    "# Read Reference Matrix"
   ]
  },
  {
   "cell_type": "code",
   "execution_count": 84,
   "metadata": {},
   "outputs": [
    {
     "data": {
      "text/plain": [
       "AnnData object with n_obs × n_vars = 313527 × 17736\n",
       "    obs: 'n_genes', 'sample', 'library', 'Processing', 'Treatment', '10x kit', 'percent_mito', 'n_counts', 'scrublet_score', 'genotype', 'Library_genotype', 'Group', 'Endometriosis_stage', 'Hormonal treatment', 'Binary Stage', 'Stage', 'phase', 'dataset', 'Biopsy_type', 'Tissue_sampled', 'Age', 'Endometrial_pathology', 'celltype', 'lineage', 'label_long'\n",
       "    var: 'gene_ids-0-Fonseca', 'feature_types-0-Fonseca', 'n_cells-0-Fonseca', 'gene_ids-1-Fonseca', 'feature_types-1-Fonseca', 'n_cells-1-Fonseca', 'gene_ids-2-Fonseca', 'feature_types-2-Fonseca', 'n_cells-2-Fonseca', 'gene_ids-3-Fonseca', 'feature_types-3-Fonseca', 'n_cells-3-Fonseca', 'gene_ids-4-Fonseca', 'feature_types-4-Fonseca', 'n_cells-4-Fonseca', 'gene_ids-5-Fonseca', 'feature_types-5-Fonseca', 'n_cells-5-Fonseca', 'gene_ids-6-Fonseca', 'feature_types-6-Fonseca', 'n_cells-6-Fonseca', 'MT-Fonseca', 'n_cells_by_counts-Fonseca', 'mean_counts-Fonseca', 'pct_dropout_by_counts-Fonseca', 'total_counts-Fonseca', 'n_cells-Fonseca', 'gene_ids-0-GarciaAlonso', 'feature_types-0-GarciaAlonso', 'n_cells-0-GarciaAlonso', 'gene_ids-1-GarciaAlonso', 'feature_types-1-GarciaAlonso', 'n_cells-1-GarciaAlonso', 'gene_ids-10-GarciaAlonso', 'feature_types-10-GarciaAlonso', 'n_cells-10-GarciaAlonso', 'gene_ids-2-GarciaAlonso', 'feature_types-2-GarciaAlonso', 'n_cells-2-GarciaAlonso', 'gene_ids-3-GarciaAlonso', 'feature_types-3-GarciaAlonso', 'n_cells-3-GarciaAlonso', 'gene_ids-4-GarciaAlonso', 'feature_types-4-GarciaAlonso', 'n_cells-4-GarciaAlonso', 'gene_ids-5-GarciaAlonso', 'feature_types-5-GarciaAlonso', 'n_cells-5-GarciaAlonso', 'gene_ids-6-GarciaAlonso', 'feature_types-6-GarciaAlonso', 'n_cells-6-GarciaAlonso', 'gene_ids-7-GarciaAlonso', 'feature_types-7-GarciaAlonso', 'n_cells-7-GarciaAlonso', 'gene_ids-8-GarciaAlonso', 'feature_types-8-GarciaAlonso', 'n_cells-8-GarciaAlonso', 'gene_ids-9-GarciaAlonso', 'feature_types-9-GarciaAlonso', 'n_cells-9-GarciaAlonso', 'MT-GarciaAlonso', 'n_cells_by_counts-GarciaAlonso', 'mean_counts-GarciaAlonso', 'pct_dropout_by_counts-GarciaAlonso', 'total_counts-GarciaAlonso', 'n_cells-GarciaAlonso', 'gene_ids-0-Huang', 'feature_types-0-Huang', 'n_cells-0-Huang', 'gene_ids-1-Huang', 'feature_types-1-Huang', 'n_cells-1-Huang', 'gene_ids-2-Huang', 'feature_types-2-Huang', 'n_cells-2-Huang', 'gene_ids-3-Huang', 'feature_types-3-Huang', 'n_cells-3-Huang', 'gene_ids-4-Huang', 'feature_types-4-Huang', 'n_cells-4-Huang', 'gene_ids-5-Huang', 'feature_types-5-Huang', 'n_cells-5-Huang', 'gene_ids-6-Huang', 'feature_types-6-Huang', 'n_cells-6-Huang', 'gene_ids-7-Huang', 'feature_types-7-Huang', 'n_cells-7-Huang', 'gene_ids-8-Huang', 'feature_types-8-Huang', 'n_cells-8-Huang', 'gene_ids-9-Huang', 'feature_types-9-Huang', 'n_cells-9-Huang', 'MT-Huang', 'n_cells_by_counts-Huang', 'mean_counts-Huang', 'pct_dropout_by_counts-Huang', 'total_counts-Huang', 'n_cells-Huang', 'gene_ids-0-Lai', 'feature_types-0-Lai', 'n_cells-0-Lai', 'gene_ids-1-Lai', 'feature_types-1-Lai', 'n_cells-1-Lai', 'gene_ids-2-Lai', 'feature_types-2-Lai', 'n_cells-2-Lai', 'gene_ids-3-Lai', 'feature_types-3-Lai', 'n_cells-3-Lai', 'gene_ids-4-Lai', 'feature_types-4-Lai', 'n_cells-4-Lai', 'gene_ids-5-Lai', 'feature_types-5-Lai', 'n_cells-5-Lai', 'gene_ids-6-Lai', 'feature_types-6-Lai', 'n_cells-6-Lai', 'gene_ids-7-Lai', 'feature_types-7-Lai', 'n_cells-7-Lai', 'gene_ids-8-Lai', 'feature_types-8-Lai', 'n_cells-8-Lai', 'MT-Lai', 'n_cells_by_counts-Lai', 'mean_counts-Lai', 'pct_dropout_by_counts-Lai', 'total_counts-Lai', 'n_cells-Lai', 'gene_ids-0-Tan', 'feature_types-0-Tan', 'n_cells-0-Tan', 'gene_ids-1-Tan', 'feature_types-1-Tan', 'n_cells-1-Tan', 'gene_ids-10-Tan', 'feature_types-10-Tan', 'n_cells-10-Tan', 'gene_ids-2-Tan', 'feature_types-2-Tan', 'n_cells-2-Tan', 'gene_ids-3-Tan', 'feature_types-3-Tan', 'n_cells-3-Tan', 'gene_ids-4-Tan', 'feature_types-4-Tan', 'n_cells-4-Tan', 'gene_ids-5-Tan', 'feature_types-5-Tan', 'n_cells-5-Tan', 'gene_ids-6-Tan', 'feature_types-6-Tan', 'n_cells-6-Tan', 'gene_ids-7-Tan', 'feature_types-7-Tan', 'n_cells-7-Tan', 'gene_ids-8-Tan', 'feature_types-8-Tan', 'n_cells-8-Tan', 'gene_ids-9-Tan', 'feature_types-9-Tan', 'n_cells-9-Tan', 'MT-Tan', 'n_cells_by_counts-Tan', 'mean_counts-Tan', 'pct_dropout_by_counts-Tan', 'total_counts-Tan', 'n_cells-Tan', 'gene_ids-11-Tan', 'feature_types-11-Tan', 'n_cells-11-Tan', 'gene_ids-0-Wang', 'feature_types-0-Wang', 'n_cells-0-Wang', 'gene_ids-1-Wang', 'feature_types-1-Wang', 'n_cells-1-Wang', 'gene_ids-2-Wang', 'feature_types-2-Wang', 'n_cells-2-Wang', 'gene_ids-3-Wang', 'feature_types-3-Wang', 'n_cells-3-Wang', 'gene_ids-4-Wang', 'feature_types-4-Wang', 'n_cells-4-Wang', 'gene_ids-5-Wang', 'feature_types-5-Wang', 'n_cells-5-Wang', 'gene_ids-6-Wang', 'feature_types-6-Wang', 'n_cells-6-Wang', 'gene_ids-7-Wang', 'feature_types-7-Wang', 'n_cells-7-Wang', 'gene_ids-8-Wang', 'feature_types-8-Wang', 'n_cells-8-Wang', 'gene_ids-9-Wang', 'feature_types-9-Wang', 'n_cells-9-Wang', 'MT-Wang', 'n_cells_by_counts-Wang', 'mean_counts-Wang', 'pct_dropout_by_counts-Wang', 'total_counts-Wang', 'n_cells-Wang', 'highly_variable', 'highly_variable_rank', 'means', 'variances', 'variances_norm', 'highly_variable_nbatches'\n",
       "    uns: 'Binary Stage_colors', 'Biopsy_type_colors', 'Endometrial_pathology_colors', 'Endometriosis_stage_colors', 'GarciaAlonso_celltype_colors', 'Group_colors', 'Hormonal treatment_colors', 'Library_genotype_colors', 'Mareckova_celltype_colors', 'Mareckova_epi_celltype_colors', 'Mareckova_lineage_colors', 'Processing_colors', 'Symbol_colors', 'Tan_cellsubtypes_colors', 'Tan_celltype_colors', 'Treatment_colors', 'celltype_colors', 'dataset_colors', 'genotype_colors', 'hvg', 'label_long_colors', 'leiden', 'leiden_R_colors', 'leiden_colors', 'lineage_colors', 'neighbors', 'phase_colors', 'umap'\n",
       "    obsm: 'X_scVI', 'X_umap'\n",
       "    layers: 'counts'\n",
       "    obsp: 'connectivities', 'distances'"
      ]
     },
     "execution_count": 84,
     "metadata": {},
     "output_type": "execute_result"
    }
   ],
   "source": [
    "adata = sc.read_h5ad(dataset_dir + dataset)\n",
    "adata"
   ]
  },
  {
   "cell_type": "code",
   "execution_count": 85,
   "metadata": {},
   "outputs": [],
   "source": [
    "# make var names unique\n",
    "adata.var_names_make_unique()"
   ]
  },
  {
   "cell_type": "code",
   "execution_count": 86,
   "metadata": {},
   "outputs": [],
   "source": [
    "adata.X = csr_matrix(adata.X)"
   ]
  },
  {
   "cell_type": "code",
   "execution_count": 87,
   "metadata": {},
   "outputs": [],
   "source": [
    "raw_ad = sc.AnnData(adata.X)\n",
    "raw_ad.obs_names, raw_ad.var_names = adata.obs_names, adata.var_names\n",
    "adata.raw = raw_ad"
   ]
  },
  {
   "cell_type": "code",
   "execution_count": 88,
   "metadata": {},
   "outputs": [],
   "source": [
    "# calculate total counts per sample\n",
    "adata.obs['total_counts'] = adata.X.sum(axis=1)"
   ]
  },
  {
   "cell_type": "code",
   "execution_count": 110,
   "metadata": {},
   "outputs": [
    {
     "data": {
      "text/plain": [
       "(19593, 2)"
      ]
     },
     "execution_count": 110,
     "metadata": {},
     "output_type": "execute_result"
    }
   ],
   "source": [
    "# load gene length data\n",
    "gene_length = pd.read_csv(dataset_dir + gene_length_dataset, index_col=0)\n",
    "gene_length.columns = ['gene_length', 'gene_name']\n",
    "gene_length.index = gene_length['gene_name']\n",
    "gene_length.shape"
   ]
  },
  {
   "cell_type": "code",
   "execution_count": 112,
   "metadata": {},
   "outputs": [],
   "source": [
    "# drop genes in adata that are not in gene_length\n",
    "gene_length = gene_length[gene_length.index.isin(adata.var_names)]\n",
    "adata = adata[:, adata.var_names.isin(gene_length.index)]"
   ]
  },
  {
   "cell_type": "code",
   "execution_count": 113,
   "metadata": {},
   "outputs": [
    {
     "data": {
      "text/plain": [
       "View of AnnData object with n_obs × n_vars = 313527 × 15684\n",
       "    obs: 'n_genes', 'sample', 'library', 'Processing', 'Treatment', '10x kit', 'percent_mito', 'n_counts', 'scrublet_score', 'genotype', 'Library_genotype', 'Group', 'Endometriosis_stage', 'Hormonal treatment', 'Binary Stage', 'Stage', 'phase', 'dataset', 'Biopsy_type', 'Tissue_sampled', 'Age', 'Endometrial_pathology', 'celltype', 'lineage', 'label_long', 'total_counts'\n",
       "    var: 'gene_ids-0-Fonseca', 'feature_types-0-Fonseca', 'n_cells-0-Fonseca', 'gene_ids-1-Fonseca', 'feature_types-1-Fonseca', 'n_cells-1-Fonseca', 'gene_ids-2-Fonseca', 'feature_types-2-Fonseca', 'n_cells-2-Fonseca', 'gene_ids-3-Fonseca', 'feature_types-3-Fonseca', 'n_cells-3-Fonseca', 'gene_ids-4-Fonseca', 'feature_types-4-Fonseca', 'n_cells-4-Fonseca', 'gene_ids-5-Fonseca', 'feature_types-5-Fonseca', 'n_cells-5-Fonseca', 'gene_ids-6-Fonseca', 'feature_types-6-Fonseca', 'n_cells-6-Fonseca', 'MT-Fonseca', 'n_cells_by_counts-Fonseca', 'mean_counts-Fonseca', 'pct_dropout_by_counts-Fonseca', 'total_counts-Fonseca', 'n_cells-Fonseca', 'gene_ids-0-GarciaAlonso', 'feature_types-0-GarciaAlonso', 'n_cells-0-GarciaAlonso', 'gene_ids-1-GarciaAlonso', 'feature_types-1-GarciaAlonso', 'n_cells-1-GarciaAlonso', 'gene_ids-10-GarciaAlonso', 'feature_types-10-GarciaAlonso', 'n_cells-10-GarciaAlonso', 'gene_ids-2-GarciaAlonso', 'feature_types-2-GarciaAlonso', 'n_cells-2-GarciaAlonso', 'gene_ids-3-GarciaAlonso', 'feature_types-3-GarciaAlonso', 'n_cells-3-GarciaAlonso', 'gene_ids-4-GarciaAlonso', 'feature_types-4-GarciaAlonso', 'n_cells-4-GarciaAlonso', 'gene_ids-5-GarciaAlonso', 'feature_types-5-GarciaAlonso', 'n_cells-5-GarciaAlonso', 'gene_ids-6-GarciaAlonso', 'feature_types-6-GarciaAlonso', 'n_cells-6-GarciaAlonso', 'gene_ids-7-GarciaAlonso', 'feature_types-7-GarciaAlonso', 'n_cells-7-GarciaAlonso', 'gene_ids-8-GarciaAlonso', 'feature_types-8-GarciaAlonso', 'n_cells-8-GarciaAlonso', 'gene_ids-9-GarciaAlonso', 'feature_types-9-GarciaAlonso', 'n_cells-9-GarciaAlonso', 'MT-GarciaAlonso', 'n_cells_by_counts-GarciaAlonso', 'mean_counts-GarciaAlonso', 'pct_dropout_by_counts-GarciaAlonso', 'total_counts-GarciaAlonso', 'n_cells-GarciaAlonso', 'gene_ids-0-Huang', 'feature_types-0-Huang', 'n_cells-0-Huang', 'gene_ids-1-Huang', 'feature_types-1-Huang', 'n_cells-1-Huang', 'gene_ids-2-Huang', 'feature_types-2-Huang', 'n_cells-2-Huang', 'gene_ids-3-Huang', 'feature_types-3-Huang', 'n_cells-3-Huang', 'gene_ids-4-Huang', 'feature_types-4-Huang', 'n_cells-4-Huang', 'gene_ids-5-Huang', 'feature_types-5-Huang', 'n_cells-5-Huang', 'gene_ids-6-Huang', 'feature_types-6-Huang', 'n_cells-6-Huang', 'gene_ids-7-Huang', 'feature_types-7-Huang', 'n_cells-7-Huang', 'gene_ids-8-Huang', 'feature_types-8-Huang', 'n_cells-8-Huang', 'gene_ids-9-Huang', 'feature_types-9-Huang', 'n_cells-9-Huang', 'MT-Huang', 'n_cells_by_counts-Huang', 'mean_counts-Huang', 'pct_dropout_by_counts-Huang', 'total_counts-Huang', 'n_cells-Huang', 'gene_ids-0-Lai', 'feature_types-0-Lai', 'n_cells-0-Lai', 'gene_ids-1-Lai', 'feature_types-1-Lai', 'n_cells-1-Lai', 'gene_ids-2-Lai', 'feature_types-2-Lai', 'n_cells-2-Lai', 'gene_ids-3-Lai', 'feature_types-3-Lai', 'n_cells-3-Lai', 'gene_ids-4-Lai', 'feature_types-4-Lai', 'n_cells-4-Lai', 'gene_ids-5-Lai', 'feature_types-5-Lai', 'n_cells-5-Lai', 'gene_ids-6-Lai', 'feature_types-6-Lai', 'n_cells-6-Lai', 'gene_ids-7-Lai', 'feature_types-7-Lai', 'n_cells-7-Lai', 'gene_ids-8-Lai', 'feature_types-8-Lai', 'n_cells-8-Lai', 'MT-Lai', 'n_cells_by_counts-Lai', 'mean_counts-Lai', 'pct_dropout_by_counts-Lai', 'total_counts-Lai', 'n_cells-Lai', 'gene_ids-0-Tan', 'feature_types-0-Tan', 'n_cells-0-Tan', 'gene_ids-1-Tan', 'feature_types-1-Tan', 'n_cells-1-Tan', 'gene_ids-10-Tan', 'feature_types-10-Tan', 'n_cells-10-Tan', 'gene_ids-2-Tan', 'feature_types-2-Tan', 'n_cells-2-Tan', 'gene_ids-3-Tan', 'feature_types-3-Tan', 'n_cells-3-Tan', 'gene_ids-4-Tan', 'feature_types-4-Tan', 'n_cells-4-Tan', 'gene_ids-5-Tan', 'feature_types-5-Tan', 'n_cells-5-Tan', 'gene_ids-6-Tan', 'feature_types-6-Tan', 'n_cells-6-Tan', 'gene_ids-7-Tan', 'feature_types-7-Tan', 'n_cells-7-Tan', 'gene_ids-8-Tan', 'feature_types-8-Tan', 'n_cells-8-Tan', 'gene_ids-9-Tan', 'feature_types-9-Tan', 'n_cells-9-Tan', 'MT-Tan', 'n_cells_by_counts-Tan', 'mean_counts-Tan', 'pct_dropout_by_counts-Tan', 'total_counts-Tan', 'n_cells-Tan', 'gene_ids-11-Tan', 'feature_types-11-Tan', 'n_cells-11-Tan', 'gene_ids-0-Wang', 'feature_types-0-Wang', 'n_cells-0-Wang', 'gene_ids-1-Wang', 'feature_types-1-Wang', 'n_cells-1-Wang', 'gene_ids-2-Wang', 'feature_types-2-Wang', 'n_cells-2-Wang', 'gene_ids-3-Wang', 'feature_types-3-Wang', 'n_cells-3-Wang', 'gene_ids-4-Wang', 'feature_types-4-Wang', 'n_cells-4-Wang', 'gene_ids-5-Wang', 'feature_types-5-Wang', 'n_cells-5-Wang', 'gene_ids-6-Wang', 'feature_types-6-Wang', 'n_cells-6-Wang', 'gene_ids-7-Wang', 'feature_types-7-Wang', 'n_cells-7-Wang', 'gene_ids-8-Wang', 'feature_types-8-Wang', 'n_cells-8-Wang', 'gene_ids-9-Wang', 'feature_types-9-Wang', 'n_cells-9-Wang', 'MT-Wang', 'n_cells_by_counts-Wang', 'mean_counts-Wang', 'pct_dropout_by_counts-Wang', 'total_counts-Wang', 'n_cells-Wang', 'highly_variable', 'highly_variable_rank', 'means', 'variances', 'variances_norm', 'highly_variable_nbatches'\n",
       "    uns: 'Binary Stage_colors', 'Biopsy_type_colors', 'Endometrial_pathology_colors', 'Endometriosis_stage_colors', 'GarciaAlonso_celltype_colors', 'Group_colors', 'Hormonal treatment_colors', 'Library_genotype_colors', 'Mareckova_celltype_colors', 'Mareckova_epi_celltype_colors', 'Mareckova_lineage_colors', 'Processing_colors', 'Symbol_colors', 'Tan_cellsubtypes_colors', 'Tan_celltype_colors', 'Treatment_colors', 'celltype_colors', 'dataset_colors', 'genotype_colors', 'hvg', 'label_long_colors', 'leiden', 'leiden_R_colors', 'leiden_colors', 'lineage_colors', 'neighbors', 'phase_colors', 'umap'\n",
       "    obsm: 'X_scVI', 'X_umap'\n",
       "    layers: 'counts'\n",
       "    obsp: 'connectivities', 'distances'"
      ]
     },
     "execution_count": 113,
     "metadata": {},
     "output_type": "execute_result"
    }
   ],
   "source": [
    "adata"
   ]
  },
  {
   "cell_type": "code",
   "execution_count": 115,
   "metadata": {},
   "outputs": [
    {
     "name": "stderr",
     "output_type": "stream",
     "text": [
      "/var/folders/mp/0ylvhbys7zl0gsbx35x33lfw0000gp/T/ipykernel_44739/1063740930.py:2: ImplicitModificationWarning: Trying to modify attribute `.var` of view, initializing view as actual.\n",
      "  adata.var['gene_length'] = gene_length.loc[adata.var_names, \"gene_length\"].values\n"
     ]
    }
   ],
   "source": [
    "# add gene length to adata\n",
    "adata.var['gene_length'] = gene_length.loc[adata.var_names, \"gene_length\"].values"
   ]
  },
  {
   "cell_type": "code",
   "execution_count": 116,
   "metadata": {},
   "outputs": [
    {
     "ename": "",
     "evalue": "",
     "output_type": "error",
     "traceback": [
      "\u001b[1;31mThe Kernel crashed while executing code in the current cell or a previous cell. \n",
      "\u001b[1;31mPlease review the code in the cell(s) to identify a possible cause of the failure. \n",
      "\u001b[1;31mClick <a href='https://aka.ms/vscodeJupyterKernelCrash'>here</a> for more info. \n",
      "\u001b[1;31mView Jupyter <a href='command:jupyter.viewOutput'>log</a> for further details."
     ]
    }
   ],
   "source": [
    "# Calculate RPKM\n",
    "adata.X = adata.X / (adata.obs['total_counts'].values[:, None] / 1e6) / (adata.var['gene_length'].values / 1e3)"
   ]
  },
  {
   "cell_type": "code",
   "execution_count": 15,
   "metadata": {},
   "outputs": [],
   "source": [
    "# # save rpkm as csv\n",
    "# rpkm = pd.DataFrame(adata.X.toarray().T, index=adata.var_names, columns=adata.obs_names)\n",
    "# rpkm.to_csv(save_dir + 'rpkm.csv')"
   ]
  },
  {
   "cell_type": "markdown",
   "metadata": {},
   "source": [
    "# Clustering pipeline"
   ]
  },
  {
   "cell_type": "markdown",
   "metadata": {},
   "source": [
    "## Create anndata for genes in JS"
   ]
  },
  {
   "cell_type": "code",
   "execution_count": 16,
   "metadata": {},
   "outputs": [],
   "source": [
    "REPRESENT = \"gene\""
   ]
  },
  {
   "cell_type": "code",
   "execution_count": 17,
   "metadata": {},
   "outputs": [],
   "source": [
    "adata.X = csr_matrix(adata.X)"
   ]
  },
  {
   "cell_type": "code",
   "execution_count": 18,
   "metadata": {},
   "outputs": [],
   "source": [
    "# take log2 of RPKM+1\n",
    "sc.pp.log1p(adata, base=2)\n",
    "\n",
    "# compute highly variable genes\n",
    "sc.pp.highly_variable_genes(adata, n_top_genes=3660, subset=False) # n_top_genes = 36601 * 0.1"
   ]
  },
  {
   "cell_type": "code",
   "execution_count": 19,
   "metadata": {},
   "outputs": [
    {
     "data": {
      "text/plain": [
       "(0.0, 10.249852655557493)"
      ]
     },
     "execution_count": 19,
     "metadata": {},
     "output_type": "execute_result"
    }
   ],
   "source": [
    "# calculate reference genes\n",
    "\n",
    "rab7a = adata[:, adata.var_names.isin(['RAB7A'])].X.toarray()\n",
    "gapdh = adata[:, adata.var_names.isin(['GAPDH'])].X.toarray()\n",
    "actp = adata[:, adata.var_names.isin(['ACTB'])].X.toarray()\n",
    "\n",
    "ref_norm = (rab7a + gapdh + actp) * (1/3)\n",
    "ref_norm.min(), ref_norm.max()"
   ]
  },
  {
   "cell_type": "code",
   "execution_count": 20,
   "metadata": {},
   "outputs": [],
   "source": [
    "# calculate jane score:\n",
    "# 10 + log2(RPKM) - log2(geomean(RAB7A+1, GAPDH+1, ACTB+1)) if RPKM > 0\n",
    "# 0 if RPKM == 0\n",
    "\n",
    "for obs in range(adata.X.shape[0]):\n",
    "\tnonzeros = adata.X[obs].nonzero()\n",
    "\tadata.X[obs][nonzeros] = adata.X[obs][nonzeros] - ref_norm[obs] + 10"
   ]
  },
  {
   "cell_type": "code",
   "execution_count": 21,
   "metadata": {},
   "outputs": [],
   "source": [
    "adata = adata[:, adata.var['highly_variable']]"
   ]
  },
  {
   "cell_type": "code",
   "execution_count": 22,
   "metadata": {},
   "outputs": [],
   "source": [
    "# save adata as tsv\n",
    "pd.DataFrame(adata.X.toarray().T, columns=adata.obs_names, index=adata.var_names).to_csv(save_dir + \"js_gene.csv\", sep='\\t')"
   ]
  },
  {
   "cell_type": "code",
   "execution_count": 23,
   "metadata": {},
   "outputs": [
    {
     "data": {
      "text/plain": [
       "View of AnnData object with n_obs × n_vars = 1905 × 3660\n",
       "    obs: 'total_counts'\n",
       "    var: 'gene_ids', 'feature_types', 'genome', 'gene_length', 'highly_variable', 'means', 'dispersions', 'dispersions_norm'\n",
       "    uns: 'log1p', 'hvg'"
      ]
     },
     "execution_count": 23,
     "metadata": {},
     "output_type": "execute_result"
    }
   ],
   "source": [
    "adata_processed = adata\n",
    "adata_processed"
   ]
  },
  {
   "cell_type": "code",
   "execution_count": 24,
   "metadata": {},
   "outputs": [],
   "source": [
    "PCA_ncomps = 1000"
   ]
  },
  {
   "cell_type": "markdown",
   "metadata": {},
   "source": [
    "## Create anndata for switches in JS"
   ]
  },
  {
   "cell_type": "code",
   "execution_count": 54,
   "metadata": {},
   "outputs": [],
   "source": [
    "REPRESENT = \"switch\""
   ]
  },
  {
   "cell_type": "code",
   "execution_count": 55,
   "metadata": {},
   "outputs": [],
   "source": [
    "adata.X = csr_matrix(adata.X)"
   ]
  },
  {
   "cell_type": "code",
   "execution_count": 56,
   "metadata": {},
   "outputs": [],
   "source": [
    "# take log2 of RPKM+1\n",
    "sc.pp.log1p(adata, base=2)"
   ]
  },
  {
   "cell_type": "code",
   "execution_count": 57,
   "metadata": {},
   "outputs": [
    {
     "data": {
      "text/plain": [
       "(0.0, 10.249852655557493)"
      ]
     },
     "execution_count": 57,
     "metadata": {},
     "output_type": "execute_result"
    }
   ],
   "source": [
    "# calculate reference genes\n",
    "\n",
    "rab7a = adata[:, adata.var_names.isin(['RAB7A'])].X.toarray()\n",
    "gapdh = adata[:, adata.var_names.isin(['GAPDH'])].X.toarray()\n",
    "actp = adata[:, adata.var_names.isin(['ACTB'])].X.toarray()\n",
    "\n",
    "ref_norm = (rab7a + gapdh + actp) * (1/3)\n",
    "ref_norm.min(), ref_norm.max()"
   ]
  },
  {
   "cell_type": "code",
   "execution_count": 58,
   "metadata": {},
   "outputs": [],
   "source": [
    "adata.obs['ref_norm'] = ref_norm"
   ]
  },
  {
   "cell_type": "code",
   "execution_count": 59,
   "metadata": {},
   "outputs": [],
   "source": [
    "# calculate jane score:\n",
    "# 10 + log2(RPKM) - log2(geomean(RAB7A+1, GAPDH+1, ACTB+1)) if RPKM > 0\n",
    "# 0 if RPKM == 0\n",
    "\n",
    "for obs in range(adata.X.shape[0]):\n",
    "\tnonzeros = adata.X[obs].nonzero()\n",
    "\tadata.X[obs][nonzeros] = adata.X[obs][nonzeros] - ref_norm[obs] + 10"
   ]
  },
  {
   "cell_type": "code",
   "execution_count": 60,
   "metadata": {},
   "outputs": [
    {
     "name": "stdout",
     "output_type": "stream",
     "text": [
      "5079 19154 4980\n"
     ]
    }
   ],
   "source": [
    "# compare genes in switches with genes in rpkm\n",
    "switch_genes = [gene for switch in switch_dict.keys() for gene in switch_dict[switch]]\n",
    "# change to set\n",
    "switch_genes = set(switch_genes)\n",
    "rpkm_genes = set(adata.var_names)\n",
    "\n",
    "# find overlapping genes\n",
    "overlapping_genes = switch_genes.intersection(rpkm_genes)\n",
    "print(len(switch_genes), len(rpkm_genes), len(overlapping_genes))"
   ]
  },
  {
   "cell_type": "code",
   "execution_count": 61,
   "metadata": {},
   "outputs": [],
   "source": [
    "# filter non-overlapping genes from switches\n",
    "for switch in switch_dict.keys():\n",
    "\tswitch_dict[switch] = list(set(switch_dict[switch]).intersection(overlapping_genes))"
   ]
  },
  {
   "cell_type": "code",
   "execution_count": 62,
   "metadata": {},
   "outputs": [],
   "source": [
    "# aggregate rpkm columns using switch_dict\n",
    "m_li = []\n",
    "for switch in switch_dict.keys():\n",
    "\tm = adata[:, adata.var_names.isin(switch_dict[switch])].X.mean(axis=1)\n",
    "\tm_li.append(csr_matrix(m))\n",
    "\n",
    "final_m = hstack(m_li)"
   ]
  },
  {
   "cell_type": "code",
   "execution_count": 63,
   "metadata": {},
   "outputs": [],
   "source": [
    "# saving js switch data\n",
    "pd.DataFrame(final_m.toarray().T, columns=adata.obs_names, index=switch_dict.keys()).to_csv(save_dir + \"js_switch.csv\", sep='\\t')"
   ]
  },
  {
   "cell_type": "code",
   "execution_count": 64,
   "metadata": {},
   "outputs": [
    {
     "data": {
      "text/plain": [
       "<1905x489 sparse matrix of type '<class 'numpy.float64'>'\n",
       "\twith 492719 stored elements in Compressed Sparse Row format>"
      ]
     },
     "execution_count": 64,
     "metadata": {},
     "output_type": "execute_result"
    }
   ],
   "source": [
    "# convert data to AnnData\n",
    "adata_processed = anndata.AnnData(final_m)\n",
    "adata_processed.X"
   ]
  },
  {
   "cell_type": "code",
   "execution_count": 65,
   "metadata": {},
   "outputs": [],
   "source": [
    "adata_processed.obs_names = adata.obs_names\n",
    "adata_processed.var_names = switch_dict.keys()"
   ]
  },
  {
   "cell_type": "code",
   "execution_count": 66,
   "metadata": {},
   "outputs": [],
   "source": [
    "PCA_ncomps = 90"
   ]
  },
  {
   "cell_type": "markdown",
   "metadata": {},
   "source": [
    "## SEACells Clustering and UMAP"
   ]
  },
  {
   "cell_type": "code",
   "execution_count": 67,
   "metadata": {},
   "outputs": [],
   "source": [
    "sc.tl.pca(adata_processed, n_comps=PCA_ncomps)"
   ]
  },
  {
   "cell_type": "code",
   "execution_count": 68,
   "metadata": {},
   "outputs": [
    {
     "name": "stdout",
     "output_type": "stream",
     "text": [
      "# 90 PC's capture 95% of variance\n"
     ]
    }
   ],
   "source": [
    "cumsum = np.cumsum(adata_processed.uns['pca']['variance_ratio'])\n",
    "print(\"#\", np.count_nonzero(cumsum < 0.95), \"PC's capture 95% of variance\")"
   ]
  },
  {
   "cell_type": "code",
   "execution_count": 69,
   "metadata": {},
   "outputs": [
    {
     "name": "stdout",
     "output_type": "stream",
     "text": [
      "WARNING: saving figure to file figures/umap_NGJ_switch.png\n"
     ]
    },
    {
     "data": {
      "image/png": "[encoded data removed]",
      "text/plain": [
       "<Figure size 400x400 with 1 Axes>"
      ]
     },
     "metadata": {},
     "output_type": "display_data"
    }
   ],
   "source": [
    "sc.pp.neighbors(adata_processed)\n",
    "sc.tl.umap(adata_processed)\n",
    "sc.pl.umap(adata_processed, save=f'_{dataset_name}_{REPRESENT}.png', title=f'UMAP {REPRESENT}')"
   ]
  },
  {
   "cell_type": "markdown",
   "metadata": {},
   "source": [
    "### Run SEACells"
   ]
  },
  {
   "cell_type": "code",
   "execution_count": 70,
   "metadata": {},
   "outputs": [],
   "source": [
    "## Core parameters\n",
    "n_SEACells = 15\n",
    "build_kernel_on = 'X_pca'\n",
    "\n",
    "## Additional parameters\n",
    "n_waypoint_eigs = 10 # Number of eigenvalues to consider when initializing metacells !!not sure how to tune"
   ]
  },
  {
   "cell_type": "code",
   "execution_count": 71,
   "metadata": {},
   "outputs": [
    {
     "name": "stdout",
     "output_type": "stream",
     "text": [
      "Welcome to SEACells!\n"
     ]
    }
   ],
   "source": [
    "model = SEACells.core.SEACells(adata_processed,\n",
    "                  build_kernel_on=build_kernel_on,\n",
    "                  n_SEACells=n_SEACells,\n",
    "                  n_waypoint_eigs=n_waypoint_eigs,\n",
    "                  convergence_epsilon = 1e-5)"
   ]
  },
  {
   "cell_type": "code",
   "execution_count": 72,
   "metadata": {},
   "outputs": [
    {
     "name": "stdout",
     "output_type": "stream",
     "text": [
      "Computing kNN graph using scanpy NN ...\n",
      "Computing radius for adaptive bandwidth kernel...\n"
     ]
    },
    {
     "data": {
      "application/vnd.jupyter.widget-view+json": {
       "model_id": "505b524eb7a241a582bdf76426b2f556",
       "version_major": 2,
       "version_minor": 0
      },
      "text/plain": [
       "  0%|          | 0/1905 [00:00<?, ?it/s]"
      ]
     },
     "metadata": {},
     "output_type": "display_data"
    },
    {
     "name": "stdout",
     "output_type": "stream",
     "text": [
      "Making graph symmetric...\n",
      "Parameter graph_construction = union being used to build KNN graph...\n",
      "Computing RBF kernel...\n"
     ]
    },
    {
     "data": {
      "application/vnd.jupyter.widget-view+json": {
       "model_id": "85991026ca92426eb9c179941be7f9ce",
       "version_major": 2,
       "version_minor": 0
      },
      "text/plain": [
       "  0%|          | 0/1905 [00:00<?, ?it/s]"
      ]
     },
     "metadata": {},
     "output_type": "display_data"
    },
    {
     "name": "stdout",
     "output_type": "stream",
     "text": [
      "Building similarity LIL matrix...\n"
     ]
    },
    {
     "data": {
      "application/vnd.jupyter.widget-view+json": {
       "model_id": "37bcfef577fa4dfdbb50d3ff7064a710",
       "version_major": 2,
       "version_minor": 0
      },
      "text/plain": [
       "  0%|          | 0/1905 [00:00<?, ?it/s]"
      ]
     },
     "metadata": {},
     "output_type": "display_data"
    },
    {
     "name": "stdout",
     "output_type": "stream",
     "text": [
      "Constructing CSR matrix...\n"
     ]
    }
   ],
   "source": [
    "model.construct_kernel_matrix()\n",
    "M = model.kernel_matrix"
   ]
  },
  {
   "cell_type": "code",
   "execution_count": 73,
   "metadata": {},
   "outputs": [
    {
     "name": "stdout",
     "output_type": "stream",
     "text": [
      "Building kernel on X_pca\n",
      "Computing diffusion components from X_pca for waypoint initialization ... \n",
      "Done.\n",
      "Sampling waypoints ...\n",
      "Done.\n",
      "Selecting 9 cells from waypoint initialization.\n",
      "Initializing residual matrix using greedy column selection\n",
      "Initializing f and g...\n"
     ]
    },
    {
     "name": "stderr",
     "output_type": "stream",
     "text": [
      "100%|██████████| 16/16 [00:00<00:00, 665.25it/s]"
     ]
    },
    {
     "name": "stdout",
     "output_type": "stream",
     "text": [
      "Selecting 6 cells from greedy initialization.\n"
     ]
    },
    {
     "name": "stderr",
     "output_type": "stream",
     "text": [
      "\n"
     ]
    }
   ],
   "source": [
    "# Initialize archetypes\n",
    "model.initialize_archetypes()"
   ]
  },
  {
   "cell_type": "code",
   "execution_count": 74,
   "metadata": {},
   "outputs": [
    {
     "data": {
      "image/png": "[encoded data removed]",
      "text/plain": [
       "<Figure size 400x400 with 1 Axes>"
      ]
     },
     "metadata": {},
     "output_type": "display_data"
    }
   ],
   "source": [
    "# Plot the initilization to ensure they are spread across phenotypic space\n",
    "SEACells.plot.plot_initialization(adata_processed, model)"
   ]
  },
  {
   "cell_type": "code",
   "execution_count": 75,
   "metadata": {},
   "outputs": [
    {
     "name": "stdout",
     "output_type": "stream",
     "text": [
      "Randomly initialized A matrix.\n",
      "Setting convergence threshold at 0.00077\n",
      "Starting iteration 1.\n",
      "Completed iteration 1.\n",
      "Starting iteration 10.\n",
      "Completed iteration 10.\n",
      "Starting iteration 20.\n",
      "Completed iteration 20.\n",
      "Converged after 23 iterations.\n"
     ]
    }
   ],
   "source": [
    "model.fit(min_iter=10, max_iter=100)"
   ]
  },
  {
   "cell_type": "markdown",
   "metadata": {},
   "source": [
    "### Assessing results"
   ]
  },
  {
   "cell_type": "code",
   "execution_count": 76,
   "metadata": {},
   "outputs": [
    {
     "data": {
      "image/png": "[encoded data removed]",
      "text/plain": [
       "<Figure size 400x400 with 1 Axes>"
      ]
     },
     "metadata": {},
     "output_type": "display_data"
    }
   ],
   "source": [
    "# Check for convergence\n",
    "model.plot_convergence()"
   ]
  },
  {
   "cell_type": "code",
   "execution_count": 77,
   "metadata": {},
   "outputs": [
    {
     "data": {
      "text/html": [
       "<div>\n",
       "<style scoped>\n",
       "    .dataframe tbody tr th:only-of-type {\n",
       "        vertical-align: middle;\n",
       "    }\n",
       "\n",
       "    .dataframe tbody tr th {\n",
       "        vertical-align: top;\n",
       "    }\n",
       "\n",
       "    .dataframe thead th {\n",
       "        text-align: right;\n",
       "    }\n",
       "</style>\n",
       "<table border=\"1\" class=\"dataframe\">\n",
       "  <thead>\n",
       "    <tr style=\"text-align: right;\">\n",
       "      <th></th>\n",
       "      <th>SEACell</th>\n",
       "    </tr>\n",
       "    <tr>\n",
       "      <th>index</th>\n",
       "      <th></th>\n",
       "    </tr>\n",
       "  </thead>\n",
       "  <tbody>\n",
       "    <tr>\n",
       "      <th>AAACCCAAGCAGCACA-1</th>\n",
       "      <td>SEACell-5</td>\n",
       "    </tr>\n",
       "    <tr>\n",
       "      <th>AAACGAAAGACCGTTT-1</th>\n",
       "      <td>SEACell-9</td>\n",
       "    </tr>\n",
       "    <tr>\n",
       "      <th>AAACGAAAGGGCGAAG-1</th>\n",
       "      <td>SEACell-10</td>\n",
       "    </tr>\n",
       "    <tr>\n",
       "      <th>AAACGCTTCCTCGCAT-1</th>\n",
       "      <td>SEACell-1</td>\n",
       "    </tr>\n",
       "    <tr>\n",
       "      <th>AAAGAACAGGGAGGAC-1</th>\n",
       "      <td>SEACell-6</td>\n",
       "    </tr>\n",
       "  </tbody>\n",
       "</table>\n",
       "</div>"
      ],
      "text/plain": [
       "                       SEACell\n",
       "index                         \n",
       "AAACCCAAGCAGCACA-1   SEACell-5\n",
       "AAACGAAAGACCGTTT-1   SEACell-9\n",
       "AAACGAAAGGGCGAAG-1  SEACell-10\n",
       "AAACGCTTCCTCGCAT-1   SEACell-1\n",
       "AAAGAACAGGGAGGAC-1   SEACell-6"
      ]
     },
     "execution_count": 77,
     "metadata": {},
     "output_type": "execute_result"
    }
   ],
   "source": [
    "model.get_hard_assignments().head()"
   ]
  },
  {
   "cell_type": "code",
   "execution_count": 78,
   "metadata": {},
   "outputs": [
    {
     "name": "stdout",
     "output_type": "stream",
     "text": [
      "WARNING: saving figure to file figures/umap_SEACells_NGJ_switch.png\n"
     ]
    },
    {
     "data": {
      "image/png": "[encoded data removed]",
      "text/plain": [
       "<Figure size 400x400 with 1 Axes>"
      ]
     },
     "metadata": {},
     "output_type": "display_data"
    }
   ],
   "source": [
    "sc.pl.umap(adata_processed, color='SEACell', save=f'_SEACells_{dataset_name}_{REPRESENT}.png')"
   ]
  },
  {
   "cell_type": "code",
   "execution_count": 79,
   "metadata": {},
   "outputs": [
    {
     "name": "stderr",
     "output_type": "stream",
     "text": [
      "/Users/CJChen/Desktop/PeerLab/probablistic-model/venv/lib/python3.11/site-packages/SEACells/plot.py:121: FutureWarning: The default of observed=False is deprecated and will be changed to True in a future version of pandas. Pass observed=False to retain current behavior or observed=True to adopt the future default and silence this warning.\n",
      "  sns.distplot(label_df.groupby('SEACell').count().iloc[:, 0], bins=bins)\n",
      "/Users/CJChen/Desktop/PeerLab/probablistic-model/venv/lib/python3.11/site-packages/SEACells/plot.py:121: UserWarning: \n",
      "\n",
      "`distplot` is a deprecated function and will be removed in seaborn v0.14.0.\n",
      "\n",
      "Please adapt your code to use either `displot` (a figure-level function with\n",
      "similar flexibility) or `histplot` (an axes-level function for histograms).\n",
      "\n",
      "For a guide to updating your code to use the new functions, please see\n",
      "https://gist.github.com/mwaskom/de44147ed2974457ad6372750bbe5751\n",
      "\n",
      "  sns.distplot(label_df.groupby('SEACell').count().iloc[:, 0], bins=bins)\n"
     ]
    },
    {
     "data": {
      "image/png": "[encoded data removed]",
      "text/plain": [
       "<Figure size 500x500 with 1 Axes>"
      ]
     },
     "metadata": {},
     "output_type": "display_data"
    },
    {
     "name": "stderr",
     "output_type": "stream",
     "text": [
      "/Users/CJChen/Desktop/PeerLab/probablistic-model/venv/lib/python3.11/site-packages/SEACells/plot.py:131: FutureWarning: The default of observed=False is deprecated and will be changed to True in a future version of pandas. Pass observed=False to retain current behavior or observed=True to adopt the future default and silence this warning.\n",
      "  return pd.DataFrame(label_df.groupby('SEACell').count().iloc[:, 0]).rename(columns={'index':'size'})\n"
     ]
    },
    {
     "data": {
      "text/html": [
       "<div>\n",
       "<style scoped>\n",
       "    .dataframe tbody tr th:only-of-type {\n",
       "        vertical-align: middle;\n",
       "    }\n",
       "\n",
       "    .dataframe tbody tr th {\n",
       "        vertical-align: top;\n",
       "    }\n",
       "\n",
       "    .dataframe thead th {\n",
       "        text-align: right;\n",
       "    }\n",
       "</style>\n",
       "<table border=\"1\" class=\"dataframe\">\n",
       "  <thead>\n",
       "    <tr style=\"text-align: right;\">\n",
       "      <th></th>\n",
       "      <th>size</th>\n",
       "    </tr>\n",
       "    <tr>\n",
       "      <th>SEACell</th>\n",
       "      <th></th>\n",
       "    </tr>\n",
       "  </thead>\n",
       "  <tbody>\n",
       "    <tr>\n",
       "      <th>SEACell-0</th>\n",
       "      <td>128</td>\n",
       "    </tr>\n",
       "    <tr>\n",
       "      <th>SEACell-1</th>\n",
       "      <td>114</td>\n",
       "    </tr>\n",
       "    <tr>\n",
       "      <th>SEACell-2</th>\n",
       "      <td>433</td>\n",
       "    </tr>\n",
       "    <tr>\n",
       "      <th>SEACell-3</th>\n",
       "      <td>120</td>\n",
       "    </tr>\n",
       "    <tr>\n",
       "      <th>SEACell-4</th>\n",
       "      <td>120</td>\n",
       "    </tr>\n",
       "    <tr>\n",
       "      <th>SEACell-5</th>\n",
       "      <td>126</td>\n",
       "    </tr>\n",
       "    <tr>\n",
       "      <th>SEACell-6</th>\n",
       "      <td>321</td>\n",
       "    </tr>\n",
       "    <tr>\n",
       "      <th>SEACell-7</th>\n",
       "      <td>77</td>\n",
       "    </tr>\n",
       "    <tr>\n",
       "      <th>SEACell-8</th>\n",
       "      <td>67</td>\n",
       "    </tr>\n",
       "    <tr>\n",
       "      <th>SEACell-9</th>\n",
       "      <td>73</td>\n",
       "    </tr>\n",
       "    <tr>\n",
       "      <th>SEACell-10</th>\n",
       "      <td>46</td>\n",
       "    </tr>\n",
       "    <tr>\n",
       "      <th>SEACell-11</th>\n",
       "      <td>106</td>\n",
       "    </tr>\n",
       "    <tr>\n",
       "      <th>SEACell-12</th>\n",
       "      <td>72</td>\n",
       "    </tr>\n",
       "    <tr>\n",
       "      <th>SEACell-13</th>\n",
       "      <td>49</td>\n",
       "    </tr>\n",
       "    <tr>\n",
       "      <th>SEACell-14</th>\n",
       "      <td>53</td>\n",
       "    </tr>\n",
       "  </tbody>\n",
       "</table>\n",
       "</div>"
      ],
      "text/plain": [
       "            size\n",
       "SEACell         \n",
       "SEACell-0    128\n",
       "SEACell-1    114\n",
       "SEACell-2    433\n",
       "SEACell-3    120\n",
       "SEACell-4    120\n",
       "SEACell-5    126\n",
       "SEACell-6    321\n",
       "SEACell-7     77\n",
       "SEACell-8     67\n",
       "SEACell-9     73\n",
       "SEACell-10    46\n",
       "SEACell-11   106\n",
       "SEACell-12    72\n",
       "SEACell-13    49\n",
       "SEACell-14    53"
      ]
     },
     "execution_count": 79,
     "metadata": {},
     "output_type": "execute_result"
    }
   ],
   "source": [
    "SEACells.plot.plot_SEACell_sizes(adata_processed, bins=10)"
   ]
  },
  {
   "cell_type": "markdown",
   "metadata": {},
   "source": [
    "# Saving Results"
   ]
  },
  {
   "cell_type": "code",
   "execution_count": 80,
   "metadata": {},
   "outputs": [],
   "source": [
    "model.get_hard_assignments().to_csv(save_dir + f'SEACell_assignments_{REPRESENT}.csv', sep='\\t')"
   ]
  },
  {
   "cell_type": "code",
   "execution_count": null,
   "metadata": {},
   "outputs": [],
   "source": []
  }
 ],
 "metadata": {
  "kernelspec": {
   "display_name": "Python 3 (ipykernel)",
   "language": "python",
   "name": "python3"
  },
  "language_info": {
   "codemirror_mode": {
    "name": "ipython",
    "version": 3
   },
   "file_extension": ".py",
   "mimetype": "text/x-python",
   "name": "python",
   "nbconvert_exporter": "python",
   "pygments_lexer": "ipython3",
   "version": "3.11.7"
  }
 },
 "nbformat": 4,
 "nbformat_minor": 2
}
